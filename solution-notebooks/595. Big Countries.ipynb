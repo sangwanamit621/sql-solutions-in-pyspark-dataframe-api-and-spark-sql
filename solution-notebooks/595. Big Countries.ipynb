{
 "cells": [
  {
   "cell_type": "code",
   "execution_count": 0,
   "metadata": {
    "application/vnd.databricks.v1+cell": {
     "cellMetadata": {
      "byteLimit": 2048000,
      "rowLimit": 10000
     },
     "inputWidgets": {},
     "nuid": "9105cddc-cac8-4762-a6ea-0481ef58b4aa",
     "showTitle": false,
     "title": ""
    }
   },
   "outputs": [],
   "source": [
    "from pyspark import SparkConf\n",
    "from pyspark.sql.session import SparkSession\n",
    "from pyspark.sql.types import StructField, StructType,StringType,IntegerType,LongType\n",
    "from pyspark.sql.functions import col\n",
    "\n",
    "spark = SparkSession.builder.master(\"local[*]\").appName(\"app\").getOrCreate()"
   ]
  },
  {
   "cell_type": "code",
   "execution_count": 0,
   "metadata": {
    "application/vnd.databricks.v1+cell": {
     "cellMetadata": {
      "byteLimit": 2048000,
      "rowLimit": 10000
     },
     "inputWidgets": {},
     "nuid": "baba3998-4507-41ab-a659-dac92c94978f",
     "showTitle": false,
     "title": ""
    }
   },
   "outputs": [
    {
     "output_type": "stream",
     "name": "stdout",
     "output_type": "stream",
     "text": [
      "+-----------+---------+-------+----------+------------+\n|       name|continent|   area|population|         gdp|\n+-----------+---------+-------+----------+------------+\n|Afghanistan|     Asia| 652230|  25500100| 20343000000|\n|    Albania|   Europe|  28748|   2831741| 12960000000|\n|    Algeria|   Africa|2381741|  37100000|188681000000|\n|    Andorra|   Europe|    468|     78115|  3712000000|\n|     Angola|   Africa|1246700|  20609294|100990000000|\n+-----------+---------+-------+----------+------------+\n\n"
     ]
    }
   ],
   "source": [
    "schema = StructType(\n",
    "    [\n",
    "        StructField(\"name\", StringType(),False),\n",
    "        StructField(\"continent\",StringType(),False),\n",
    "        StructField(\"area\",IntegerType(),False),\n",
    "        StructField(\"population\", IntegerType(), False),\n",
    "        StructField(\"gdp\",LongType(),False)\n",
    "    ]\n",
    ")\n",
    "\n",
    "data = [\n",
    "    (\"Afghanistan\" , \"Asia\"      , 652230  , 25500100   , 20343000000)  ,\n",
    "    (\"Albania\"     , \"Europe\"    , 28748   , 2831741    , 12960000000)  ,\n",
    "    (\"Algeria\"     , \"Africa\"    , 2381741 , 37100000   , 188681000000) ,\n",
    "    (\"Andorra\"     , \"Europe\"    , 468     , 78115      , 3712000000 )  ,\n",
    "    (\"Angola\"      , \"Africa\"    , 1246700 , 20609294   , 100990000000)\n",
    "]\n",
    "\n",
    "world = spark.createDataFrame(data,schema)\n",
    "world.show()\n"
   ]
  },
  {
   "cell_type": "code",
   "execution_count": 0,
   "metadata": {
    "application/vnd.databricks.v1+cell": {
     "cellMetadata": {
      "byteLimit": 2048000,
      "rowLimit": 10000
     },
     "inputWidgets": {},
     "nuid": "9af2efdd-6490-45f8-b30b-c1c9ac5b6f8a",
     "showTitle": false,
     "title": ""
    }
   },
   "outputs": [
    {
     "output_type": "stream",
     "name": "stdout",
     "output_type": "stream",
     "text": [
      "+-----------+----------+-------+\n|       name|population|   area|\n+-----------+----------+-------+\n|Afghanistan|  25500100| 652230|\n|    Algeria|  37100000|2381741|\n+-----------+----------+-------+\n\n"
     ]
    }
   ],
   "source": [
    "# A country is big if:\n",
    "#     * it has an area of at least three million (i.e., 3000000 km2), or\n",
    "#     * it has a population of at least twenty-five million (i.e., 25000000).\n",
    "# Write a solution to find the name, population, and area of the big countries. Return the result table in any order.\n",
    "\n",
    "world.where((col(\"area\")>= 3000000) | (col(\"population\")>=25000000)).select(\"name\",\"population\",\"area\").show()"
   ]
  },
  {
   "cell_type": "code",
   "execution_count": 0,
   "metadata": {
    "application/vnd.databricks.v1+cell": {
     "cellMetadata": {
      "byteLimit": 2048000,
      "rowLimit": 10000
     },
     "inputWidgets": {},
     "nuid": "b342a6cf-decd-4239-a36b-ef65d105f447",
     "showTitle": false,
     "title": ""
    }
   },
   "outputs": [
    {
     "output_type": "stream",
     "name": "stdout",
     "output_type": "stream",
     "text": [
      "+-----------+-------+----------+\n|       name|   area|population|\n+-----------+-------+----------+\n|Afghanistan| 652230|  25500100|\n|    Algeria|2381741|  37100000|\n+-----------+-------+----------+\n\n"
     ]
    }
   ],
   "source": [
    "world = world.createOrReplaceTempView(\"world\")\n",
    "spark.sql(\"select name,area,population from world where population>=25000000 or area>=3000000;\").show()"
   ]
  },
  {
   "cell_type": "code",
   "execution_count": 0,
   "metadata": {
    "application/vnd.databricks.v1+cell": {
     "cellMetadata": {
      "byteLimit": 2048000,
      "rowLimit": 10000
     },
     "inputWidgets": {},
     "nuid": "f81848d0-0729-4efd-80dd-9b52b3d85f98",
     "showTitle": false,
     "title": ""
    }
   },
   "outputs": [
    {
     "output_type": "display_data",
     "data": {
      "text/html": [
       "<style scoped>\n",
       "  .ansiout {\n",
       "    display: block;\n",
       "    unicode-bidi: embed;\n",
       "    white-space: pre-wrap;\n",
       "    word-wrap: break-word;\n",
       "    word-break: break-all;\n",
       "    font-family: \"Menlo\", \"Monaco\", \"Consolas\", \"Ubuntu Mono\", \"Source Code Pro\", monospace;\n",
       "    font-size: 13px;\n",
       "    color: #555;\n",
       "    margin-left: 4px;\n",
       "    line-height: 19px;\n",
       "  }\n",
       "</style>"
      ]
     },
     "metadata": {
      "application/vnd.databricks.v1+output": {
       "arguments": {},
       "data": "",
       "errorSummary": "The spark context has stopped and the driver is restarting. Your notebook will be automatically reattached.",
       "errorTraceType": "html",
       "metadata": {},
       "type": "ipynbError"
      }
     },
     "output_type": "display_data"
    }
   ],
   "source": [
    "spark.stop()"
   ]
  },
  {
   "cell_type": "code",
   "execution_count": 0,
   "metadata": {
    "application/vnd.databricks.v1+cell": {
     "cellMetadata": {},
     "inputWidgets": {},
     "nuid": "3751d8b7-5a3d-44d9-9626-9e14eb68e5b9",
     "showTitle": false,
     "title": ""
    }
   },
   "outputs": [],
   "source": []
  }
 ],
 "metadata": {
  "application/vnd.databricks.v1+notebook": {
   "dashboards": [],
   "language": "python",
   "notebookMetadata": {
    "pythonIndentUnit": 4
   },
   "notebookName": "595. Big Countries",
   "widgets": {}
  }
 },
 "nbformat": 4,
 "nbformat_minor": 0
}
