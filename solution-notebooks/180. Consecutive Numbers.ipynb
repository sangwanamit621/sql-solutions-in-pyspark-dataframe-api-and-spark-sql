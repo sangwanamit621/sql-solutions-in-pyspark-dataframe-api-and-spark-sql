{
 "cells": [
  {
   "cell_type": "code",
   "execution_count": 0,
   "metadata": {
    "application/vnd.databricks.v1+cell": {
     "cellMetadata": {
      "byteLimit": 2048000,
      "rowLimit": 10000
     },
     "inputWidgets": {},
     "nuid": "df5ce6e1-381d-4789-9867-9fcff0a12f81",
     "showTitle": false,
     "title": ""
    }
   },
   "outputs": [],
   "source": [
    "from pyspark import SparkConf\n",
    "from pyspark.sql.session import SparkSession\n",
    "from pyspark.sql.types import StructType,StructField,IntegerType\n",
    "from pyspark.sql.functions import col,lag\n",
    "from pyspark.sql.window import Window\n",
    "\n",
    "spark = SparkSession.builder.appName(\"app\").master(\"local[3]\").getOrCreate()"
   ]
  },
  {
   "cell_type": "code",
   "execution_count": 0,
   "metadata": {
    "application/vnd.databricks.v1+cell": {
     "cellMetadata": {
      "byteLimit": 2048000,
      "rowLimit": 10000
     },
     "inputWidgets": {},
     "nuid": "65f1b7ad-e1bb-46cd-979f-f06f87d42c79",
     "showTitle": false,
     "title": ""
    }
   },
   "outputs": [
    {
     "output_type": "stream",
     "name": "stdout",
     "output_type": "stream",
     "text": [
      "+---+---+\n| id|num|\n+---+---+\n|  1|  1|\n|  2|  1|\n|  3|  1|\n|  4|  2|\n|  5|  1|\n|  6|  2|\n|  7|  2|\n|  8|  1|\n|  9|  1|\n| 10|  1|\n| 11|  1|\n| 12|  1|\n+---+---+\n\n"
     ]
    }
   ],
   "source": [
    "schema = StructType([\n",
    "    StructField(\"id\",IntegerType(),False),\n",
    "    StructField(\"num\",IntegerType(),False)\n",
    "])\n",
    "data = [\n",
    "( 1   , 1 )  ,\n",
    "( 2   , 1 )  ,\n",
    "( 3   , 1 )  ,\n",
    "( 4   , 2 )  ,\n",
    "( 5   , 1 )  ,\n",
    "( 6   , 2 )  ,\n",
    "( 7   , 2 )  ,\n",
    "( 8   , 1 )  ,\n",
    "( 9   , 1 )  ,\n",
    "( 10  , 1 )  ,\n",
    "( 11  , 1 )  ,\n",
    "( 12  , 1 )  \n",
    "]\n",
    "logs = spark.createDataFrame(data,schema)\n",
    "logs.show()"
   ]
  },
  {
   "cell_type": "code",
   "execution_count": 0,
   "metadata": {
    "application/vnd.databricks.v1+cell": {
     "cellMetadata": {
      "byteLimit": 2048000,
      "rowLimit": 10000
     },
     "inputWidgets": {},
     "nuid": "0f620f65-bb95-4fec-9946-877d63448faf",
     "showTitle": false,
     "title": ""
    }
   },
   "outputs": [
    {
     "output_type": "stream",
     "name": "stdout",
     "output_type": "stream",
     "text": [
      "+---+\n|num|\n+---+\n|  1|\n+---+\n\n"
     ]
    }
   ],
   "source": [
    "# Find all numbers that appear at least three times consecutively. Return the result table in any order.\n",
    "window_spec = Window.orderBy(\"id\")\n",
    "logs.select(\"num\",lag(\"num\",1).over(window_spec).alias(\"last_1\"), lag(\"num\",2).over(window_spec).alias(\"last_2\")).filter((col(\"num\")==col(\"last_1\"))&(col(\"num\")==col(\"last_2\"))).select(\"num\").distinct().show()"
   ]
  },
  {
   "cell_type": "code",
   "execution_count": 0,
   "metadata": {
    "application/vnd.databricks.v1+cell": {
     "cellMetadata": {
      "byteLimit": 2048000,
      "rowLimit": 10000
     },
     "inputWidgets": {},
     "nuid": "dd2f27bc-567f-4bc8-a499-64d8eb382804",
     "showTitle": false,
     "title": ""
    }
   },
   "outputs": [
    {
     "output_type": "stream",
     "name": "stdout",
     "output_type": "stream",
     "text": [
      "+---+\n|num|\n+---+\n|  1|\n+---+\n\n"
     ]
    }
   ],
   "source": [
    "logs.createOrReplaceTempView(\"logs\")\n",
    "spark.sql(\"\"\"with cte as (select num, lead(num,1) over(order by id) next1, lag(num,1) over(order by id) last1 from logs)\n",
    "          select distinct num from cte where num=last1 and num=next1\"\"\").show()"
   ]
  },
  {
   "cell_type": "code",
   "execution_count": 0,
   "metadata": {
    "application/vnd.databricks.v1+cell": {
     "cellMetadata": {
      "byteLimit": 2048000,
      "rowLimit": 10000
     },
     "inputWidgets": {},
     "nuid": "dfd93749-89d3-44f4-8b50-8ed4eb619ddb",
     "showTitle": false,
     "title": ""
    }
   },
   "outputs": [
    {
     "output_type": "display_data",
     "data": {
      "text/html": [
       "<style scoped>\n",
       "  .ansiout {\n",
       "    display: block;\n",
       "    unicode-bidi: embed;\n",
       "    white-space: pre-wrap;\n",
       "    word-wrap: break-word;\n",
       "    word-break: break-all;\n",
       "    font-family: \"Menlo\", \"Monaco\", \"Consolas\", \"Ubuntu Mono\", \"Source Code Pro\", monospace;\n",
       "    font-size: 13px;\n",
       "    color: #555;\n",
       "    margin-left: 4px;\n",
       "    line-height: 19px;\n",
       "  }\n",
       "</style>"
      ]
     },
     "metadata": {
      "application/vnd.databricks.v1+output": {
       "arguments": {},
       "data": "",
       "errorSummary": "The spark context has stopped and the driver is restarting. Your notebook will be automatically reattached.",
       "errorTraceType": "html",
       "metadata": {},
       "type": "ipynbError"
      }
     },
     "output_type": "display_data"
    }
   ],
   "source": [
    "spark.stop()"
   ]
  },
  {
   "cell_type": "code",
   "execution_count": 0,
   "metadata": {
    "application/vnd.databricks.v1+cell": {
     "cellMetadata": {},
     "inputWidgets": {},
     "nuid": "7cb9f434-30c4-4ba6-b3ad-365ff6f698de",
     "showTitle": false,
     "title": ""
    }
   },
   "outputs": [],
   "source": []
  }
 ],
 "metadata": {
  "application/vnd.databricks.v1+notebook": {
   "dashboards": [],
   "language": "python",
   "notebookMetadata": {
    "pythonIndentUnit": 4
   },
   "notebookName": "180. Consecutive Numbers",
   "widgets": {}
  }
 },
 "nbformat": 4,
 "nbformat_minor": 0
}
