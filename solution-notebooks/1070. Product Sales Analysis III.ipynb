{
 "cells": [
  {
   "cell_type": "code",
   "execution_count": 0,
   "metadata": {
    "application/vnd.databricks.v1+cell": {
     "cellMetadata": {
      "byteLimit": 2048000,
      "rowLimit": 10000
     },
     "inputWidgets": {},
     "nuid": "285de3e6-1168-4389-8353-64fefb438b24",
     "showTitle": false,
     "title": ""
    }
   },
   "outputs": [],
   "source": [
    "from pyspark import SparkConf\n",
    "from pyspark.sql.session import SparkSession\n",
    "from pyspark.sql.types import StructType,StructField,StringType,IntegerType\n",
    "from pyspark.sql.functions import col,first\n",
    "from pyspark.sql.window import Window\n",
    "\n",
    "spark = SparkSession.builder.appName(\"app\").master(\"local[4]\").getOrCreate()"
   ]
  },
  {
   "cell_type": "code",
   "execution_count": 0,
   "metadata": {
    "application/vnd.databricks.v1+cell": {
     "cellMetadata": {
      "byteLimit": 2048000,
      "rowLimit": 10000
     },
     "inputWidgets": {},
     "nuid": "4bef074c-348b-4f2f-9954-d51c40c47fdd",
     "showTitle": false,
     "title": ""
    }
   },
   "outputs": [
    {
     "output_type": "stream",
     "name": "stdout",
     "output_type": "stream",
     "text": [
      "+-------+----------+----+--------+-----+\n|sale_id|product_id|year|quantity|price|\n+-------+----------+----+--------+-----+\n|      1|       100|2008|      10| 5000|\n|      2|       100|2009|      12| 5000|\n|      7|       200|2011|      15| 9000|\n+-------+----------+----+--------+-----+\n\n"
     ]
    }
   ],
   "source": [
    "schema = StructType([\n",
    "    StructField(\"sale_id\",IntegerType(),False),\n",
    "    StructField(\"product_id\",IntegerType(),False),\n",
    "    StructField(\"year\",IntegerType(),False),\n",
    "    StructField(\"quantity\",IntegerType(),False),\n",
    "    StructField(\"price\",IntegerType(),False)\n",
    "])\n",
    "data = [\n",
    "( 1       , 100        , 2008 , 10       , 5000)  ,\n",
    "( 2       , 100        , 2009 , 12       , 5000)  ,\n",
    "( 7       , 200        , 2011 , 15       , 9000)  \n",
    "]\n",
    "sale = spark.createDataFrame(data,schema)\n",
    "sale.show()"
   ]
  },
  {
   "cell_type": "code",
   "execution_count": 0,
   "metadata": {
    "application/vnd.databricks.v1+cell": {
     "cellMetadata": {
      "byteLimit": 2048000,
      "rowLimit": 10000
     },
     "inputWidgets": {},
     "nuid": "90ecf23f-fd16-4a96-a18a-319e480954ca",
     "showTitle": false,
     "title": ""
    }
   },
   "outputs": [
    {
     "output_type": "stream",
     "name": "stdout",
     "output_type": "stream",
     "text": [
      "+----------+------------+\n|product_id|product_name|\n+----------+------------+\n|       100|       Nokia|\n|       200|       Apple|\n|       300|     Samsung|\n+----------+------------+\n\n"
     ]
    }
   ],
   "source": [
    "schema = StructType([\n",
    "    StructField(\"product_id\",IntegerType(),False),\n",
    "    StructField(\"product_name\",StringType(),False)\n",
    "])\n",
    "data = [\n",
    "    ( 100        , 'Nokia'       ) ,\n",
    "    ( 200        , 'Apple'       ) ,\n",
    "    ( 300        , 'Samsung'     ) \n",
    "]\n",
    "prod = spark.createDataFrame(data,schema)\n",
    "prod.show()"
   ]
  },
  {
   "cell_type": "code",
   "execution_count": 0,
   "metadata": {
    "application/vnd.databricks.v1+cell": {
     "cellMetadata": {
      "byteLimit": 2048000,
      "rowLimit": 10000
     },
     "inputWidgets": {},
     "nuid": "375d0ee5-9e95-4d66-a8fe-6e5d23761e23",
     "showTitle": false,
     "title": ""
    }
   },
   "outputs": [
    {
     "output_type": "stream",
     "name": "stdout",
     "output_type": "stream",
     "text": [
      "+------------+----------+--------+-----+\n|product_name|first_year|quantity|price|\n+------------+----------+--------+-----+\n|       Nokia|      5000|      10| 5000|\n|       Apple|      9000|      15| 9000|\n+------------+----------+--------+-----+\n\n"
     ]
    }
   ],
   "source": [
    "# Write a solution to select the product name, year, quantity, and price for the first year of every product sold. Return the resulting table in any order.\n",
    "window_spec= Window.partitionBy(\"product_id\").orderBy(\"year\")\n",
    "sale\\\n",
    "    .withColumn(\"quantity\",first(\"quantity\").over(window_spec))\\\n",
    "    .withColumn(\"first_year\",first(\"price\").over(window_spec))\\\n",
    "    .withColumn(\"year\",first(\"year\").over(window_spec))\\\n",
    "    .join(prod,prod.product_id==sale.product_id,'inner')\\\n",
    "    .select(\"product_name\",\"first_year\",\"quantity\",\"price\").distinct().show()"
   ]
  },
  {
   "cell_type": "code",
   "execution_count": 0,
   "metadata": {
    "application/vnd.databricks.v1+cell": {
     "cellMetadata": {
      "byteLimit": 2048000,
      "rowLimit": 10000
     },
     "inputWidgets": {},
     "nuid": "6fa61726-a36d-46d1-8da5-f94d13d32a57",
     "showTitle": false,
     "title": ""
    }
   },
   "outputs": [
    {
     "output_type": "stream",
     "name": "stdout",
     "output_type": "stream",
     "text": [
      "+------------+----------+--------+-----+\n|product_name|first_year|quantity|price|\n+------------+----------+--------+-----+\n|       Nokia|      2008|      10| 5000|\n|       Apple|      2011|      15| 9000|\n+------------+----------+--------+-----+\n\n"
     ]
    }
   ],
   "source": [
    "sale.createOrReplaceTempView(\"sale\")\n",
    "prod.createOrReplaceTempView(\"prod\")\n",
    "spark.sql(\"\"\"select product_name,year first_year,quantity,price from sale s join prod p using (product_id) where (product_id,year) in (select product_id,min(year) from sale group by 1 )\n",
    "                                    \"\"\").show()"
   ]
  },
  {
   "cell_type": "code",
   "execution_count": 0,
   "metadata": {
    "application/vnd.databricks.v1+cell": {
     "cellMetadata": {
      "byteLimit": 2048000,
      "rowLimit": 10000
     },
     "inputWidgets": {},
     "nuid": "8b6ae842-1145-495d-9c8d-853880d53387",
     "showTitle": false,
     "title": ""
    }
   },
   "outputs": [
    {
     "output_type": "display_data",
     "data": {
      "text/html": [
       "<style scoped>\n",
       "  .ansiout {\n",
       "    display: block;\n",
       "    unicode-bidi: embed;\n",
       "    white-space: pre-wrap;\n",
       "    word-wrap: break-word;\n",
       "    word-break: break-all;\n",
       "    font-family: \"Menlo\", \"Monaco\", \"Consolas\", \"Ubuntu Mono\", \"Source Code Pro\", monospace;\n",
       "    font-size: 13px;\n",
       "    color: #555;\n",
       "    margin-left: 4px;\n",
       "    line-height: 19px;\n",
       "  }\n",
       "</style>"
      ]
     },
     "metadata": {
      "application/vnd.databricks.v1+output": {
       "arguments": {},
       "data": "",
       "errorSummary": "The spark context has stopped and the driver is restarting. Your notebook will be automatically reattached.",
       "errorTraceType": "html",
       "metadata": {},
       "type": "ipynbError"
      }
     },
     "output_type": "display_data"
    }
   ],
   "source": [
    "spark.stop()"
   ]
  },
  {
   "cell_type": "code",
   "execution_count": 0,
   "metadata": {
    "application/vnd.databricks.v1+cell": {
     "cellMetadata": {},
     "inputWidgets": {},
     "nuid": "56765813-8edc-4088-bcdd-b6ae66cd2765",
     "showTitle": false,
     "title": ""
    }
   },
   "outputs": [],
   "source": []
  }
 ],
 "metadata": {
  "application/vnd.databricks.v1+notebook": {
   "dashboards": [],
   "language": "python",
   "notebookMetadata": {
    "pythonIndentUnit": 4
   },
   "notebookName": "1070. Product Sales Analysis III",
   "widgets": {}
  }
 },
 "nbformat": 4,
 "nbformat_minor": 0
}
