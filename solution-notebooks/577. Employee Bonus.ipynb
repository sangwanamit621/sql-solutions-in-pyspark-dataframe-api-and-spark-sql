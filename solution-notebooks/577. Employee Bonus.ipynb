{
 "cells": [
  {
   "cell_type": "code",
   "execution_count": 0,
   "metadata": {
    "application/vnd.databricks.v1+cell": {
     "cellMetadata": {
      "byteLimit": 2048000,
      "rowLimit": 10000
     },
     "inputWidgets": {},
     "nuid": "982ea72f-47bf-4526-9400-64254eaa3bae",
     "showTitle": false,
     "title": ""
    }
   },
   "outputs": [],
   "source": [
    "from pyspark import SparkConf\n",
    "from pyspark.sql.session import SparkSession\n",
    "from pyspark.sql.types import StructField,StructType,StringType,IntegerType\n",
    "from pyspark.sql.functions import col\n",
    "\n",
    "spark = SparkSession.builder.appName(\"app\").master(\"local[2]\").getOrCreate()"
   ]
  },
  {
   "cell_type": "code",
   "execution_count": 0,
   "metadata": {
    "application/vnd.databricks.v1+cell": {
     "cellMetadata": {
      "byteLimit": 2048000,
      "rowLimit": 10000
     },
     "inputWidgets": {},
     "nuid": "5a6a2964-9f0e-4121-abf5-31e31c16c12d",
     "showTitle": false,
     "title": ""
    }
   },
   "outputs": [
    {
     "output_type": "stream",
     "name": "stdout",
     "output_type": "stream",
     "text": [
      "+-----+------+----------+------+\n|empId|  name|supervisor|salary|\n+-----+------+----------+------+\n|    3|  Brad|      null|  4000|\n|    1|  John|         3|  1000|\n|    2|   Dan|         3|  2000|\n|    4|Thomas|         3|  4000|\n+-----+------+----------+------+\n\n+-----+-----+\n|empId|bonus|\n+-----+-----+\n|    2|  500|\n|    4| 2000|\n+-----+-----+\n\n"
     ]
    }
   ],
   "source": [
    "schema = StructType(\n",
    "    [\n",
    "        StructField(\"empId\",IntegerType(),False),\n",
    "        StructField(\"name\",StringType(),False),\n",
    "        StructField(\"supervisor\",IntegerType(), True),\n",
    "        StructField(\"salary\",IntegerType(),True)\n",
    "    ]\n",
    ")\n",
    "data = [\n",
    "    (3,\"Brad\",None,4000),\n",
    "    (1,\"John\",3,1000),\n",
    "    (2,\"Dan\",3,2000),\n",
    "    (4,\"Thomas\",3,4000)\n",
    "]\n",
    "\n",
    "emp = spark.createDataFrame(data,schema)\n",
    "emp.show()\n",
    "\n",
    "schema = StructType(\n",
    "    [\n",
    "        StructField(\"empId\",IntegerType(),False),\n",
    "        StructField(\"bonus\",IntegerType(),False)])\n",
    "\n",
    "data = [\n",
    "    (2,500),\n",
    "    (4,2000)\n",
    "]\n",
    "\n",
    "bonus = spark.createDataFrame(data,schema)\n",
    "bonus.show()\n"
   ]
  },
  {
   "cell_type": "code",
   "execution_count": 0,
   "metadata": {
    "application/vnd.databricks.v1+cell": {
     "cellMetadata": {
      "byteLimit": 2048000,
      "rowLimit": 10000
     },
     "inputWidgets": {},
     "nuid": "07afab3e-705f-4e02-9ad8-b3e56222a34c",
     "showTitle": false,
     "title": ""
    }
   },
   "outputs": [
    {
     "output_type": "stream",
     "name": "stdout",
     "output_type": "stream",
     "text": [
      "+----+-----+\n|name|bonus|\n+----+-----+\n|Brad| null|\n|John| null|\n| Dan|  500|\n+----+-----+\n\n"
     ]
    }
   ],
   "source": [
    "# Write a solution to report the name and bonus amount of each employee with a bonus less than 1000. Return the result table in any order.\n",
    "e = emp.alias(\"e\")\n",
    "b = bonus.alias(\"b\")\n",
    "e.join(b,col(\"e.empId\")==col(\"b.empId\"),\"left\").where((col(\"b.bonus\")<1000) | (col(\"b.bonus\").isNull())).select(\"name\",\"bonus\").show()"
   ]
  },
  {
   "cell_type": "code",
   "execution_count": 0,
   "metadata": {
    "application/vnd.databricks.v1+cell": {
     "cellMetadata": {
      "byteLimit": 2048000,
      "rowLimit": 10000
     },
     "inputWidgets": {},
     "nuid": "4502f9c4-8c97-4bd9-97a4-40db07874028",
     "showTitle": false,
     "title": ""
    }
   },
   "outputs": [
    {
     "output_type": "stream",
     "name": "stdout",
     "output_type": "stream",
     "text": [
      "+----+-----+\n|name|bonus|\n+----+-----+\n|Brad| null|\n|John| null|\n| Dan|  500|\n+----+-----+\n\n"
     ]
    }
   ],
   "source": [
    "emp.createOrReplaceTempView(\"emp\")\n",
    "bonus.createOrReplaceTempView(\"bonus\")\n",
    "\n",
    "spark.sql(\"select e.name,b.bonus from emp e left join bonus b using (empId) where b.bonus<1000 or b.bonus is null\").show()"
   ]
  },
  {
   "cell_type": "code",
   "execution_count": 0,
   "metadata": {
    "application/vnd.databricks.v1+cell": {
     "cellMetadata": {
      "byteLimit": 2048000,
      "rowLimit": 10000
     },
     "inputWidgets": {},
     "nuid": "46bfbd77-7605-46a0-9732-9c2caf29fcae",
     "showTitle": false,
     "title": ""
    }
   },
   "outputs": [
    {
     "output_type": "display_data",
     "data": {
      "text/html": [
       "<style scoped>\n",
       "  .ansiout {\n",
       "    display: block;\n",
       "    unicode-bidi: embed;\n",
       "    white-space: pre-wrap;\n",
       "    word-wrap: break-word;\n",
       "    word-break: break-all;\n",
       "    font-family: \"Menlo\", \"Monaco\", \"Consolas\", \"Ubuntu Mono\", \"Source Code Pro\", monospace;\n",
       "    font-size: 13px;\n",
       "    color: #555;\n",
       "    margin-left: 4px;\n",
       "    line-height: 19px;\n",
       "  }\n",
       "</style>"
      ]
     },
     "metadata": {
      "application/vnd.databricks.v1+output": {
       "arguments": {},
       "data": "",
       "errorSummary": "The spark context has stopped and the driver is restarting. Your notebook will be automatically reattached.",
       "errorTraceType": "html",
       "metadata": {},
       "type": "ipynbError"
      }
     },
     "output_type": "display_data"
    }
   ],
   "source": [
    "spark.stop()"
   ]
  },
  {
   "cell_type": "code",
   "execution_count": 0,
   "metadata": {
    "application/vnd.databricks.v1+cell": {
     "cellMetadata": {},
     "inputWidgets": {},
     "nuid": "fcd879da-6b47-4243-84ac-022bc904735a",
     "showTitle": false,
     "title": ""
    }
   },
   "outputs": [],
   "source": []
  }
 ],
 "metadata": {
  "application/vnd.databricks.v1+notebook": {
   "dashboards": [],
   "language": "python",
   "notebookMetadata": {
    "pythonIndentUnit": 4
   },
   "notebookName": "577. Employee Bonus",
   "widgets": {}
  }
 },
 "nbformat": 4,
 "nbformat_minor": 0
}
