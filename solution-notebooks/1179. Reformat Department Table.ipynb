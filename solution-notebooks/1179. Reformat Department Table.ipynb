{
 "cells": [
  {
   "cell_type": "code",
   "execution_count": 0,
   "metadata": {
    "application/vnd.databricks.v1+cell": {
     "cellMetadata": {
      "byteLimit": 2048000,
      "rowLimit": 10000
     },
     "inputWidgets": {},
     "nuid": "bccae7e9-8215-4221-bf84-4e026251efd2",
     "showTitle": false,
     "title": ""
    }
   },
   "outputs": [],
   "source": [
    "from pyspark import SparkConf\n",
    "from pyspark.sql.session import SparkSession\n",
    "from pyspark.sql.types import StructType, StructField,StringType,IntegerType\n",
    "from pyspark.sql.functions import col,sum\n",
    "\n",
    "spark = SparkSession.builder.appName(\"app\").master(\"local[2]\").getOrCreate()"
   ]
  },
  {
   "cell_type": "code",
   "execution_count": 0,
   "metadata": {
    "application/vnd.databricks.v1+cell": {
     "cellMetadata": {
      "byteLimit": 2048000,
      "rowLimit": 10000
     },
     "inputWidgets": {},
     "nuid": "60ed37af-21b9-4a75-ae7c-9ab5e1c69ff2",
     "showTitle": false,
     "title": ""
    }
   },
   "outputs": [
    {
     "output_type": "stream",
     "name": "stdout",
     "output_type": "stream",
     "text": [
      "+---+-------+-----+\n| id|revenue|month|\n+---+-------+-----+\n|  1|   8000|  Jan|\n|  2|   9000|  Jan|\n|  3|  10000|  Feb|\n|  1|   7000|  Feb|\n|  1|   6000|  Mar|\n+---+-------+-----+\n\n"
     ]
    }
   ],
   "source": [
    "schema = StructType([\n",
    "    StructField(\"id\",IntegerType(),False),\n",
    "    StructField(\"revenue\",IntegerType(),False),\n",
    "    StructField(\"month\",StringType(),False)\n",
    "])\n",
    "\n",
    "data = [\n",
    "(1    , 8000    , \"Jan\")   ,\n",
    "(2    , 9000    , \"Jan\")   ,\n",
    "(3    , 10000   , \"Feb\")   ,\n",
    "(1    , 7000    , \"Feb\")   ,\n",
    "(1    , 6000    , \"Mar\")\n",
    "]\n",
    "dept = spark.createDataFrame(data,schema)\n",
    "dept.show()\n"
   ]
  },
  {
   "cell_type": "code",
   "execution_count": 0,
   "metadata": {
    "application/vnd.databricks.v1+cell": {
     "cellMetadata": {
      "byteLimit": 2048000,
      "rowLimit": 10000
     },
     "inputWidgets": {},
     "nuid": "83f99a41-7520-4b5b-a80c-300e4e715dc4",
     "showTitle": false,
     "title": ""
    }
   },
   "outputs": [
    {
     "output_type": "stream",
     "name": "stdout",
     "output_type": "stream",
     "text": [
      "+---+----+-----+----+----+----+----+----+----+----+----+----+----+\n| id| Jan|  Feb| Mar| Apr| May| Jun| Jul| Aug| Sep| Oct| Nov| Dec|\n+---+----+-----+----+----+----+----+----+----+----+----+----+----+\n|  1|8000| 7000|6000|null|null|null|null|null|null|null|null|null|\n|  2|9000| null|null|null|null|null|null|null|null|null|null|null|\n|  3|null|10000|null|null|null|null|null|null|null|null|null|null|\n+---+----+-----+----+----+----+----+----+----+----+----+----+----+\n\n"
     ]
    }
   ],
   "source": [
    "# Reformat the table such that there is a department id column and a revenue column for each month from even if data is not present.\n",
    "# Return the result table in any order.\n",
    "import calendar\n",
    "months = [calendar.month_abbr[i] for i in range(1,13)]\n",
    "dept.groupBy(\"id\").pivot(\"month\",months).sum(\"revenue\").orderBy(col(\"id\")).show()\n"
   ]
  },
  {
   "cell_type": "code",
   "execution_count": 0,
   "metadata": {
    "application/vnd.databricks.v1+cell": {
     "cellMetadata": {
      "byteLimit": 2048000,
      "rowLimit": 10000
     },
     "inputWidgets": {},
     "nuid": "080a7628-b194-40df-9b4d-0107abfb2f10",
     "showTitle": false,
     "title": ""
    }
   },
   "outputs": [
    {
     "output_type": "stream",
     "name": "stdout",
     "output_type": "stream",
     "text": [
      "+---+----+-----+----+----+----+----+----+----+----+----+----+----+\n| id| Jan|  Feb| Mar| Apr| May| Jun| Jul| Aug| Sep| Oct| Nov| Dec|\n+---+----+-----+----+----+----+----+----+----+----+----+----+----+\n|  1|8000| 7000|6000|null|null|null|null|null|null|null|null|null|\n|  2|9000| null|null|null|null|null|null|null|null|null|null|null|\n|  3|null|10000|null|null|null|null|null|null|null|null|null|null|\n+---+----+-----+----+----+----+----+----+----+----+----+----+----+\n\n"
     ]
    }
   ],
   "source": [
    "dept.createOrReplaceTempView(\"dept\")\n",
    "spark.sql(\"select * from dept pivot( sum(revenue) for `month` in ('Jan', 'Feb', 'Mar', 'Apr', 'May', 'Jun', 'Jul', 'Aug', 'Sep', 'Oct', 'Nov', 'Dec')) order by id\").show()"
   ]
  },
  {
   "cell_type": "code",
   "execution_count": 0,
   "metadata": {
    "application/vnd.databricks.v1+cell": {
     "cellMetadata": {
      "byteLimit": 2048000,
      "rowLimit": 10000
     },
     "inputWidgets": {},
     "nuid": "3df2a22b-5011-44e4-893e-f6b53b49c55a",
     "showTitle": false,
     "title": ""
    }
   },
   "outputs": [
    {
     "output_type": "display_data",
     "data": {
      "text/html": [
       "<style scoped>\n",
       "  .ansiout {\n",
       "    display: block;\n",
       "    unicode-bidi: embed;\n",
       "    white-space: pre-wrap;\n",
       "    word-wrap: break-word;\n",
       "    word-break: break-all;\n",
       "    font-family: \"Menlo\", \"Monaco\", \"Consolas\", \"Ubuntu Mono\", \"Source Code Pro\", monospace;\n",
       "    font-size: 13px;\n",
       "    color: #555;\n",
       "    margin-left: 4px;\n",
       "    line-height: 19px;\n",
       "  }\n",
       "</style>"
      ]
     },
     "metadata": {
      "application/vnd.databricks.v1+output": {
       "arguments": {},
       "data": "",
       "errorSummary": "The spark context has stopped and the driver is restarting. Your notebook will be automatically reattached.",
       "errorTraceType": "html",
       "metadata": {},
       "type": "ipynbError"
      }
     },
     "output_type": "display_data"
    }
   ],
   "source": [
    "spark.stop()"
   ]
  }
 ],
 "metadata": {
  "application/vnd.databricks.v1+notebook": {
   "dashboards": [],
   "language": "python",
   "notebookMetadata": {
    "pythonIndentUnit": 4
   },
   "notebookName": "1179. Reformat Department Table",
   "widgets": {}
  }
 },
 "nbformat": 4,
 "nbformat_minor": 0
}
