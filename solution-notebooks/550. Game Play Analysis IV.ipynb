{
 "cells": [
  {
   "cell_type": "code",
   "execution_count": 0,
   "metadata": {
    "application/vnd.databricks.v1+cell": {
     "cellMetadata": {
      "byteLimit": 2048000,
      "rowLimit": 10000
     },
     "inputWidgets": {},
     "nuid": "6ab225f3-0e78-4649-931c-7d30f20191e2",
     "showTitle": false,
     "title": ""
    }
   },
   "outputs": [],
   "source": [
    "from pyspark import SparkConf\n",
    "from pyspark.sql.session import SparkSession\n",
    "from pyspark.sql.types import StructType, StructField,DateType,IntegerType\n",
    "from pyspark.sql.functions import col,lead,min,when,datediff,sum,round,count_distinct\n",
    "from pyspark.sql.window import Window\n",
    "from datetime import datetime\n",
    "\n",
    "spark = SparkSession.builder.appName(\"app\").master(\"local[2]\").getOrCreate()"
   ]
  },
  {
   "cell_type": "code",
   "execution_count": 0,
   "metadata": {
    "application/vnd.databricks.v1+cell": {
     "cellMetadata": {
      "byteLimit": 2048000,
      "rowLimit": 10000
     },
     "inputWidgets": {},
     "nuid": "5d798f8b-3d32-4bfb-867c-94b43e7b7b69",
     "showTitle": false,
     "title": ""
    }
   },
   "outputs": [
    {
     "output_type": "stream",
     "name": "stdout",
     "output_type": "stream",
     "text": [
      "+---------+---------+----------+------------+\n|player_id|device_id|event_date|games_played|\n+---------+---------+----------+------------+\n|        1|        2|2016-03-01|           5|\n|        1|        2|2016-03-02|           6|\n|        2|        3|2017-06-25|           1|\n|        3|        1|2016-03-02|           0|\n|        3|        4|2018-07-03|           5|\n+---------+---------+----------+------------+\n\n"
     ]
    }
   ],
   "source": [
    "schema = StructType([\n",
    "    StructField(\"player_id\",IntegerType(),False),\n",
    "    StructField(\"device_id\",IntegerType(),False),\n",
    "    StructField(\"event_date\",DateType(),False),\n",
    "    StructField(\"games_played\",IntegerType(),False)\n",
    "])\n",
    "data = [\n",
    "( 1         , 2         , datetime(2016,3,1) , 5  )          ,\n",
    "( 1         , 2         , datetime(2016,3,2) , 6  )          ,\n",
    "( 2         , 3         , datetime(2017,6,25), 1  )          ,\n",
    "( 3         , 1         , datetime(2016,3,2) , 0  )          ,\n",
    "( 3         , 4         , datetime(2018,7,3) , 5  )          \n",
    "]\n",
    "games = spark.createDataFrame(data,schema)\n",
    "games.show()"
   ]
  },
  {
   "cell_type": "code",
   "execution_count": 0,
   "metadata": {
    "application/vnd.databricks.v1+cell": {
     "cellMetadata": {
      "byteLimit": 2048000,
      "rowLimit": 10000
     },
     "inputWidgets": {},
     "nuid": "e5ba32b4-9c88-44bc-bc87-95f5ccdb6924",
     "showTitle": false,
     "title": ""
    }
   },
   "outputs": [
    {
     "output_type": "stream",
     "name": "stdout",
     "output_type": "stream",
     "text": [
      "+--------+\n|fraction|\n+--------+\n|    0.33|\n+--------+\n\n"
     ]
    }
   ],
   "source": [
    "# Write a solution to report the fraction of players that logged in again on the day after the day they first logged in, rounded to 2 decimal places. \n",
    "# In other words, you need to count the number of players that logged in for at least two consecutive days starting from their first login date, \n",
    "# then divide that number by the total number of players.\n",
    "window_spec = Window.partitionBy(\"player_id\").orderBy(\"event_date\")\n",
    "games.withColumn(\"first_login\",min(\"event_date\").over(window_spec))\\\n",
    "     .withColumn(\"next_day_login\",when(datediff(col(\"event_date\"),col(\"first_login\"))==1,1).otherwise(0))\\\n",
    "     .select(round(sum(\"next_day_login\")/count_distinct(\"player_id\"),2).alias(\"fraction\")).show()\n"
   ]
  },
  {
   "cell_type": "code",
   "execution_count": 0,
   "metadata": {
    "application/vnd.databricks.v1+cell": {
     "cellMetadata": {
      "byteLimit": 2048000,
      "rowLimit": 10000
     },
     "inputWidgets": {},
     "nuid": "eab4b117-c86c-49d1-bc99-31ad6cb1127d",
     "showTitle": false,
     "title": ""
    }
   },
   "outputs": [
    {
     "output_type": "stream",
     "name": "stdout",
     "output_type": "stream",
     "text": [
      "+--------+\n|fraction|\n+--------+\n|    0.33|\n+--------+\n\n"
     ]
    }
   ],
   "source": [
    "\n",
    "games.createOrReplaceTempView(\"games\")\n",
    "spark.sql(\"\"\"with cte as \n",
    "                    (select player_id, event_date, min(event_date) over(partition by player_id order by event_date) as first_login from games)\n",
    "            select round(sum(case when dateadd(first_login, 1)=event_date then 1 else 0 end)/count(distinct player_id),2) as fraction from cte\n",
    "                            \"\"\").show()"
   ]
  },
  {
   "cell_type": "code",
   "execution_count": 0,
   "metadata": {
    "application/vnd.databricks.v1+cell": {
     "cellMetadata": {
      "byteLimit": 2048000,
      "rowLimit": 10000
     },
     "inputWidgets": {},
     "nuid": "70193a5e-93a3-4742-9bc2-e2667ab268c9",
     "showTitle": false,
     "title": ""
    }
   },
   "outputs": [
    {
     "output_type": "display_data",
     "data": {
      "text/html": [
       "<style scoped>\n",
       "  .ansiout {\n",
       "    display: block;\n",
       "    unicode-bidi: embed;\n",
       "    white-space: pre-wrap;\n",
       "    word-wrap: break-word;\n",
       "    word-break: break-all;\n",
       "    font-family: \"Menlo\", \"Monaco\", \"Consolas\", \"Ubuntu Mono\", \"Source Code Pro\", monospace;\n",
       "    font-size: 13px;\n",
       "    color: #555;\n",
       "    margin-left: 4px;\n",
       "    line-height: 19px;\n",
       "  }\n",
       "</style>"
      ]
     },
     "metadata": {
      "application/vnd.databricks.v1+output": {
       "arguments": {},
       "data": "",
       "errorSummary": "The spark context has stopped and the driver is restarting. Your notebook will be automatically reattached.",
       "errorTraceType": "html",
       "metadata": {},
       "type": "ipynbError"
      }
     },
     "output_type": "display_data"
    }
   ],
   "source": [
    "spark.stop()"
   ]
  },
  {
   "cell_type": "code",
   "execution_count": 0,
   "metadata": {
    "application/vnd.databricks.v1+cell": {
     "cellMetadata": {},
     "inputWidgets": {},
     "nuid": "1cf9757e-9173-47cd-8c87-5c2d127c6135",
     "showTitle": false,
     "title": ""
    }
   },
   "outputs": [],
   "source": []
  }
 ],
 "metadata": {
  "application/vnd.databricks.v1+notebook": {
   "dashboards": [],
   "language": "python",
   "notebookMetadata": {
    "pythonIndentUnit": 4
   },
   "notebookName": "550. Game Play Analysis IV",
   "widgets": {}
  }
 },
 "nbformat": 4,
 "nbformat_minor": 0
}
