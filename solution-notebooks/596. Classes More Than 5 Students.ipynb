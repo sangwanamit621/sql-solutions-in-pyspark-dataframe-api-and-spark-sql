{
 "cells": [
  {
   "cell_type": "code",
   "execution_count": 0,
   "metadata": {
    "application/vnd.databricks.v1+cell": {
     "cellMetadata": {
      "byteLimit": 2048000,
      "rowLimit": 10000
     },
     "inputWidgets": {},
     "nuid": "80180d32-10a9-4611-b249-9170fb764b4f",
     "showTitle": false,
     "title": ""
    }
   },
   "outputs": [],
   "source": [
    "from pyspark  import SparkConf\n",
    "from pyspark.sql.session import SparkSession\n",
    "from pyspark.sql.types import StringType, StructType, StructField \n",
    "from pyspark.sql.functions import col,count\n",
    "\n",
    "spark = SparkSession.builder.master(\"local[*]\").appName(\"app\").getOrCreate()"
   ]
  },
  {
   "cell_type": "code",
   "execution_count": 0,
   "metadata": {
    "application/vnd.databricks.v1+cell": {
     "cellMetadata": {
      "byteLimit": 2048000,
      "rowLimit": 10000
     },
     "inputWidgets": {},
     "nuid": "9484cd01-33cd-4b26-a99a-a0b452995114",
     "showTitle": false,
     "title": ""
    }
   },
   "outputs": [
    {
     "output_type": "stream",
     "name": "stdout",
     "output_type": "stream",
     "text": [
      "+-------+--------+\n|student|   class|\n+-------+--------+\n|      A|    Math|\n|      B| English|\n|      C|    Math|\n|      D| Biology|\n|      E|    Math|\n|      F|Computer|\n|      G|    Math|\n|      H|    Math|\n|      I|    Math|\n+-------+--------+\n\n"
     ]
    }
   ],
   "source": [
    "\n",
    "\n",
    "schema = StructType([\n",
    "    StructField(\"student\",StringType(),False),\n",
    "    StructField(\"class\",StringType(),False)\n",
    "])\n",
    "data = [\n",
    "    (\"A\"       , \"Math\"     ),\n",
    "    (\"B\"       , \"English\"  ),\n",
    "    (\"C\"       , \"Math\"     ),\n",
    "    (\"D\"       , \"Biology\"  ),\n",
    "    (\"E\"       , \"Math\"     ),\n",
    "    (\"F\"       , \"Computer\" ),\n",
    "    (\"G\"       , \"Math\"     ),\n",
    "    (\"H\"       , \"Math\"     ),\n",
    "    (\"I\"       , \"Math\"     )\n",
    "]\n",
    "\n",
    "courses = spark.createDataFrame(data,schema)\n",
    "courses.show()"
   ]
  },
  {
   "cell_type": "code",
   "execution_count": 0,
   "metadata": {
    "application/vnd.databricks.v1+cell": {
     "cellMetadata": {
      "byteLimit": 2048000,
      "rowLimit": 10000
     },
     "inputWidgets": {},
     "nuid": "8d30e754-dd70-4c0c-8b92-9c018a26ea29",
     "showTitle": false,
     "title": ""
    }
   },
   "outputs": [
    {
     "output_type": "stream",
     "name": "stdout",
     "output_type": "stream",
     "text": [
      "+-----+\n|class|\n+-----+\n| Math|\n+-----+\n\n"
     ]
    }
   ],
   "source": [
    "# Write a solution to find all the classes that have at least five students. Return the result table in any order.\n",
    "\n",
    "courses.groupBy(\"class\").agg(count(col(\"student\")).alias('students_count')).filter(col(\"students_count\")>=5).select(\"class\").show()"
   ]
  },
  {
   "cell_type": "code",
   "execution_count": 0,
   "metadata": {
    "application/vnd.databricks.v1+cell": {
     "cellMetadata": {
      "byteLimit": 2048000,
      "rowLimit": 10000
     },
     "inputWidgets": {},
     "nuid": "3678ac41-486b-4c25-b77b-0113bf12a677",
     "showTitle": false,
     "title": ""
    }
   },
   "outputs": [
    {
     "output_type": "stream",
     "name": "stdout",
     "output_type": "stream",
     "text": [
      "+-----+\n|class|\n+-----+\n| Math|\n+-----+\n\n"
     ]
    }
   ],
   "source": [
    "courses = courses.createOrReplaceTempView(\"courses\")\n",
    "spark.sql(\"select class from courses group by class having count(student)>=5;\").show()"
   ]
  },
  {
   "cell_type": "code",
   "execution_count": 0,
   "metadata": {
    "application/vnd.databricks.v1+cell": {
     "cellMetadata": {
      "byteLimit": 2048000,
      "rowLimit": 10000
     },
     "inputWidgets": {},
     "nuid": "e271439a-40e1-4c53-9de9-bd152e8679a2",
     "showTitle": false,
     "title": ""
    }
   },
   "outputs": [
    {
     "output_type": "display_data",
     "data": {
      "text/html": [
       "<style scoped>\n",
       "  .ansiout {\n",
       "    display: block;\n",
       "    unicode-bidi: embed;\n",
       "    white-space: pre-wrap;\n",
       "    word-wrap: break-word;\n",
       "    word-break: break-all;\n",
       "    font-family: \"Menlo\", \"Monaco\", \"Consolas\", \"Ubuntu Mono\", \"Source Code Pro\", monospace;\n",
       "    font-size: 13px;\n",
       "    color: #555;\n",
       "    margin-left: 4px;\n",
       "    line-height: 19px;\n",
       "  }\n",
       "</style>"
      ]
     },
     "metadata": {
      "application/vnd.databricks.v1+output": {
       "arguments": {},
       "data": "",
       "errorSummary": "The spark context has stopped and the driver is restarting. Your notebook will be automatically reattached.",
       "errorTraceType": "html",
       "metadata": {},
       "type": "ipynbError"
      }
     },
     "output_type": "display_data"
    }
   ],
   "source": [
    "spark.stop()"
   ]
  },
  {
   "cell_type": "code",
   "execution_count": 0,
   "metadata": {
    "application/vnd.databricks.v1+cell": {
     "cellMetadata": {},
     "inputWidgets": {},
     "nuid": "fe668722-c6d3-4f41-a4dc-7aa354832aa8",
     "showTitle": false,
     "title": ""
    }
   },
   "outputs": [],
   "source": []
  }
 ],
 "metadata": {
  "application/vnd.databricks.v1+notebook": {
   "dashboards": [],
   "language": "python",
   "notebookMetadata": {
    "pythonIndentUnit": 4
   },
   "notebookName": "596. Classes More Than 5 Students",
   "widgets": {}
  }
 },
 "nbformat": 4,
 "nbformat_minor": 0
}
