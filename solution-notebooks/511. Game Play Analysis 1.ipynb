{
 "cells": [
  {
   "cell_type": "code",
   "execution_count": 0,
   "metadata": {
    "application/vnd.databricks.v1+cell": {
     "cellMetadata": {
      "byteLimit": 2048000,
      "rowLimit": 10000
     },
     "inputWidgets": {},
     "nuid": "897edbae-7c59-4554-a12f-b317e18e809d",
     "showTitle": false,
     "title": ""
    }
   },
   "outputs": [],
   "source": [
    "from pyspark import SparkConf\n",
    "from pyspark.sql.session import SparkSession\n",
    "from pyspark.sql.types import StructType,StructField,IntegerType,DateType\n",
    "from pyspark.sql.functions import col,min\n",
    "from datetime import datetime\n",
    "\n",
    "spark = SparkSession.builder.appName(\"app\").master(\"local[2]\").getOrCreate()"
   ]
  },
  {
   "cell_type": "code",
   "execution_count": 0,
   "metadata": {
    "application/vnd.databricks.v1+cell": {
     "cellMetadata": {
      "byteLimit": 2048000,
      "rowLimit": 10000
     },
     "inputWidgets": {},
     "nuid": "1a88c0a3-45bb-4942-a8f2-b8884ac5f1a7",
     "showTitle": false,
     "title": ""
    }
   },
   "outputs": [
    {
     "output_type": "stream",
     "name": "stdout",
     "output_type": "stream",
     "text": [
      "+---------+---------+----------+------------+\n|player_id|device_id|event_date|games_played|\n+---------+---------+----------+------------+\n|        1|        2|2016-03-01|           5|\n|        1|        2|2016-05-02|           6|\n|        2|        3|2017-06-25|           1|\n|        3|        1|2016-03-02|           0|\n|        3|        4|2018-07-03|           5|\n+---------+---------+----------+------------+\n\n"
     ]
    }
   ],
   "source": [
    "schema = StructType([\n",
    "    StructField(\"player_id\", IntegerType() ,True),\n",
    "    StructField(\"device_id\",IntegerType() ,True),\n",
    "    StructField(\"event_date\", DateType() ,True),\n",
    "    StructField(\"games_played\",IntegerType() ,True)\n",
    "])\n",
    "\n",
    "data = [\n",
    "    (1         , 2         , datetime(2016,3,1) , 5),\n",
    "    (1         , 2         , datetime(2016,5,2) , 6),\n",
    "    (2         , 3         , datetime(2017,6,25) , 1),\n",
    "    (3         , 1         , datetime(2016,3,2) , 0),\n",
    "    (3         , 4         , datetime(2018,7,3) , 5)\n",
    "]\n",
    "\n",
    "activity = spark.createDataFrame(data,schema)\n",
    "activity.show()"
   ]
  },
  {
   "cell_type": "code",
   "execution_count": 0,
   "metadata": {
    "application/vnd.databricks.v1+cell": {
     "cellMetadata": {
      "byteLimit": 2048000,
      "rowLimit": 10000
     },
     "inputWidgets": {},
     "nuid": "d1759878-c4da-4cdf-b34c-046d24f800e5",
     "showTitle": false,
     "title": ""
    }
   },
   "outputs": [
    {
     "output_type": "stream",
     "name": "stdout",
     "output_type": "stream",
     "text": [
      "+---------+----------------+\n|player_id|first_login_date|\n+---------+----------------+\n|        1|      2016-03-01|\n|        2|      2017-06-25|\n|        3|      2016-03-02|\n+---------+----------------+\n\n"
     ]
    }
   ],
   "source": [
    "# Write a solution to find the first login date for each player. Return the result table in any order.\n",
    "activity.groupBy(\"player_id\").agg(min(\"event_date\").alias(\"first_login_date\")).show()"
   ]
  },
  {
   "cell_type": "code",
   "execution_count": 0,
   "metadata": {
    "application/vnd.databricks.v1+cell": {
     "cellMetadata": {
      "byteLimit": 2048000,
      "rowLimit": 10000
     },
     "inputWidgets": {},
     "nuid": "3e8b14b3-0db5-4152-bb1e-2b5c3306d86e",
     "showTitle": false,
     "title": ""
    }
   },
   "outputs": [
    {
     "output_type": "stream",
     "name": "stdout",
     "output_type": "stream",
     "text": [
      "+---------+----------------+\n|player_id|first_login_date|\n+---------+----------------+\n|        1|      2016-03-01|\n|        2|      2017-06-25|\n|        3|      2016-03-02|\n+---------+----------------+\n\n"
     ]
    }
   ],
   "source": [
    "activity.createOrReplaceTempView(\"activity\")\n",
    "spark.sql(\"select player_id,min(event_date) as first_login_date from activity group by player_id\").show()"
   ]
  },
  {
   "cell_type": "code",
   "execution_count": 0,
   "metadata": {
    "application/vnd.databricks.v1+cell": {
     "cellMetadata": {
      "byteLimit": 2048000,
      "rowLimit": 10000
     },
     "inputWidgets": {},
     "nuid": "d006efb0-6e7e-458a-b1de-e1259a9bb2d2",
     "showTitle": false,
     "title": ""
    }
   },
   "outputs": [
    {
     "output_type": "display_data",
     "data": {
      "text/html": [
       "<style scoped>\n",
       "  .ansiout {\n",
       "    display: block;\n",
       "    unicode-bidi: embed;\n",
       "    white-space: pre-wrap;\n",
       "    word-wrap: break-word;\n",
       "    word-break: break-all;\n",
       "    font-family: \"Menlo\", \"Monaco\", \"Consolas\", \"Ubuntu Mono\", \"Source Code Pro\", monospace;\n",
       "    font-size: 13px;\n",
       "    color: #555;\n",
       "    margin-left: 4px;\n",
       "    line-height: 19px;\n",
       "  }\n",
       "</style>"
      ]
     },
     "metadata": {
      "application/vnd.databricks.v1+output": {
       "arguments": {},
       "data": "",
       "errorSummary": "The spark context has stopped and the driver is restarting. Your notebook will be automatically reattached.",
       "errorTraceType": "html",
       "metadata": {},
       "type": "ipynbError"
      }
     },
     "output_type": "display_data"
    }
   ],
   "source": [
    "spark.stop()"
   ]
  },
  {
   "cell_type": "code",
   "execution_count": 0,
   "metadata": {
    "application/vnd.databricks.v1+cell": {
     "cellMetadata": {},
     "inputWidgets": {},
     "nuid": "7f86a2a2-bfcb-4cca-b33b-88408e1d5c02",
     "showTitle": false,
     "title": ""
    }
   },
   "outputs": [],
   "source": []
  }
 ],
 "metadata": {
  "application/vnd.databricks.v1+notebook": {
   "dashboards": [],
   "language": "python",
   "notebookMetadata": {
    "pythonIndentUnit": 4
   },
   "notebookName": "511. Game Play Analysis 1",
   "widgets": {}
  }
 },
 "nbformat": 4,
 "nbformat_minor": 0
}
