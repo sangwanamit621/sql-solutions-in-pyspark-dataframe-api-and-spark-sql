{
 "cells": [
  {
   "cell_type": "code",
   "execution_count": 0,
   "metadata": {
    "application/vnd.databricks.v1+cell": {
     "cellMetadata": {
      "byteLimit": 2048000,
      "rowLimit": 10000
     },
     "inputWidgets": {},
     "nuid": "169a24a7-b3bc-4789-915b-67536f11b60c",
     "showTitle": false,
     "title": ""
    }
   },
   "outputs": [],
   "source": [
    "from pyspark import SparkConf\n",
    "from pyspark.sql.session import SparkSession\n",
    "from pyspark.sql.types import StructType, StructField, IntegerType,DateType,StringType\n",
    "from pyspark.sql.functions import col, date_sub, lit,countDistinct,count\n",
    "from datetime import datetime\n",
    "\n",
    "spark = SparkSession.builder.master(\"local[2]\").appName(\"app\").getOrCreate()"
   ]
  },
  {
   "cell_type": "code",
   "execution_count": 0,
   "metadata": {
    "application/vnd.databricks.v1+cell": {
     "cellMetadata": {
      "byteLimit": 2048000,
      "rowLimit": 10000
     },
     "inputWidgets": {},
     "nuid": "09f72b77-8684-48e1-b279-d70b1cd163f7",
     "showTitle": false,
     "title": ""
    }
   },
   "outputs": [
    {
     "output_type": "stream",
     "name": "stdout",
     "output_type": "stream",
     "text": [
      "+-------+----------+-------------+-------------+\n|user_id|session_id|activity_date|activity_type|\n+-------+----------+-------------+-------------+\n|      1|         1|   2019-07-20| open_session|\n|      1|         1|   2019-07-20|  scroll_down|\n|      1|         1|   2019-07-20|  end_session|\n|      2|         4|   2019-07-20| open_session|\n|      2|         4|   2019-07-21| send_message|\n|      2|         4|   2019-07-21|  end_session|\n|      3|         2|   2019-07-21| open_session|\n|      3|         2|   2019-07-21| send_message|\n|      3|         2|   2019-07-21|  end_session|\n|      4|         3|   2019-06-25| open_session|\n|      4|         3|   2019-06-25|  end_session|\n+-------+----------+-------------+-------------+\n\n"
     ]
    }
   ],
   "source": [
    "schema = StructType([\n",
    "    StructField(\"user_id\",IntegerType(),False),\n",
    "    StructField(\"session_id\",IntegerType(),False),\n",
    "    StructField(\"activity_date\",DateType(),False),\n",
    "    StructField(\"activity_type\",StringType(),False)\n",
    "])\n",
    "\n",
    "data = [\n",
    "(1       , 1          , datetime(2019,7,20)    , \"open_session\"  ),\n",
    "(1       , 1          , datetime(2019,7,20)    , \"scroll_down\"   ),\n",
    "(1       , 1          , datetime(2019,7,20)    , \"end_session\"   ),\n",
    "(2       , 4          , datetime(2019,7,20)    , \"open_session\"  ),\n",
    "(2       , 4          , datetime(2019,7,21)    , \"send_message\"  ),\n",
    "(2       , 4          , datetime(2019,7,21)    , \"end_session\"   ),\n",
    "(3       , 2          , datetime(2019,7,21)    , \"open_session\"  ),\n",
    "(3       , 2          , datetime(2019,7,21)    , \"send_message\"  ),\n",
    "(3       , 2          , datetime(2019,7,21)    , \"end_session\"   ),\n",
    "(4       , 3          , datetime(2019,6,25)    , \"open_session\"  ),\n",
    "(4       , 3          , datetime(2019,6,25)    , \"end_session\"   )\n",
    "]\n",
    "\n",
    "activity = spark.createDataFrame(data,schema)\n",
    "activity.show()"
   ]
  },
  {
   "cell_type": "code",
   "execution_count": 0,
   "metadata": {
    "application/vnd.databricks.v1+cell": {
     "cellMetadata": {
      "byteLimit": 2048000,
      "rowLimit": 10000
     },
     "inputWidgets": {},
     "nuid": "bf91c371-8480-402c-b80e-32abd0058275",
     "showTitle": false,
     "title": ""
    }
   },
   "outputs": [
    {
     "output_type": "stream",
     "name": "stdout",
     "output_type": "stream",
     "text": [
      "+-------------+------------+\n|activity_date|active_users|\n+-------------+------------+\n|   2019-07-21|           2|\n|   2019-07-20|           2|\n+-------------+------------+\n\n"
     ]
    }
   ],
   "source": [
    "# Write a solution to find the daily active user count for a period of 30 days ending 2019-07-27 inclusively. A user was active on someday if they made at least one activity on that day.\n",
    "# Return the result table in any order.\n",
    "activity.where(col(\"activity_date\").between( date_sub(lit('2019-07-27'),30), lit(\"2019-07-27\"))).groupBy(\"activity_date\").agg(countDistinct(col(\"user_id\")).alias(\"active_users\")).show()"
   ]
  },
  {
   "cell_type": "code",
   "execution_count": 0,
   "metadata": {
    "application/vnd.databricks.v1+cell": {
     "cellMetadata": {
      "byteLimit": 2048000,
      "rowLimit": 10000
     },
     "inputWidgets": {},
     "nuid": "c949c674-9342-45fb-be80-790e4e97e8e1",
     "showTitle": false,
     "title": ""
    }
   },
   "outputs": [
    {
     "output_type": "stream",
     "name": "stdout",
     "output_type": "stream",
     "text": [
      "+-------------+------------+\n|activity_date|active_users|\n+-------------+------------+\n|   2019-07-21|           2|\n|   2019-07-20|           2|\n+-------------+------------+\n\n"
     ]
    }
   ],
   "source": [
    "activity.createOrReplaceTempView(\"a\")\n",
    "spark.sql(\"select activity_date,count(distinct user_id) as active_users from a where activity_date between date_sub('2019-07-27',29) and '2019-07-27' group by activity_date\").show()"
   ]
  },
  {
   "cell_type": "code",
   "execution_count": 0,
   "metadata": {
    "application/vnd.databricks.v1+cell": {
     "cellMetadata": {
      "byteLimit": 2048000,
      "rowLimit": 10000
     },
     "inputWidgets": {},
     "nuid": "dbfd028a-986e-4e51-bed8-c402f096ee63",
     "showTitle": false,
     "title": ""
    }
   },
   "outputs": [
    {
     "output_type": "display_data",
     "data": {
      "text/html": [
       "<style scoped>\n",
       "  .ansiout {\n",
       "    display: block;\n",
       "    unicode-bidi: embed;\n",
       "    white-space: pre-wrap;\n",
       "    word-wrap: break-word;\n",
       "    word-break: break-all;\n",
       "    font-family: \"Menlo\", \"Monaco\", \"Consolas\", \"Ubuntu Mono\", \"Source Code Pro\", monospace;\n",
       "    font-size: 13px;\n",
       "    color: #555;\n",
       "    margin-left: 4px;\n",
       "    line-height: 19px;\n",
       "  }\n",
       "</style>"
      ]
     },
     "metadata": {
      "application/vnd.databricks.v1+output": {
       "arguments": {},
       "data": "",
       "errorSummary": "The spark context has stopped and the driver is restarting. Your notebook will be automatically reattached.",
       "errorTraceType": "html",
       "metadata": {},
       "type": "ipynbError"
      }
     },
     "output_type": "display_data"
    }
   ],
   "source": [
    "spark.stop()"
   ]
  },
  {
   "cell_type": "code",
   "execution_count": 0,
   "metadata": {
    "application/vnd.databricks.v1+cell": {
     "cellMetadata": {},
     "inputWidgets": {},
     "nuid": "1599e137-1aaa-49ba-be1c-23fe4db6da09",
     "showTitle": false,
     "title": ""
    }
   },
   "outputs": [],
   "source": []
  }
 ],
 "metadata": {
  "application/vnd.databricks.v1+notebook": {
   "dashboards": [],
   "language": "python",
   "notebookMetadata": {
    "pythonIndentUnit": 4
   },
   "notebookName": "1141. User Activity for the Past 30 Days I",
   "widgets": {}
  }
 },
 "nbformat": 4,
 "nbformat_minor": 0
}
