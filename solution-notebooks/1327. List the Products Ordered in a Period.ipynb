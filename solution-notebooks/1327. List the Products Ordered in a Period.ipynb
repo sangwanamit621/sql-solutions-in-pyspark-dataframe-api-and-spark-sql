{
 "cells": [
  {
   "cell_type": "code",
   "execution_count": 0,
   "metadata": {
    "application/vnd.databricks.v1+cell": {
     "cellMetadata": {
      "byteLimit": 2048000,
      "rowLimit": 10000
     },
     "inputWidgets": {},
     "nuid": "df47de39-5751-4654-8168-834332e49191",
     "showTitle": false,
     "title": ""
    }
   },
   "outputs": [],
   "source": [
    "from pyspark import SparkConf\n",
    "from pyspark.sql.session import SparkSession\n",
    "from pyspark.sql.types import StructType,StructField,StringType,IntegerType,DateType\n",
    "from pyspark.sql.functions import col,date_format,sum\n",
    "from datetime import datetime\n",
    "\n",
    "spark = SparkSession.builder.appName(\"app\").master(\"local[2]\").getOrCreate()"
   ]
  },
  {
   "cell_type": "code",
   "execution_count": 0,
   "metadata": {
    "application/vnd.databricks.v1+cell": {
     "cellMetadata": {
      "byteLimit": 2048000,
      "rowLimit": 10000
     },
     "inputWidgets": {},
     "nuid": "fc02d57c-840a-47ec-ac3a-a98437d8cfbf",
     "showTitle": false,
     "title": ""
    }
   },
   "outputs": [
    {
     "output_type": "stream",
     "name": "stdout",
     "output_type": "stream",
     "text": [
      "+----------+---------------------+----------------+\n|product_id|product_name         |product_category|\n+----------+---------------------+----------------+\n|1         |Leetcode Solutions   |Book            |\n|2         |Jewels of Stringology|Book            |\n|3         |HP                   |Laptop          |\n|4         |Lenovo               |Laptop          |\n|5         |Leetcode Kit         |T-shirt         |\n+----------+---------------------+----------------+\n\n"
     ]
    }
   ],
   "source": [
    "schema = StructType([\n",
    "    StructField(\"product_id\",IntegerType(),False),\n",
    "    StructField(\"product_name\",StringType(),False),\n",
    "    StructField(\"product_category\",StringType(),False)\n",
    "])\n",
    "\n",
    "data = [\n",
    "    ( 1           , \"Leetcode Solutions\"    , \"Book\"             ),\n",
    "    ( 2           , \"Jewels of Stringology\" , \"Book\"             ),\n",
    "    ( 3           , \"HP\"                    , \"Laptop\"           ),\n",
    "    ( 4           , \"Lenovo\"                , \"Laptop\"           ),\n",
    "    ( 5           , \"Leetcode Kit\"          , \"T-shirt\"          )\n",
    "]\n",
    "\n",
    "products = spark.createDataFrame(data,schema)\n",
    "products.show(truncate=False)"
   ]
  },
  {
   "cell_type": "code",
   "execution_count": 0,
   "metadata": {
    "application/vnd.databricks.v1+cell": {
     "cellMetadata": {
      "byteLimit": 2048000,
      "rowLimit": 10000
     },
     "inputWidgets": {},
     "nuid": "a18dd351-f9a6-4807-bcd5-31b0dc9fa04f",
     "showTitle": false,
     "title": ""
    }
   },
   "outputs": [
    {
     "output_type": "stream",
     "name": "stdout",
     "output_type": "stream",
     "text": [
      "+----------+----------+----+\n|product_id|order_date|unit|\n+----------+----------+----+\n|1         |2020-02-05|60  |\n|1         |2020-02-10|70  |\n|2         |2020-01-18|30  |\n|2         |2020-02-11|80  |\n|3         |2020-02-17|2   |\n|3         |2020-02-24|3   |\n|4         |2020-03-01|20  |\n|4         |2020-03-04|30  |\n|4         |2020-03-04|60  |\n|5         |2020-02-25|50  |\n|5         |2020-02-27|50  |\n|5         |2020-03-01|50  |\n+----------+----------+----+\n\n"
     ]
    }
   ],
   "source": [
    "schema = StructType([\n",
    "    StructField(\"product_id\",IntegerType(),False),\n",
    "    StructField(\"order_date\",DateType(),False),\n",
    "    StructField(\"unit\",IntegerType(),False)\n",
    "])\n",
    "\n",
    "data = [\n",
    "    ( 1            , datetime(2020,2,5 )   , 60       ),\n",
    "    ( 1            , datetime(2020,2,10)   , 70       ),\n",
    "    ( 2            , datetime(2020,1,18)   , 30       ),\n",
    "    ( 2            , datetime(2020,2,11)   , 80       ),\n",
    "    ( 3            , datetime(2020,2,17)   , 2        ),\n",
    "    ( 3            , datetime(2020,2,24)   , 3        ),\n",
    "    ( 4            , datetime(2020,3,1 )   , 20       ),\n",
    "    ( 4            , datetime(2020,3,4 )   , 30       ),\n",
    "    ( 4            , datetime(2020,3,4 )   , 60       ),\n",
    "    ( 5            , datetime(2020,2,25)   , 50       ),\n",
    "    ( 5            , datetime(2020,2,27)   , 50       ),\n",
    "    ( 5            , datetime(2020,3,1 )   , 50       )\n",
    "]\n",
    "\n",
    "orders = spark.createDataFrame(data,schema)\n",
    "orders.show(truncate=False)\n"
   ]
  },
  {
   "cell_type": "code",
   "execution_count": 0,
   "metadata": {
    "application/vnd.databricks.v1+cell": {
     "cellMetadata": {
      "byteLimit": 2048000,
      "rowLimit": 10000
     },
     "inputWidgets": {},
     "nuid": "8933a2d1-825d-480f-a8aa-62325ec0e813",
     "showTitle": false,
     "title": ""
    }
   },
   "outputs": [
    {
     "output_type": "stream",
     "name": "stdout",
     "output_type": "stream",
     "text": [
      "+------------------+----+\n|      product_name|unit|\n+------------------+----+\n|Leetcode Solutions| 130|\n|      Leetcode Kit| 100|\n+------------------+----+\n\n"
     ]
    }
   ],
   "source": [
    "# Write a solution to get the names of products that have at least 100 units ordered in February 2020 and their amount.\n",
    "# Return the result table in any order.\n",
    "\n",
    "orders.alias('o').filter(date_format('o.order_date','yyyy-MM')=='2020-02')\\\n",
    "    .groupBy(\"product_id\")\\\n",
    "    .agg(sum(\"unit\").alias(\"unit\")).filter(col(\"unit\")>=100)\\\n",
    "    .join(products.alias(\"p\"),col(\"o.product_id\")==col(\"p.product_id\"),'inner')\\\n",
    "    .select(\"product_name\",\"unit\").show()"
   ]
  },
  {
   "cell_type": "code",
   "execution_count": 0,
   "metadata": {
    "application/vnd.databricks.v1+cell": {
     "cellMetadata": {
      "byteLimit": 2048000,
      "rowLimit": 10000
     },
     "inputWidgets": {},
     "nuid": "be389c14-b9fc-4fb8-8dd1-d68f604dbdfb",
     "showTitle": false,
     "title": ""
    }
   },
   "outputs": [
    {
     "output_type": "stream",
     "name": "stdout",
     "output_type": "stream",
     "text": [
      "+------------------+----+\n|      product_name|unit|\n+------------------+----+\n|Leetcode Solutions| 130|\n|      Leetcode Kit| 100|\n+------------------+----+\n\n"
     ]
    }
   ],
   "source": [
    "products.createOrReplaceTempView(\"p\")\n",
    "orders.createOrReplaceTempView(\"o\")\n",
    "\n",
    "spark.sql(\"select p.product_name,sum(unit) as unit from o join p using(product_id) where date_format(order_date,'yyyy-MM')=='2020-02' group by o.product_id,p.product_name having sum(unit)>=100\").show()"
   ]
  },
  {
   "cell_type": "code",
   "execution_count": 0,
   "metadata": {
    "application/vnd.databricks.v1+cell": {
     "cellMetadata": {
      "byteLimit": 2048000,
      "rowLimit": 10000
     },
     "inputWidgets": {},
     "nuid": "0b777572-290a-4d45-a8f6-23b51d50e3a5",
     "showTitle": false,
     "title": ""
    }
   },
   "outputs": [
    {
     "output_type": "display_data",
     "data": {
      "text/html": [
       "<style scoped>\n",
       "  .ansiout {\n",
       "    display: block;\n",
       "    unicode-bidi: embed;\n",
       "    white-space: pre-wrap;\n",
       "    word-wrap: break-word;\n",
       "    word-break: break-all;\n",
       "    font-family: \"Menlo\", \"Monaco\", \"Consolas\", \"Ubuntu Mono\", \"Source Code Pro\", monospace;\n",
       "    font-size: 13px;\n",
       "    color: #555;\n",
       "    margin-left: 4px;\n",
       "    line-height: 19px;\n",
       "  }\n",
       "</style>"
      ]
     },
     "metadata": {
      "application/vnd.databricks.v1+output": {
       "arguments": {},
       "data": "",
       "errorSummary": "The spark context has stopped and the driver is restarting. Your notebook will be automatically reattached.",
       "errorTraceType": "html",
       "metadata": {},
       "type": "ipynbError"
      }
     },
     "output_type": "display_data"
    }
   ],
   "source": [
    "spark.stop()"
   ]
  },
  {
   "cell_type": "code",
   "execution_count": 0,
   "metadata": {
    "application/vnd.databricks.v1+cell": {
     "cellMetadata": {},
     "inputWidgets": {},
     "nuid": "e9c68640-6353-41e6-aec3-e758248f2ee1",
     "showTitle": false,
     "title": ""
    }
   },
   "outputs": [],
   "source": []
  }
 ],
 "metadata": {
  "application/vnd.databricks.v1+notebook": {
   "dashboards": [],
   "language": "python",
   "notebookMetadata": {
    "pythonIndentUnit": 4
   },
   "notebookName": "1327. List the Products Ordered in a Period",
   "widgets": {}
  }
 },
 "nbformat": 4,
 "nbformat_minor": 0
}
