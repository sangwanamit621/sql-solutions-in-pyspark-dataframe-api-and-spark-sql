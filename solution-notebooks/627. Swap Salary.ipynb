{
 "cells": [
  {
   "cell_type": "code",
   "execution_count": 0,
   "metadata": {
    "application/vnd.databricks.v1+cell": {
     "cellMetadata": {
      "byteLimit": 2048000,
      "rowLimit": 10000
     },
     "inputWidgets": {},
     "nuid": "94cd3d74-3468-4552-b2be-907f6673d42b",
     "showTitle": false,
     "title": ""
    }
   },
   "outputs": [],
   "source": [
    "from pyspark import SparkConf\n",
    "from pyspark.sql.session import SparkSession\n",
    "from pyspark.sql.types import StructField,StructType,StringType,IntegerType\n",
    "from pyspark.sql.functions import col,when\n",
    "\n",
    "spark = SparkSession.builder.appName(\"app\").master(\"local[2]\").getOrCreate()"
   ]
  },
  {
   "cell_type": "code",
   "execution_count": 0,
   "metadata": {
    "application/vnd.databricks.v1+cell": {
     "cellMetadata": {
      "byteLimit": 2048000,
      "rowLimit": 10000
     },
     "inputWidgets": {},
     "nuid": "a13068c5-a66b-472c-8a25-5a99942c5d0c",
     "showTitle": false,
     "title": ""
    }
   },
   "outputs": [
    {
     "output_type": "stream",
     "name": "stdout",
     "output_type": "stream",
     "text": [
      "+---+----+---+------+\n| id|name|sex|salary|\n+---+----+---+------+\n|  1|   A|  m|  2500|\n|  2|   B|  f|  1500|\n|  3|   C|  m|  5500|\n|  4|   D|  f|   500|\n+---+----+---+------+\n\n"
     ]
    }
   ],
   "source": [
    "schema = StructType([\n",
    "    StructField(\"id\",IntegerType(),False),\n",
    "    StructField(\"name\",StringType(),False),\n",
    "    StructField(\"sex\",StringType(),False),\n",
    "    StructField(\"salary\",IntegerType(),False)\n",
    "])\n",
    "\n",
    "data = [\n",
    "    (1  , 'A'    , 'm'   , 2500)   ,\n",
    "    (2  , 'B'    , 'f'   , 1500)   ,\n",
    "    (3  , 'C'    , 'm'   , 5500)   ,\n",
    "    (4  , 'D'    , 'f'   , 500 )   \n",
    "]\n",
    "\n",
    "salary = spark.createDataFrame(data,schema)\n",
    "salary.show()"
   ]
  },
  {
   "cell_type": "code",
   "execution_count": 0,
   "metadata": {
    "application/vnd.databricks.v1+cell": {
     "cellMetadata": {
      "byteLimit": 2048000,
      "rowLimit": 10000
     },
     "inputWidgets": {},
     "nuid": "be35f107-7d7b-4c44-9196-69dd59e0dc04",
     "showTitle": false,
     "title": ""
    }
   },
   "outputs": [
    {
     "output_type": "stream",
     "name": "stdout",
     "output_type": "stream",
     "text": [
      "+---+----+---+------+\n| id|name|sex|salary|\n+---+----+---+------+\n|  1|   A|  f|  2500|\n|  2|   B|  m|  1500|\n|  3|   C|  f|  5500|\n|  4|   D|  m|   500|\n+---+----+---+------+\n\n"
     ]
    }
   ],
   "source": [
    "# Write a solution to swap all 'f' and 'm' values (i.e., change all 'f' values to 'm' and vice versa) \n",
    "salary.withColumn(\"sex\",when(col(\"sex\")==\"m\",\"f\").otherwise(\"m\")).show()"
   ]
  },
  {
   "cell_type": "code",
   "execution_count": 0,
   "metadata": {
    "application/vnd.databricks.v1+cell": {
     "cellMetadata": {
      "byteLimit": 2048000,
      "rowLimit": 10000
     },
     "inputWidgets": {},
     "nuid": "07b55636-656a-4734-bbec-d18589c45746",
     "showTitle": false,
     "title": ""
    }
   },
   "outputs": [
    {
     "output_type": "stream",
     "name": "stdout",
     "output_type": "stream",
     "text": [
      "+---+----+---+------+\n| id|name|sex|salary|\n+---+----+---+------+\n|  1|   A|  f|  2500|\n|  2|   B|  m|  1500|\n|  3|   C|  f|  5500|\n|  4|   D|  m|   500|\n+---+----+---+------+\n\n"
     ]
    }
   ],
   "source": [
    "salary.createOrReplaceTempView(\"s\")\n",
    "spark.sql(\"select id,name,if(sex='m','f','m') as sex,salary from s\").show()"
   ]
  },
  {
   "cell_type": "code",
   "execution_count": 0,
   "metadata": {
    "application/vnd.databricks.v1+cell": {
     "cellMetadata": {
      "byteLimit": 2048000,
      "rowLimit": 10000
     },
     "inputWidgets": {},
     "nuid": "af5a9984-9a3c-426a-83e2-ad4b45f008f3",
     "showTitle": false,
     "title": ""
    }
   },
   "outputs": [
    {
     "output_type": "display_data",
     "data": {
      "text/html": [
       "<style scoped>\n",
       "  .ansiout {\n",
       "    display: block;\n",
       "    unicode-bidi: embed;\n",
       "    white-space: pre-wrap;\n",
       "    word-wrap: break-word;\n",
       "    word-break: break-all;\n",
       "    font-family: \"Menlo\", \"Monaco\", \"Consolas\", \"Ubuntu Mono\", \"Source Code Pro\", monospace;\n",
       "    font-size: 13px;\n",
       "    color: #555;\n",
       "    margin-left: 4px;\n",
       "    line-height: 19px;\n",
       "  }\n",
       "</style>"
      ]
     },
     "metadata": {
      "application/vnd.databricks.v1+output": {
       "arguments": {},
       "data": "",
       "errorSummary": "The spark context has stopped and the driver is restarting. Your notebook will be automatically reattached.",
       "errorTraceType": "html",
       "metadata": {},
       "type": "ipynbError"
      }
     },
     "output_type": "display_data"
    }
   ],
   "source": [
    "spark.stop()"
   ]
  },
  {
   "cell_type": "code",
   "execution_count": 0,
   "metadata": {
    "application/vnd.databricks.v1+cell": {
     "cellMetadata": {},
     "inputWidgets": {},
     "nuid": "5798d17b-545e-48e1-be00-c80598214b20",
     "showTitle": false,
     "title": ""
    }
   },
   "outputs": [],
   "source": []
  }
 ],
 "metadata": {
  "application/vnd.databricks.v1+notebook": {
   "dashboards": [],
   "language": "python",
   "notebookMetadata": {
    "pythonIndentUnit": 4
   },
   "notebookName": "627. Swap Salary",
   "widgets": {}
  }
 },
 "nbformat": 4,
 "nbformat_minor": 0
}
