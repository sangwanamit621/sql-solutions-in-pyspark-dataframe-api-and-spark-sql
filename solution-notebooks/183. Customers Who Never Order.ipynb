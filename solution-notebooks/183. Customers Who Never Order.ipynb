{
 "cells": [
  {
   "cell_type": "code",
   "execution_count": 0,
   "metadata": {
    "application/vnd.databricks.v1+cell": {
     "cellMetadata": {
      "byteLimit": 2048000,
      "rowLimit": 10000
     },
     "inputWidgets": {},
     "nuid": "7a0894e5-8b25-4394-9e7e-d020b730c0b6",
     "showTitle": false,
     "title": ""
    }
   },
   "outputs": [],
   "source": [
    "from pyspark import SparkConf\n",
    "from pyspark.sql.session import SparkSession\n",
    "from pyspark.sql.types import  StringType, IntegerType,StructType,StructField\n",
    "from pyspark.sql.functions import col\n",
    "\n",
    "spark = SparkSession.builder.appName(\"app\").master(\"local[1]\").getOrCreate()"
   ]
  },
  {
   "cell_type": "code",
   "execution_count": 0,
   "metadata": {
    "application/vnd.databricks.v1+cell": {
     "cellMetadata": {
      "byteLimit": 2048000,
      "rowLimit": 10000
     },
     "inputWidgets": {},
     "nuid": "2e33591f-9ca7-4a74-a33d-510e418a8094",
     "showTitle": false,
     "title": ""
    }
   },
   "outputs": [
    {
     "output_type": "stream",
     "name": "stdout",
     "output_type": "stream",
     "text": [
      "+---+----+\n| id|name|\n+---+----+\n|  1| Joe|\n|  2| Hen|\n|  3| Sam|\n|  4| Max|\n+---+----+\n\n+---+----------+\n| id|customerId|\n+---+----------+\n|  1|         3|\n|  2|         1|\n+---+----------+\n\n"
     ]
    }
   ],
   "source": [
    "schema = StructType([StructField(\"id\",IntegerType(),True),\n",
    "                     StructField(\"name\",StringType(),True)])\n",
    "data = [        (1,\"Joe\"),     (2,\"Hen\"),       (3,\"Sam\"),      (4,\"Max\")   ]\n",
    "\n",
    "customer = spark.createDataFrame(data,schema)\n",
    "customer.show()\n",
    "\n",
    "schema = StructType([StructField(\"id\",IntegerType(),True),\n",
    "                     StructField(\"customerId\",IntegerType(),False)])\n",
    "\n",
    "data = [    (1,3),       (2,1)   ]\n",
    "\n",
    "order = spark.createDataFrame(data,schema)\n",
    "order.show()"
   ]
  },
  {
   "cell_type": "code",
   "execution_count": 0,
   "metadata": {
    "application/vnd.databricks.v1+cell": {
     "cellMetadata": {
      "byteLimit": 2048000,
      "rowLimit": 10000
     },
     "inputWidgets": {},
     "nuid": "1e3acf6e-b39c-4b36-b769-b9ce0fab1b05",
     "showTitle": false,
     "title": ""
    }
   },
   "outputs": [
    {
     "output_type": "stream",
     "name": "stdout",
     "output_type": "stream",
     "text": [
      "+----+\n|name|\n+----+\n| Hen|\n| Max|\n+----+\n\n"
     ]
    }
   ],
   "source": [
    "# Write a solution to find all customers who never order anything. Return the result table in any order.\n",
    "customer.join(order,customer.id==order.customerId,'left').filter(order.customerId.isNull()).select(customer.name).show()\n"
   ]
  },
  {
   "cell_type": "code",
   "execution_count": 0,
   "metadata": {
    "application/vnd.databricks.v1+cell": {
     "cellMetadata": {
      "byteLimit": 2048000,
      "rowLimit": 10000
     },
     "inputWidgets": {},
     "nuid": "be95b899-1045-4577-8fad-555cda38917e",
     "showTitle": false,
     "title": ""
    }
   },
   "outputs": [
    {
     "output_type": "stream",
     "name": "stdout",
     "output_type": "stream",
     "text": [
      "+----+\n|name|\n+----+\n| Hen|\n| Max|\n+----+\n\n"
     ]
    }
   ],
   "source": [
    "# SQL\n",
    "customer.createOrReplaceTempView(\"cust\")\n",
    "order.createOrReplaceTempView(\"order\")\n",
    "\n",
    "spark.sql(\"select c.name from cust c left join `order` o on c.id=o.customerId where o.customerId is null\").show()"
   ]
  },
  {
   "cell_type": "code",
   "execution_count": 0,
   "metadata": {
    "application/vnd.databricks.v1+cell": {
     "cellMetadata": {
      "byteLimit": 2048000,
      "rowLimit": 10000
     },
     "inputWidgets": {},
     "nuid": "77faf76e-3bda-41b7-8e30-972751c69162",
     "showTitle": false,
     "title": ""
    }
   },
   "outputs": [
    {
     "output_type": "display_data",
     "data": {
      "text/html": [
       "<style scoped>\n",
       "  .ansiout {\n",
       "    display: block;\n",
       "    unicode-bidi: embed;\n",
       "    white-space: pre-wrap;\n",
       "    word-wrap: break-word;\n",
       "    word-break: break-all;\n",
       "    font-family: \"Menlo\", \"Monaco\", \"Consolas\", \"Ubuntu Mono\", \"Source Code Pro\", monospace;\n",
       "    font-size: 13px;\n",
       "    color: #555;\n",
       "    margin-left: 4px;\n",
       "    line-height: 19px;\n",
       "  }\n",
       "</style>"
      ]
     },
     "metadata": {
      "application/vnd.databricks.v1+output": {
       "arguments": {},
       "data": "",
       "errorSummary": "The spark context has stopped and the driver is restarting. Your notebook will be automatically reattached.",
       "errorTraceType": "html",
       "metadata": {},
       "type": "ipynbError"
      }
     },
     "output_type": "display_data"
    }
   ],
   "source": [
    "spark.stop()"
   ]
  },
  {
   "cell_type": "code",
   "execution_count": 0,
   "metadata": {
    "application/vnd.databricks.v1+cell": {
     "cellMetadata": {},
     "inputWidgets": {},
     "nuid": "46564a18-6f98-492a-a6d3-14c00c8c63c4",
     "showTitle": false,
     "title": ""
    }
   },
   "outputs": [],
   "source": []
  }
 ],
 "metadata": {
  "application/vnd.databricks.v1+notebook": {
   "dashboards": [],
   "language": "python",
   "notebookMetadata": {
    "pythonIndentUnit": 4
   },
   "notebookName": "183. Customers Who Never Order",
   "widgets": {}
  }
 },
 "nbformat": 4,
 "nbformat_minor": 0
}
