{
 "cells": [
  {
   "cell_type": "code",
   "execution_count": 0,
   "metadata": {
    "application/vnd.databricks.v1+cell": {
     "cellMetadata": {
      "byteLimit": 2048000,
      "rowLimit": 10000
     },
     "inputWidgets": {},
     "nuid": "fb7bb372-f0a9-4850-ab28-380bbf395f5c",
     "showTitle": false,
     "title": ""
    }
   },
   "outputs": [],
   "source": [
    "from pyspark import SparkConf\n",
    "from pyspark.sql.session import SparkSession\n",
    "from pyspark.sql.types import StructType,StructField,IntegerType,DateType\n",
    "from pyspark.sql.functions import col,count,max\n",
    "from datetime import datetime\n",
    "\n",
    "spark = SparkSession.builder.appName(\"app\").master(\"local[2]\").getOrCreate()"
   ]
  },
  {
   "cell_type": "code",
   "execution_count": 0,
   "metadata": {
    "application/vnd.databricks.v1+cell": {
     "cellMetadata": {
      "byteLimit": 2048000,
      "rowLimit": 10000
     },
     "inputWidgets": {},
     "nuid": "f4988843-6218-41d0-ae54-a84b2928c874",
     "showTitle": false,
     "title": ""
    }
   },
   "outputs": [
    {
     "output_type": "stream",
     "name": "stdout",
     "output_type": "stream",
     "text": [
      "+------------+-----------+-----------+\n|requester_id|accepter_id|accept_date|\n+------------+-----------+-----------+\n|           1|          2| 2016-06-03|\n|           1|          3| 2016-06-08|\n|           2|          3| 2016-06-08|\n|           3|          4| 2016-06-09|\n+------------+-----------+-----------+\n\n"
     ]
    }
   ],
   "source": [
    "schema = StructType([\n",
    "    StructField(\"requester_id\",IntegerType(),False),\n",
    "    StructField(\"accepter_id\",IntegerType(),False),\n",
    "    StructField(\"accept_date\",DateType(),False)\n",
    "])\n",
    "data = [\n",
    "( 1            , 2           , datetime(2016,6,3) ) ,\n",
    "( 1            , 3           , datetime(2016,6,8) ) ,\n",
    "( 2            , 3           , datetime(2016,6,8) ) ,\n",
    "( 3            , 4           , datetime(2016,6,9) )\n",
    "]\n",
    "request = spark.createDataFrame(data,schema)\n",
    "request.show()"
   ]
  },
  {
   "cell_type": "code",
   "execution_count": 0,
   "metadata": {
    "application/vnd.databricks.v1+cell": {
     "cellMetadata": {
      "byteLimit": 2048000,
      "rowLimit": 10000
     },
     "inputWidgets": {},
     "nuid": "3609451d-4362-4164-b458-b726cf57f1bb",
     "showTitle": false,
     "title": ""
    }
   },
   "outputs": [
    {
     "output_type": "stream",
     "name": "stdout",
     "output_type": "stream",
     "text": [
      "+---+-----+\n| id|count|\n+---+-----+\n|  3|    3|\n+---+-----+\n\n"
     ]
    }
   ],
   "source": [
    "# Write a solution to find the people who have the most friends and the most friends number.\n",
    "# The test cases are generated so that only one person has the most friends.\n",
    "request.select(\"requester_id\").unionAll(request.select(\"accepter_id\"))\\\n",
    "    .groupBy(col(\"requester_id\").alias(\"id\")).agg(count(\"requester_id\").alias(\"count\"))\\\n",
    "    .orderBy(col(\"count\").desc()).limit(1).show()"
   ]
  },
  {
   "cell_type": "code",
   "execution_count": 0,
   "metadata": {
    "application/vnd.databricks.v1+cell": {
     "cellMetadata": {
      "byteLimit": 2048000,
      "rowLimit": 10000
     },
     "inputWidgets": {},
     "nuid": "eaf0e1b3-0896-4e92-8816-71c152eaabdc",
     "showTitle": false,
     "title": ""
    }
   },
   "outputs": [
    {
     "output_type": "stream",
     "name": "stdout",
     "output_type": "stream",
     "text": [
      "+---+---+\n| id|num|\n+---+---+\n|  3|  3|\n+---+---+\n\n"
     ]
    }
   ],
   "source": [
    "request.createOrReplaceTempView(\"r\")\n",
    "spark.sql(\"\"\"with cte as \n",
    "          (select requester_id from r union all select accepter_id from r)\n",
    "          select requester_id as `id`, count(*) as num from cte group by 1 order by 2 desc limit 1\"\"\").show()"
   ]
  },
  {
   "cell_type": "code",
   "execution_count": 0,
   "metadata": {
    "application/vnd.databricks.v1+cell": {
     "cellMetadata": {
      "byteLimit": 2048000,
      "rowLimit": 10000
     },
     "inputWidgets": {},
     "nuid": "ddf18aa8-94c2-44a8-9a7c-193ce65cd822",
     "showTitle": false,
     "title": ""
    }
   },
   "outputs": [
    {
     "output_type": "display_data",
     "data": {
      "text/html": [
       "<style scoped>\n",
       "  .ansiout {\n",
       "    display: block;\n",
       "    unicode-bidi: embed;\n",
       "    white-space: pre-wrap;\n",
       "    word-wrap: break-word;\n",
       "    word-break: break-all;\n",
       "    font-family: \"Menlo\", \"Monaco\", \"Consolas\", \"Ubuntu Mono\", \"Source Code Pro\", monospace;\n",
       "    font-size: 13px;\n",
       "    color: #555;\n",
       "    margin-left: 4px;\n",
       "    line-height: 19px;\n",
       "  }\n",
       "</style>"
      ]
     },
     "metadata": {
      "application/vnd.databricks.v1+output": {
       "arguments": {},
       "data": "",
       "errorSummary": "The spark context has stopped and the driver is restarting. Your notebook will be automatically reattached.",
       "errorTraceType": "html",
       "metadata": {},
       "type": "ipynbError"
      }
     },
     "output_type": "display_data"
    }
   ],
   "source": [
    "spark.stop()"
   ]
  },
  {
   "cell_type": "code",
   "execution_count": 0,
   "metadata": {
    "application/vnd.databricks.v1+cell": {
     "cellMetadata": {},
     "inputWidgets": {},
     "nuid": "0508f673-fc2a-4a20-a494-0a3739659b83",
     "showTitle": false,
     "title": ""
    }
   },
   "outputs": [],
   "source": []
  }
 ],
 "metadata": {
  "application/vnd.databricks.v1+notebook": {
   "dashboards": [],
   "language": "python",
   "notebookMetadata": {
    "pythonIndentUnit": 4
   },
   "notebookName": "602. Friend Requests II: Who Has the Most Friends",
   "widgets": {}
  }
 },
 "nbformat": 4,
 "nbformat_minor": 0
}
