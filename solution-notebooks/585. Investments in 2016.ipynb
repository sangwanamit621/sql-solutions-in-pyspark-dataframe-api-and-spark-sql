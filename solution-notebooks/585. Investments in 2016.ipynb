{
 "cells": [
  {
   "cell_type": "code",
   "execution_count": 0,
   "metadata": {
    "application/vnd.databricks.v1+cell": {
     "cellMetadata": {
      "byteLimit": 2048000,
      "rowLimit": 10000
     },
     "inputWidgets": {},
     "nuid": "290743b3-2abc-4efd-9fc1-7500808950a0",
     "showTitle": false,
     "title": ""
    }
   },
   "outputs": [],
   "source": [
    "from pyspark import SparkConf\n",
    "from pyspark.sql.session import SparkSession\n",
    "from pyspark.sql.types import StructType,StructField,IntegerType,FloatType\n",
    "from pyspark.sql.functions import col,count,sum\n",
    "from pyspark.sql.window import Window\n",
    "\n",
    "spark = SparkSession.builder.appName(\"app\").master(\"local[2]\").getOrCreate()"
   ]
  },
  {
   "cell_type": "code",
   "execution_count": 0,
   "metadata": {
    "application/vnd.databricks.v1+cell": {
     "cellMetadata": {
      "byteLimit": 2048000,
      "rowLimit": 10000
     },
     "inputWidgets": {},
     "nuid": "72e6ca3f-b353-4995-9df0-1c9c722ce216",
     "showTitle": false,
     "title": ""
    }
   },
   "outputs": [
    {
     "output_type": "stream",
     "name": "stdout",
     "output_type": "stream",
     "text": [
      "+---+--------+--------+---+---+\n|pid|tiv_2015|tiv_2016|lat|lon|\n+---+--------+--------+---+---+\n|  1|      10|       5| 10| 10|\n|  2|      20|      20| 20| 20|\n|  3|      10|      30| 20| 20|\n|  4|      10|      40| 40| 40|\n+---+--------+--------+---+---+\n\n"
     ]
    }
   ],
   "source": [
    "schema = StructType([\n",
    "    StructField(\"pid\",IntegerType(),False),\n",
    "    StructField(\"tiv_2015\",IntegerType(),False),\n",
    "    StructField(\"tiv_2016\",IntegerType(),False),\n",
    "    StructField(\"lat\",IntegerType(),False),\n",
    "    StructField(\"lon\",IntegerType(),False)\n",
    "])\n",
    "data = [\n",
    "( 1   , 10       , 5        , 10  , 10)  ,\n",
    "( 2   , 20       , 20       , 20  , 20)  ,\n",
    "( 3   , 10       , 30       , 20  , 20)  ,\n",
    "( 4   , 10       , 40       , 40  , 40)  \n",
    "]\n",
    "insurance = spark.createDataFrame(data,schema)\n",
    "insurance.show()"
   ]
  },
  {
   "cell_type": "code",
   "execution_count": 0,
   "metadata": {
    "application/vnd.databricks.v1+cell": {
     "cellMetadata": {
      "byteLimit": 2048000,
      "rowLimit": 10000
     },
     "inputWidgets": {},
     "nuid": "6d0231ce-855f-443f-997d-88425ce5a43d",
     "showTitle": false,
     "title": ""
    }
   },
   "outputs": [
    {
     "output_type": "stream",
     "name": "stdout",
     "output_type": "stream",
     "text": [
      "+--------+\n|tiv_2016|\n+--------+\n|      45|\n+--------+\n\n"
     ]
    }
   ],
   "source": [
    "# Write a solution to report the sum of all total investment values in 2016 tiv_2016, for all policyholders who:\n",
    "#   * have the same tiv_2015 value as one or more other policyholders, and\n",
    "#   * are not located in the same city as any other policyholder (i.e., the (lat, lon) attribute pairs must be unique).\n",
    "# Round tiv_2016 to two decimal places.\n",
    "window_spec_policyholder = Window.partitionBy(\"tiv_2015\")\n",
    "window_spec_address = Window.partitionBy(\"lat\",\"lon\")\n",
    "insurance.select(\"pid\",\"tiv_2016\",count(\"pid\").over(window_spec_policyholder).alias(\"other_policyholder\"),count(\"pid\").over(window_spec_address).alias(\"same_city_member\"))\\\n",
    "         .filter((col(\"other_policyholder\")>1) & (col(\"same_city_member\")==1)).select(sum(\"tiv_2016\").alias(\"tiv_2016\"))\\\n",
    "         .show()"
   ]
  },
  {
   "cell_type": "code",
   "execution_count": 0,
   "metadata": {
    "application/vnd.databricks.v1+cell": {
     "cellMetadata": {
      "byteLimit": 2048000,
      "rowLimit": 10000
     },
     "inputWidgets": {},
     "nuid": "cc15daf3-d966-4bcf-b58e-48c858a21d99",
     "showTitle": false,
     "title": ""
    }
   },
   "outputs": [
    {
     "output_type": "stream",
     "name": "stdout",
     "output_type": "stream",
     "text": [
      "+--------+\n|tiv_2016|\n+--------+\n|      45|\n+--------+\n\n"
     ]
    }
   ],
   "source": [
    "insurance.createOrReplaceTempView(\"ins\")\n",
    "spark.sql(\"\"\"with cte as \n",
    "                (select tiv_2016, count(*) over(partition by tiv_2015) as same_policy, count(*) over(partition by lat,lon) as same_address from ins)\n",
    "            select sum(tiv_2016) tiv_2016 from cte where same_policy>1 and same_address=1\n",
    "        \"\"\").show()"
   ]
  },
  {
   "cell_type": "code",
   "execution_count": 0,
   "metadata": {
    "application/vnd.databricks.v1+cell": {
     "cellMetadata": {
      "byteLimit": 2048000,
      "rowLimit": 10000
     },
     "inputWidgets": {},
     "nuid": "4bc63f23-314d-4e15-93bf-a90fd68a7b95",
     "showTitle": false,
     "title": ""
    }
   },
   "outputs": [
    {
     "output_type": "display_data",
     "data": {
      "text/html": [
       "<style scoped>\n",
       "  .ansiout {\n",
       "    display: block;\n",
       "    unicode-bidi: embed;\n",
       "    white-space: pre-wrap;\n",
       "    word-wrap: break-word;\n",
       "    word-break: break-all;\n",
       "    font-family: \"Menlo\", \"Monaco\", \"Consolas\", \"Ubuntu Mono\", \"Source Code Pro\", monospace;\n",
       "    font-size: 13px;\n",
       "    color: #555;\n",
       "    margin-left: 4px;\n",
       "    line-height: 19px;\n",
       "  }\n",
       "</style>"
      ]
     },
     "metadata": {
      "application/vnd.databricks.v1+output": {
       "arguments": {},
       "data": "",
       "errorSummary": "The spark context has stopped and the driver is restarting. Your notebook will be automatically reattached.",
       "errorTraceType": "html",
       "metadata": {},
       "type": "ipynbError"
      }
     },
     "output_type": "display_data"
    }
   ],
   "source": [
    "spark.stop()"
   ]
  },
  {
   "cell_type": "code",
   "execution_count": 0,
   "metadata": {
    "application/vnd.databricks.v1+cell": {
     "cellMetadata": {},
     "inputWidgets": {},
     "nuid": "8d034df7-f8ca-42fa-81c8-211d94f827f1",
     "showTitle": false,
     "title": ""
    }
   },
   "outputs": [],
   "source": []
  }
 ],
 "metadata": {
  "application/vnd.databricks.v1+notebook": {
   "dashboards": [],
   "language": "python",
   "notebookMetadata": {
    "pythonIndentUnit": 4
   },
   "notebookName": "585. Investments in 2016",
   "widgets": {}
  }
 },
 "nbformat": 4,
 "nbformat_minor": 0
}
