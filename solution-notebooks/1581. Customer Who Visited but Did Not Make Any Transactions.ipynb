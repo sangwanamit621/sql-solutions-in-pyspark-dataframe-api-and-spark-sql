{
 "cells": [
  {
   "cell_type": "code",
   "execution_count": 0,
   "metadata": {
    "application/vnd.databricks.v1+cell": {
     "cellMetadata": {
      "byteLimit": 2048000,
      "rowLimit": 10000
     },
     "inputWidgets": {},
     "nuid": "1296aa77-f1b2-467d-934a-2a74868e352f",
     "showTitle": false,
     "title": ""
    }
   },
   "outputs": [],
   "source": [
    "from pyspark import SparkConf\n",
    "from pyspark.sql.session import SparkSession\n",
    "from pyspark.sql.types import StructType,StructField,IntegerType\n",
    "from pyspark.sql.functions import col, count\n",
    "\n",
    "spark = SparkSession.builder.appName(\"app\").master(\"local[3]\").getOrCreate()"
   ]
  },
  {
   "cell_type": "code",
   "execution_count": 0,
   "metadata": {
    "application/vnd.databricks.v1+cell": {
     "cellMetadata": {
      "byteLimit": 2048000,
      "rowLimit": 10000
     },
     "inputWidgets": {},
     "nuid": "7103f7d2-6254-445e-9d02-488d32e2e258",
     "showTitle": false,
     "title": ""
    }
   },
   "outputs": [
    {
     "output_type": "stream",
     "name": "stdout",
     "output_type": "stream",
     "text": [
      "+--------+-----------+\n|visit_id|customer_id|\n+--------+-----------+\n|       1|         23|\n|       2|          9|\n|       4|         30|\n|       5|         54|\n|       6|         96|\n|       7|         54|\n|       8|         54|\n+--------+-----------+\n\n"
     ]
    }
   ],
   "source": [
    "schema = StructType([\n",
    "    StructField(\"visit_id\",IntegerType(),False),\n",
    "    StructField(\"customer_id\",IntegerType(),False)\n",
    "])\n",
    "\n",
    "data = [\n",
    "    ( 1        , 23    )      ,\n",
    "    ( 2        , 9     )      ,\n",
    "    ( 4        , 30    )      ,\n",
    "    ( 5        , 54    )      ,\n",
    "    ( 6        , 96    )      ,\n",
    "    ( 7        , 54    )      ,\n",
    "    ( 8        , 54    )    \n",
    "\n",
    "]\n",
    "\n",
    "visits = spark.createDataFrame(data,schema)\n",
    "visits.show()"
   ]
  },
  {
   "cell_type": "code",
   "execution_count": 0,
   "metadata": {
    "application/vnd.databricks.v1+cell": {
     "cellMetadata": {
      "byteLimit": 2048000,
      "rowLimit": 10000
     },
     "inputWidgets": {},
     "nuid": "8b7dd423-57cc-43fd-b08b-304dc0973ac2",
     "showTitle": false,
     "title": ""
    }
   },
   "outputs": [
    {
     "output_type": "stream",
     "name": "stdout",
     "output_type": "stream",
     "text": [
      "+--------------+--------+------+\n|transaction_id|visit_id|amount|\n+--------------+--------+------+\n|             2|       5|   310|\n|             3|       5|   300|\n|             9|       5|   200|\n|            12|       1|   910|\n|            13|       2|   970|\n+--------------+--------+------+\n\n"
     ]
    }
   ],
   "source": [
    "schema = StructType([\n",
    "    StructField(\"transaction_id\",IntegerType(),False),\n",
    "    StructField(\"visit_id\",IntegerType(),False),\n",
    "    StructField(\"amount\",IntegerType(),False)\n",
    "])\n",
    "\n",
    "data = [\n",
    "    ( 2              , 5        , 310  )  ,\n",
    "    ( 3              , 5        , 300  )  ,\n",
    "    ( 9              , 5        , 200  )  ,\n",
    "    ( 12             , 1        , 910  )  ,\n",
    "    ( 13             , 2        , 970  )  \n",
    "]\n",
    "\n",
    "transactions = spark.createDataFrame(data,schema)\n",
    "transactions.show()"
   ]
  },
  {
   "cell_type": "code",
   "execution_count": 0,
   "metadata": {
    "application/vnd.databricks.v1+cell": {
     "cellMetadata": {
      "byteLimit": 2048000,
      "rowLimit": 10000
     },
     "inputWidgets": {},
     "nuid": "72e64501-8efb-41f2-9b74-f22c188e3e4f",
     "showTitle": false,
     "title": ""
    }
   },
   "outputs": [
    {
     "output_type": "stream",
     "name": "stdout",
     "output_type": "stream",
     "text": [
      "+-----------+--------------+\n|customer_id|count_no_trans|\n+-----------+--------------+\n|         30|             1|\n|         96|             1|\n|         54|             2|\n+-----------+--------------+\n\n"
     ]
    }
   ],
   "source": [
    "# Write a solution to find the IDs of the users who visited without making any transactions and the number of times they made these types of visits.\n",
    "# Return the result table sorted in any order.\n",
    "visits.join(transactions,visits.visit_id==transactions.visit_id,\"left\").filter(col(\"amount\").isNull()).groupBy(\"customer_id\").agg(count(\"customer_id\").alias(\"count_no_trans\")).show()"
   ]
  },
  {
   "cell_type": "code",
   "execution_count": 0,
   "metadata": {
    "application/vnd.databricks.v1+cell": {
     "cellMetadata": {
      "byteLimit": 2048000,
      "rowLimit": 10000
     },
     "inputWidgets": {},
     "nuid": "2acbface-ea28-4400-89c3-c02c6f3b8e12",
     "showTitle": false,
     "title": ""
    }
   },
   "outputs": [
    {
     "output_type": "stream",
     "name": "stdout",
     "output_type": "stream",
     "text": [
      "+-----------+--------------+\n|customer_id|count_no_trans|\n+-----------+--------------+\n|         30|             1|\n|         96|             1|\n|         54|             2|\n+-----------+--------------+\n\n"
     ]
    }
   ],
   "source": [
    "visits.createOrReplaceTempView(\"v\")\n",
    "transactions.createOrReplaceTempView(\"t\")\n",
    "spark.sql(\"select v.customer_id ,count(*) as count_no_trans from v left join t using(visit_id) where t.amount is null group by 1\").show()"
   ]
  },
  {
   "cell_type": "code",
   "execution_count": 0,
   "metadata": {
    "application/vnd.databricks.v1+cell": {
     "cellMetadata": {
      "byteLimit": 2048000,
      "rowLimit": 10000
     },
     "inputWidgets": {},
     "nuid": "15d55873-e777-4bf7-8e3b-439091d75cf9",
     "showTitle": false,
     "title": ""
    }
   },
   "outputs": [
    {
     "output_type": "display_data",
     "data": {
      "text/html": [
       "<style scoped>\n",
       "  .ansiout {\n",
       "    display: block;\n",
       "    unicode-bidi: embed;\n",
       "    white-space: pre-wrap;\n",
       "    word-wrap: break-word;\n",
       "    word-break: break-all;\n",
       "    font-family: \"Menlo\", \"Monaco\", \"Consolas\", \"Ubuntu Mono\", \"Source Code Pro\", monospace;\n",
       "    font-size: 13px;\n",
       "    color: #555;\n",
       "    margin-left: 4px;\n",
       "    line-height: 19px;\n",
       "  }\n",
       "</style>"
      ]
     },
     "metadata": {
      "application/vnd.databricks.v1+output": {
       "arguments": {},
       "data": "",
       "errorSummary": "The spark context has stopped and the driver is restarting. Your notebook will be automatically reattached.",
       "errorTraceType": "html",
       "metadata": {},
       "type": "ipynbError"
      }
     },
     "output_type": "display_data"
    }
   ],
   "source": [
    "spark.stop()"
   ]
  },
  {
   "cell_type": "code",
   "execution_count": 0,
   "metadata": {
    "application/vnd.databricks.v1+cell": {
     "cellMetadata": {},
     "inputWidgets": {},
     "nuid": "d411615c-0400-4620-9b00-2b575c038cdb",
     "showTitle": false,
     "title": ""
    }
   },
   "outputs": [],
   "source": []
  }
 ],
 "metadata": {
  "application/vnd.databricks.v1+notebook": {
   "dashboards": [],
   "language": "python",
   "notebookMetadata": {
    "pythonIndentUnit": 4
   },
   "notebookName": "1581. Customer Who Visited but Did Not Make Any Transactions",
   "widgets": {}
  }
 },
 "nbformat": 4,
 "nbformat_minor": 0
}
