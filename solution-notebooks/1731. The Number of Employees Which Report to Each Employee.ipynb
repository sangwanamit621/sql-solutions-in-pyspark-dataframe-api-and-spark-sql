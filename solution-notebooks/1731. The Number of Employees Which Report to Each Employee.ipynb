{
 "cells": [
  {
   "cell_type": "code",
   "execution_count": 0,
   "metadata": {
    "application/vnd.databricks.v1+cell": {
     "cellMetadata": {
      "byteLimit": 2048000,
      "rowLimit": 10000
     },
     "inputWidgets": {},
     "nuid": "6eefd99e-2f7a-43e9-adc5-5a61fdd5beef",
     "showTitle": false,
     "title": ""
    }
   },
   "outputs": [],
   "source": [
    "from pyspark import SparkConf\n",
    "from pyspark.sql.session import SparkSession\n",
    "from pyspark.sql.types import StructType,StructField,StringType,IntegerType\n",
    "from pyspark.sql.functions import col,avg,round,count\n",
    "\n",
    "spark = SparkSession.builder.appName(\"app\").master(\"local[3]\").getOrCreate()"
   ]
  },
  {
   "cell_type": "code",
   "execution_count": 0,
   "metadata": {
    "application/vnd.databricks.v1+cell": {
     "cellMetadata": {
      "byteLimit": 2048000,
      "rowLimit": 10000
     },
     "inputWidgets": {},
     "nuid": "c09258f6-93b6-4366-b25e-a1808438af7c",
     "showTitle": false,
     "title": ""
    }
   },
   "outputs": [
    {
     "output_type": "stream",
     "name": "stdout",
     "output_type": "stream",
     "text": [
      "+-----------+-------+----------+---+\n|employee_id|   name|reports_to|age|\n+-----------+-------+----------+---+\n|          9|  Hercy|      null| 43|\n|          6|  Alice|         9| 41|\n|          4|    Bob|         9| 36|\n|          2|Winston|      null| 37|\n+-----------+-------+----------+---+\n\n"
     ]
    }
   ],
   "source": [
    "schema = StructType([\n",
    "    StructField(\"employee_id\",IntegerType(),False),\n",
    "    StructField(\"name\",StringType(),False),\n",
    "    StructField(\"reports_to\",IntegerType(),True),\n",
    "    StructField(\"age\",IntegerType(),True)\n",
    "])\n",
    "data = [\n",
    "( 9           , \"Hercy\"   , None       , 43 ) ,\n",
    "( 6           , \"Alice\"   , 9          , 41 ) ,\n",
    "( 4           , \"Bob\"     , 9          , 36 ) ,\n",
    "( 2           , \"Winston\" , None       , 37 )  ]\n",
    "emp = spark.createDataFrame(data,schema)\n",
    "emp.show()"
   ]
  },
  {
   "cell_type": "code",
   "execution_count": 0,
   "metadata": {
    "application/vnd.databricks.v1+cell": {
     "cellMetadata": {
      "byteLimit": 2048000,
      "rowLimit": 10000
     },
     "inputWidgets": {},
     "nuid": "72ea3a39-1595-4a98-b97c-2fcc27daadac",
     "showTitle": false,
     "title": ""
    }
   },
   "outputs": [
    {
     "output_type": "stream",
     "name": "stdout",
     "output_type": "stream",
     "text": [
      "+-----------+-----+-------------+-----------+\n|employee_id| name|reports_count|average_age|\n+-----------+-----+-------------+-----------+\n|          9|Hercy|            2|       39.0|\n+-----------+-----+-------------+-----------+\n\n"
     ]
    }
   ],
   "source": [
    "# For this problem, we will consider a manager an employee who has at least 1 other employee reporting to them.\n",
    "# Write a solution to report the ids and the names of all managers, the number of employees who report directly to them, and the average age of the reports rounded to the nearest integer.\n",
    "# Return the result table ordered by employee_id.\n",
    "emp.alias(\"m\").join(emp.alias(\"e\"),col(\"m.reports_to\")==col(\"e.employee_id\"),'inner')\\\n",
    "    .groupBy(\"e.employee_id\",\"e.name\")\\\n",
    "        .agg( count(\"m.employee_id\").alias(\"reports_count\"),     round(avg(\"m.age\")).alias(\"average_age\")).orderBy(\"e.employee_id\").show()\n",
    "    # .select(col(\"e.employee_id\").alias(\"manager_id\"),col(\"e.name\").alias(\"manager_name\"),).show()"
   ]
  },
  {
   "cell_type": "code",
   "execution_count": 0,
   "metadata": {
    "application/vnd.databricks.v1+cell": {
     "cellMetadata": {
      "byteLimit": 2048000,
      "rowLimit": 10000
     },
     "inputWidgets": {},
     "nuid": "7095f553-70ec-4e84-9dce-227b0a4d1266",
     "showTitle": false,
     "title": ""
    }
   },
   "outputs": [
    {
     "output_type": "stream",
     "name": "stdout",
     "output_type": "stream",
     "text": [
      "+-----------+-----+-------------+-----------+\n|employee_id| name|reports_count|average_age|\n+-----------+-----+-------------+-----------+\n|          9|Hercy|            2|       39.0|\n+-----------+-----+-------------+-----------+\n\n"
     ]
    }
   ],
   "source": [
    "emp.createOrReplaceTempView(\"emp\")\n",
    "spark.sql(\"select e.employee_id,e.name, count(*) as reports_count, round(avg(m.age)) as average_age from emp m join emp e on m.reports_to=e.employee_id group by 1,2 order by 1\").show()"
   ]
  },
  {
   "cell_type": "code",
   "execution_count": 0,
   "metadata": {
    "application/vnd.databricks.v1+cell": {
     "cellMetadata": {
      "byteLimit": 2048000,
      "rowLimit": 10000
     },
     "inputWidgets": {},
     "nuid": "01ec39c9-f061-418a-86ef-b7ff11e2db41",
     "showTitle": false,
     "title": ""
    }
   },
   "outputs": [
    {
     "output_type": "display_data",
     "data": {
      "text/html": [
       "<style scoped>\n",
       "  .ansiout {\n",
       "    display: block;\n",
       "    unicode-bidi: embed;\n",
       "    white-space: pre-wrap;\n",
       "    word-wrap: break-word;\n",
       "    word-break: break-all;\n",
       "    font-family: \"Menlo\", \"Monaco\", \"Consolas\", \"Ubuntu Mono\", \"Source Code Pro\", monospace;\n",
       "    font-size: 13px;\n",
       "    color: #555;\n",
       "    margin-left: 4px;\n",
       "    line-height: 19px;\n",
       "  }\n",
       "</style>"
      ]
     },
     "metadata": {
      "application/vnd.databricks.v1+output": {
       "arguments": {},
       "data": "",
       "errorSummary": "The spark context has stopped and the driver is restarting. Your notebook will be automatically reattached.",
       "errorTraceType": "html",
       "metadata": {},
       "type": "ipynbError"
      }
     },
     "output_type": "display_data"
    }
   ],
   "source": [
    "spark.stop()"
   ]
  },
  {
   "cell_type": "code",
   "execution_count": 0,
   "metadata": {
    "application/vnd.databricks.v1+cell": {
     "cellMetadata": {},
     "inputWidgets": {},
     "nuid": "38e1458d-16a8-41a1-9ba3-d4452f287a09",
     "showTitle": false,
     "title": ""
    }
   },
   "outputs": [],
   "source": []
  }
 ],
 "metadata": {
  "application/vnd.databricks.v1+notebook": {
   "dashboards": [],
   "language": "python",
   "notebookMetadata": {
    "pythonIndentUnit": 4
   },
   "notebookName": "1731. The Number of Employees Which Report to Each Employee",
   "widgets": {}
  }
 },
 "nbformat": 4,
 "nbformat_minor": 0
}
