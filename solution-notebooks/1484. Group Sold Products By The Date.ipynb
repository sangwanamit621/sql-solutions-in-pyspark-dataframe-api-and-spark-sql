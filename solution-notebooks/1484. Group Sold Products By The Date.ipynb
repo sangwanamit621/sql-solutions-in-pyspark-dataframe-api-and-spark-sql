{
 "cells": [
  {
   "cell_type": "code",
   "execution_count": 0,
   "metadata": {
    "application/vnd.databricks.v1+cell": {
     "cellMetadata": {
      "byteLimit": 2048000,
      "rowLimit": 10000
     },
     "inputWidgets": {},
     "nuid": "c9a8d8e6-bf05-4abe-bb06-2d4f149e2db7",
     "showTitle": false,
     "title": ""
    }
   },
   "outputs": [],
   "source": [
    "from pyspark import SparkConf\n",
    "from pyspark.sql.session import SparkSession\n",
    "from pyspark.sql.types import StructField,StructType,StringType,DateType\n",
    "from pyspark.sql.functions import col,collect_set,array_join,sort_array,count_distinct\n",
    "from datetime import datetime\n",
    "\n",
    "spark = SparkSession.builder.appName(\"app\").master(\"local[2]\").getOrCreate()"
   ]
  },
  {
   "cell_type": "code",
   "execution_count": 0,
   "metadata": {
    "application/vnd.databricks.v1+cell": {
     "cellMetadata": {
      "byteLimit": 2048000,
      "rowLimit": 10000
     },
     "inputWidgets": {},
     "nuid": "ef5eca31-7046-4ba7-a9c8-dcdc76fb7dc7",
     "showTitle": false,
     "title": ""
    }
   },
   "outputs": [
    {
     "output_type": "stream",
     "name": "stdout",
     "output_type": "stream",
     "text": [
      "+----------+----------+\n| sell_date|   product|\n+----------+----------+\n|2020-05-30| Headphone|\n|2020-06-01|    Pencil|\n|2020-06-02|      Mask|\n|2020-05-30|Basketball|\n|2020-06-01|     Bible|\n|2020-06-02|      Mask|\n|2020-05-30|   T-Shirt|\n+----------+----------+\n\n"
     ]
    }
   ],
   "source": [
    "schema = StructType([\n",
    "    StructField(\"sell_date\",DateType(),False),\n",
    "    StructField(\"product\",StringType(),False)\n",
    "])\n",
    "\n",
    "data = [\n",
    "    ( datetime(2020,5,30) , \"Headphone\"  ) ,\n",
    "    ( datetime(2020,6,1 ), \"Pencil\"      ) ,\n",
    "    ( datetime(2020,6,2 ), \"Mask\"        ) ,\n",
    "    ( datetime(2020,5,30) , \"Basketball\" ) ,\n",
    "    ( datetime(2020,6,1 ), \"Bible\"       ) ,\n",
    "    ( datetime(2020,6,2 ), \"Mask\"        ) ,\n",
    "    ( datetime(2020,5,30) , \"T-Shirt\"    ) \n",
    "]\n",
    "\n",
    "activities = spark.createDataFrame(data,schema)\n",
    "activities.show()"
   ]
  },
  {
   "cell_type": "code",
   "execution_count": 0,
   "metadata": {
    "application/vnd.databricks.v1+cell": {
     "cellMetadata": {
      "byteLimit": 2048000,
      "rowLimit": 10000
     },
     "inputWidgets": {},
     "nuid": "545199d3-4ae0-4561-834c-39604aedebcc",
     "showTitle": false,
     "title": ""
    }
   },
   "outputs": [
    {
     "output_type": "stream",
     "name": "stdout",
     "output_type": "stream",
     "text": [
      "+----------+--------+----------------------------+\n|sell_date |num_sold|products                    |\n+----------+--------+----------------------------+\n|2020-05-30|3       |Basketball,Headphone,T-Shirt|\n|2020-06-01|2       |Bible,Pencil                |\n|2020-06-02|1       |Mask                        |\n+----------+--------+----------------------------+\n\n"
     ]
    }
   ],
   "source": [
    "# Write a solution to find for each date the number of different products sold and their names. The sold products names for each date should be sorted lexicographically.\n",
    "# Return the result table ordered by sell_date.\n",
    "\n",
    "activities.orderBy(\"product\").groupBy(\"sell_date\")\\\n",
    "    .agg(   count_distinct(\"product\").alias(\"num_sold\"),\\\n",
    "            array_join(sort_array(collect_set(col(\"product\")))\\\n",
    "        ,delimiter=\",\").alias(\"products\"))\\\n",
    "    .orderBy(\"sell_date\").show(truncate=False)"
   ]
  },
  {
   "cell_type": "code",
   "execution_count": 0,
   "metadata": {
    "application/vnd.databricks.v1+cell": {
     "cellMetadata": {
      "byteLimit": 2048000,
      "rowLimit": 10000
     },
     "inputWidgets": {},
     "nuid": "94cc90d6-cc01-4b06-a4b3-ac292bdaffc7",
     "showTitle": false,
     "title": ""
    }
   },
   "outputs": [
    {
     "output_type": "stream",
     "name": "stdout",
     "output_type": "stream",
     "text": [
      "+----------+--------+----------------------------+\n|sell_date |num_sold|products                    |\n+----------+--------+----------------------------+\n|2020-05-30|3       |Basketball,Headphone,T-Shirt|\n|2020-06-01|2       |Bible,Pencil                |\n|2020-06-02|1       |Mask                        |\n+----------+--------+----------------------------+\n\n"
     ]
    }
   ],
   "source": [
    "activities.createOrReplaceTempView(\"a\")\n",
    "spark.sql(\"select sell_date,count(distinct product) as num_sold, array_join(sort_array(collect_set(product)),',') as products from a group by 1 order by 1\").show(truncate=False)"
   ]
  },
  {
   "cell_type": "code",
   "execution_count": 0,
   "metadata": {
    "application/vnd.databricks.v1+cell": {
     "cellMetadata": {
      "byteLimit": 2048000,
      "rowLimit": 10000
     },
     "inputWidgets": {},
     "nuid": "d64cce5e-0296-4593-aae2-50f1f84de08f",
     "showTitle": false,
     "title": ""
    }
   },
   "outputs": [
    {
     "output_type": "display_data",
     "data": {
      "text/html": [
       "<style scoped>\n",
       "  .ansiout {\n",
       "    display: block;\n",
       "    unicode-bidi: embed;\n",
       "    white-space: pre-wrap;\n",
       "    word-wrap: break-word;\n",
       "    word-break: break-all;\n",
       "    font-family: \"Menlo\", \"Monaco\", \"Consolas\", \"Ubuntu Mono\", \"Source Code Pro\", monospace;\n",
       "    font-size: 13px;\n",
       "    color: #555;\n",
       "    margin-left: 4px;\n",
       "    line-height: 19px;\n",
       "  }\n",
       "</style>"
      ]
     },
     "metadata": {
      "application/vnd.databricks.v1+output": {
       "arguments": {},
       "data": "",
       "errorSummary": "The spark context has stopped and the driver is restarting. Your notebook will be automatically reattached.",
       "errorTraceType": "html",
       "metadata": {},
       "type": "ipynbError"
      }
     },
     "output_type": "display_data"
    }
   ],
   "source": [
    "spark.stop()"
   ]
  },
  {
   "cell_type": "code",
   "execution_count": 0,
   "metadata": {
    "application/vnd.databricks.v1+cell": {
     "cellMetadata": {},
     "inputWidgets": {},
     "nuid": "0e379d70-cbc0-4faf-bf27-87a69af01ee0",
     "showTitle": false,
     "title": ""
    }
   },
   "outputs": [],
   "source": []
  }
 ],
 "metadata": {
  "application/vnd.databricks.v1+notebook": {
   "dashboards": [],
   "language": "python",
   "notebookMetadata": {
    "pythonIndentUnit": 4
   },
   "notebookName": "1484. Group Sold Products By The Date",
   "widgets": {}
  }
 },
 "nbformat": 4,
 "nbformat_minor": 0
}
