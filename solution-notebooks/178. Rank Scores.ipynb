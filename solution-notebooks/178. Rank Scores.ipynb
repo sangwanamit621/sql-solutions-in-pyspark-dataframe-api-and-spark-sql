{
 "cells": [
  {
   "cell_type": "code",
   "execution_count": 0,
   "metadata": {
    "application/vnd.databricks.v1+cell": {
     "cellMetadata": {
      "byteLimit": 2048000,
      "rowLimit": 10000
     },
     "inputWidgets": {},
     "nuid": "23d653a7-c320-4813-a055-3b21e00dd58f",
     "showTitle": false,
     "title": ""
    }
   },
   "outputs": [],
   "source": [
    "from pyspark import SparkConf\n",
    "from pyspark.sql.session import SparkSession\n",
    "from pyspark.sql.types import StructField, StructType,IntegerType,FloatType\n",
    "from pyspark.sql.functions import col,dense_rank\n",
    "from pyspark.sql.window import Window\n",
    "\n",
    "spark = SparkSession.builder.appName(\"app\").master(\"local[3]\").getOrCreate()"
   ]
  },
  {
   "cell_type": "code",
   "execution_count": 0,
   "metadata": {
    "application/vnd.databricks.v1+cell": {
     "cellMetadata": {
      "byteLimit": 2048000,
      "rowLimit": 10000
     },
     "inputWidgets": {},
     "nuid": "90cc9e3f-1c76-4b67-a635-1043a74337c8",
     "showTitle": false,
     "title": ""
    }
   },
   "outputs": [
    {
     "output_type": "stream",
     "name": "stdout",
     "output_type": "stream",
     "text": [
      "+---+-----+\n| id|score|\n+---+-----+\n|  1|  3.5|\n|  2| 3.65|\n|  3|  4.0|\n|  4| 3.85|\n|  5|  4.0|\n|  6| 3.65|\n+---+-----+\n\n"
     ]
    }
   ],
   "source": [
    "schema = StructType([\n",
    "    StructField(\"id\",IntegerType(),False),\n",
    "    StructField(\"score\",FloatType(),False)\n",
    "])\n",
    "data = [\n",
    "( 1  , 3.50 ) ,\n",
    "( 2  , 3.65 ) ,\n",
    "( 3  , 4.00 ) ,\n",
    "( 4  , 3.85 ) ,\n",
    "( 5  , 4.00 ) ,\n",
    "( 6  , 3.65 ) \n",
    "]\n",
    "\n",
    "scores = spark.createDataFrame(data,schema)\n",
    "scores.show()"
   ]
  },
  {
   "cell_type": "code",
   "execution_count": 0,
   "metadata": {
    "application/vnd.databricks.v1+cell": {
     "cellMetadata": {
      "byteLimit": 2048000,
      "rowLimit": 10000
     },
     "inputWidgets": {},
     "nuid": "3b6c7c0e-ffb2-46a0-aec4-9adb54e97819",
     "showTitle": false,
     "title": ""
    }
   },
   "outputs": [
    {
     "output_type": "stream",
     "name": "stdout",
     "output_type": "stream",
     "text": [
      "+-----+----+\n|score|rank|\n+-----+----+\n|  4.0|   1|\n|  4.0|   1|\n| 3.85|   2|\n| 3.65|   3|\n| 3.65|   3|\n|  3.5|   4|\n+-----+----+\n\n"
     ]
    }
   ],
   "source": [
    "# Write a solution to find the rank of the scores. The ranking should be calculated according to the following rules:\n",
    "# * The scores should be ranked from the highest to the lowest.\n",
    "# * If there is a tie between two scores, both should have the same ranking.\n",
    "# * After a tie, the next ranking number should be the next consecutive integer value. In other words, there should be no holes between ranks.\n",
    "# Return the result table ordered by score in descending order.\n",
    "\n",
    "window_spec = Window.orderBy(col(\"score\").desc())\n",
    "scores.withColumn(\"rank\",dense_rank().over(window_spec)).select(\"score\",\"rank\").show()"
   ]
  },
  {
   "cell_type": "code",
   "execution_count": 0,
   "metadata": {
    "application/vnd.databricks.v1+cell": {
     "cellMetadata": {
      "byteLimit": 2048000,
      "rowLimit": 10000
     },
     "inputWidgets": {},
     "nuid": "9d950546-03df-4999-8d3f-caa8df186907",
     "showTitle": false,
     "title": ""
    }
   },
   "outputs": [
    {
     "output_type": "stream",
     "name": "stdout",
     "output_type": "stream",
     "text": [
      "+-----+----+\n|score|rank|\n+-----+----+\n|  4.0|   1|\n|  4.0|   1|\n| 3.85|   2|\n| 3.65|   3|\n| 3.65|   3|\n|  3.5|   4|\n+-----+----+\n\n"
     ]
    }
   ],
   "source": [
    "scores.createOrReplaceTempView(\"scores\")\n",
    "spark.sql(\"\"\"select score, dense_rank() over(order by score desc) `rank` from scores\"\"\").show()"
   ]
  },
  {
   "cell_type": "code",
   "execution_count": 0,
   "metadata": {
    "application/vnd.databricks.v1+cell": {
     "cellMetadata": {
      "byteLimit": 2048000,
      "rowLimit": 10000
     },
     "inputWidgets": {},
     "nuid": "63525312-b6d5-4654-b467-cae559c06547",
     "showTitle": false,
     "title": ""
    }
   },
   "outputs": [
    {
     "output_type": "display_data",
     "data": {
      "text/html": [
       "<style scoped>\n",
       "  .ansiout {\n",
       "    display: block;\n",
       "    unicode-bidi: embed;\n",
       "    white-space: pre-wrap;\n",
       "    word-wrap: break-word;\n",
       "    word-break: break-all;\n",
       "    font-family: \"Menlo\", \"Monaco\", \"Consolas\", \"Ubuntu Mono\", \"Source Code Pro\", monospace;\n",
       "    font-size: 13px;\n",
       "    color: #555;\n",
       "    margin-left: 4px;\n",
       "    line-height: 19px;\n",
       "  }\n",
       "</style>"
      ]
     },
     "metadata": {
      "application/vnd.databricks.v1+output": {
       "arguments": {},
       "data": "",
       "errorSummary": "The spark context has stopped and the driver is restarting. Your notebook will be automatically reattached.",
       "errorTraceType": "html",
       "metadata": {},
       "type": "ipynbError"
      }
     },
     "output_type": "display_data"
    }
   ],
   "source": [
    "spark.stop()"
   ]
  },
  {
   "cell_type": "code",
   "execution_count": 0,
   "metadata": {
    "application/vnd.databricks.v1+cell": {
     "cellMetadata": {},
     "inputWidgets": {},
     "nuid": "4df8c6dc-1ae3-4e87-bf7a-61557c39417b",
     "showTitle": false,
     "title": ""
    }
   },
   "outputs": [],
   "source": []
  }
 ],
 "metadata": {
  "application/vnd.databricks.v1+notebook": {
   "dashboards": [],
   "language": "python",
   "notebookMetadata": {
    "pythonIndentUnit": 4
   },
   "notebookName": "178. Rank Scores",
   "widgets": {}
  }
 },
 "nbformat": 4,
 "nbformat_minor": 0
}
