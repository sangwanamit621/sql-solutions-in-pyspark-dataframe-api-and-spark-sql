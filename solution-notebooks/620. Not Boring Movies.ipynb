{
 "cells": [
  {
   "cell_type": "code",
   "execution_count": 0,
   "metadata": {
    "application/vnd.databricks.v1+cell": {
     "cellMetadata": {
      "byteLimit": 2048000,
      "rowLimit": 10000
     },
     "inputWidgets": {},
     "nuid": "1ae15ebf-a080-44cd-bbed-557a25fa76b9",
     "showTitle": false,
     "title": ""
    }
   },
   "outputs": [],
   "source": [
    "from pyspark import SparkConf\n",
    "from pyspark.sql.session import SparkSession\n",
    "from pyspark.sql.types import StructField,StructType,IntegerType,FloatType, StringType\n",
    "from pyspark.sql.functions import col\n",
    "\n",
    "spark = SparkSession.builder.appName(\"app\").master(\"local[2]\").getOrCreate()"
   ]
  },
  {
   "cell_type": "code",
   "execution_count": 0,
   "metadata": {
    "application/vnd.databricks.v1+cell": {
     "cellMetadata": {
      "byteLimit": 2048000,
      "rowLimit": 10000
     },
     "inputWidgets": {},
     "nuid": "5736c40f-0bb9-47e4-be0c-bd493a1008b0",
     "showTitle": false,
     "title": ""
    }
   },
   "outputs": [
    {
     "output_type": "stream",
     "name": "stdout",
     "output_type": "stream",
     "text": [
      "+---+----------+-----------+------+\n| id|     movie|description|rating|\n+---+----------+-----------+------+\n|  1|       War|   great 3D|   8.9|\n|  2|   Science|    fiction|   8.5|\n|  3|     irish|     boring|   6.2|\n|  4|  Ice song|    Fantacy|   8.6|\n|  5|House card|Interesting|   9.1|\n+---+----------+-----------+------+\n\n"
     ]
    }
   ],
   "source": [
    "schema = StructType([\n",
    "    StructField(\"id\",IntegerType(),False),\n",
    "    StructField(\"movie\",StringType(),False),\n",
    "    StructField(\"description\",StringType(),False),\n",
    "    StructField(\"rating\",FloatType(),False)\n",
    "])\n",
    "\n",
    "data = [\n",
    "    (1  , \"War\"        , \"great 3D\"    , 8.9)    ,\n",
    "    (2  , \"Science\"    , \"fiction\"     , 8.5)    ,\n",
    "    (3  , \"irish\"      , \"boring\"      , 6.2)    ,\n",
    "    (4  , \"Ice song\"   , \"Fantacy\"     , 8.6)    ,\n",
    "    (5  , \"House card\" , \"Interesting\" , 9.1)    \n",
    "]\n",
    "\n",
    "cinema = spark.createDataFrame(data,schema)\n",
    "cinema.show()\n"
   ]
  },
  {
   "cell_type": "code",
   "execution_count": 0,
   "metadata": {
    "application/vnd.databricks.v1+cell": {
     "cellMetadata": {
      "byteLimit": 2048000,
      "rowLimit": 10000
     },
     "inputWidgets": {},
     "nuid": "7899d975-011f-4c6b-8dd7-c397611e55ba",
     "showTitle": false,
     "title": ""
    }
   },
   "outputs": [
    {
     "output_type": "stream",
     "name": "stdout",
     "output_type": "stream",
     "text": [
      "+---+----------+-----------+------+\n| id|     movie|description|rating|\n+---+----------+-----------+------+\n|  5|House card|Interesting|   9.1|\n|  1|       War|   great 3D|   8.9|\n+---+----------+-----------+------+\n\n"
     ]
    }
   ],
   "source": [
    "# Write a solution to report the movies with an odd-numbered ID and a description that is not \"boring\". Return the result table ordered by rating in descending order.\n",
    "\n",
    "cinema.filter((col(\"id\")%2==1) & (col(\"description\")!=\"boring\")).sort(col(\"rating\").desc()).show()"
   ]
  },
  {
   "cell_type": "code",
   "execution_count": 0,
   "metadata": {
    "application/vnd.databricks.v1+cell": {
     "cellMetadata": {
      "byteLimit": 2048000,
      "rowLimit": 10000
     },
     "inputWidgets": {},
     "nuid": "dfae7d68-2244-45b0-8470-fcfb084e5111",
     "showTitle": false,
     "title": ""
    }
   },
   "outputs": [
    {
     "output_type": "stream",
     "name": "stdout",
     "output_type": "stream",
     "text": [
      "+---+----------+-----------+------+\n| id|     movie|description|rating|\n+---+----------+-----------+------+\n|  5|House card|Interesting|   9.1|\n|  1|       War|   great 3D|   8.9|\n+---+----------+-----------+------+\n\n"
     ]
    }
   ],
   "source": [
    "cinema.createOrReplaceTempView(\"c\")\n",
    "spark.sql(\"select * from c where id%2=1 and description<>'boring' order by rating desc\").show()"
   ]
  },
  {
   "cell_type": "code",
   "execution_count": 0,
   "metadata": {
    "application/vnd.databricks.v1+cell": {
     "cellMetadata": {
      "byteLimit": 2048000,
      "rowLimit": 10000
     },
     "inputWidgets": {},
     "nuid": "decd1334-0e1e-41e3-9a75-979f7a4c0c44",
     "showTitle": false,
     "title": ""
    }
   },
   "outputs": [
    {
     "output_type": "display_data",
     "data": {
      "text/html": [
       "<style scoped>\n",
       "  .ansiout {\n",
       "    display: block;\n",
       "    unicode-bidi: embed;\n",
       "    white-space: pre-wrap;\n",
       "    word-wrap: break-word;\n",
       "    word-break: break-all;\n",
       "    font-family: \"Menlo\", \"Monaco\", \"Consolas\", \"Ubuntu Mono\", \"Source Code Pro\", monospace;\n",
       "    font-size: 13px;\n",
       "    color: #555;\n",
       "    margin-left: 4px;\n",
       "    line-height: 19px;\n",
       "  }\n",
       "</style>"
      ]
     },
     "metadata": {
      "application/vnd.databricks.v1+output": {
       "arguments": {},
       "data": "",
       "errorSummary": "The spark context has stopped and the driver is restarting. Your notebook will be automatically reattached.",
       "errorTraceType": "html",
       "metadata": {},
       "type": "ipynbError"
      }
     },
     "output_type": "display_data"
    }
   ],
   "source": [
    "spark.stop()"
   ]
  },
  {
   "cell_type": "code",
   "execution_count": 0,
   "metadata": {
    "application/vnd.databricks.v1+cell": {
     "cellMetadata": {},
     "inputWidgets": {},
     "nuid": "277349d7-f62b-4c29-b9d4-c0e97e63a758",
     "showTitle": false,
     "title": ""
    }
   },
   "outputs": [],
   "source": []
  }
 ],
 "metadata": {
  "application/vnd.databricks.v1+notebook": {
   "dashboards": [],
   "language": "python",
   "notebookMetadata": {
    "pythonIndentUnit": 4
   },
   "notebookName": "620. Not Boring Movies",
   "widgets": {}
  }
 },
 "nbformat": 4,
 "nbformat_minor": 0
}
