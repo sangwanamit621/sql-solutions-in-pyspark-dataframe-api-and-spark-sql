{
 "cells": [
  {
   "cell_type": "code",
   "execution_count": 0,
   "metadata": {
    "application/vnd.databricks.v1+cell": {
     "cellMetadata": {
      "byteLimit": 2048000,
      "rowLimit": 10000
     },
     "inputWidgets": {},
     "nuid": "9abdba93-6216-40d0-b475-a3a7209fa598",
     "showTitle": false,
     "title": ""
    }
   },
   "outputs": [],
   "source": [
    "from pyspark import SparkConf\n",
    "from pyspark.sql.session import SparkSession\n",
    "from pyspark.sql.types import StructField, StructType, StringType, IntegerType\n",
    "from pyspark.sql.functions import col\n",
    "\n",
    "spark = SparkSession.builder.appName(\"app\").master(\"local[2]\").getOrCreate()"
   ]
  },
  {
   "cell_type": "code",
   "execution_count": 0,
   "metadata": {
    "application/vnd.databricks.v1+cell": {
     "cellMetadata": {
      "byteLimit": 2048000,
      "rowLimit": 10000
     },
     "inputWidgets": {},
     "nuid": "2416137d-09a0-45a8-9870-e65ac41b399f",
     "showTitle": false,
     "title": ""
    }
   },
   "outputs": [
    {
     "output_type": "stream",
     "name": "stdout",
     "output_type": "stream",
     "text": [
      "+-----------+-------------+------------+\n|employee_id|department_id|primary_flag|\n+-----------+-------------+------------+\n|          1|            1|           N|\n|          2|            1|           Y|\n|          2|            2|           N|\n|          3|            3|           N|\n|          4|            2|           N|\n|          4|            3|           Y|\n|          4|            4|           N|\n+-----------+-------------+------------+\n\n"
     ]
    }
   ],
   "source": [
    "schema = StructType([\n",
    "    StructField(\"employee_id\",IntegerType(),False),\n",
    "    StructField(\"department_id\",IntegerType(),False),\n",
    "    StructField(\"primary_flag\",StringType(),False)\n",
    "])\n",
    "data = [\n",
    "( 1           , 1             , 'N'      )      ,\n",
    "( 2           , 1             , 'Y'      )      ,\n",
    "( 2           , 2             , 'N'      )      ,\n",
    "( 3           , 3             , 'N'      )      ,\n",
    "( 4           , 2             , 'N'      )      ,\n",
    "( 4           , 3             , 'Y'      )      ,\n",
    "( 4           , 4             , 'N'      )      \n",
    "]\n",
    "emp = spark.createDataFrame(data,schema)\n",
    "emp.show()"
   ]
  },
  {
   "cell_type": "code",
   "execution_count": 0,
   "metadata": {
    "application/vnd.databricks.v1+cell": {
     "cellMetadata": {
      "byteLimit": 2048000,
      "rowLimit": 10000
     },
     "inputWidgets": {},
     "nuid": "ef07d35d-fe8b-448d-a5f5-09fb6b64df43",
     "showTitle": false,
     "title": ""
    }
   },
   "outputs": [
    {
     "output_type": "stream",
     "name": "stdout",
     "output_type": "stream",
     "text": [
      "+-----------+-------------+\n|employee_id|department_id|\n+-----------+-------------+\n|          2|            1|\n|          4|            3|\n|          1|            1|\n|          3|            3|\n+-----------+-------------+\n\n"
     ]
    }
   ],
   "source": [
    "# Employees can belong to multiple departments. When the employee joins other departments, they need to decide which department is their primary department. \n",
    "# Note that when an employee belongs to only one department, their primary column is 'N'.\n",
    "# Write a solution to report all the employees with their primary department. For employees who belong to one department, report their only department.\n",
    "# Return the result table in any order.\n",
    "\n",
    "emp_with_pf_y = emp.filter(col(\"primary_flag\")=='Y')\n",
    "emp_id_with_pf_y = emp_with_pf_y.select(\"employee_id\").rdd.flatMap(lambda x:x).collect()\n",
    "emp_with_pf_y.union(emp.filter(~col(\"employee_id\").isin(emp_id_with_pf_y))).select(\"employee_id\",\"department_id\").show()\n"
   ]
  },
  {
   "cell_type": "code",
   "execution_count": 0,
   "metadata": {
    "application/vnd.databricks.v1+cell": {
     "cellMetadata": {
      "byteLimit": 2048000,
      "rowLimit": 10000
     },
     "inputWidgets": {},
     "nuid": "39d3c8f5-ae67-4e2b-8e0e-54587c3a6dda",
     "showTitle": false,
     "title": ""
    }
   },
   "outputs": [
    {
     "output_type": "stream",
     "name": "stdout",
     "output_type": "stream",
     "text": [
      "+-----------+-------------+\n|employee_id|department_id|\n+-----------+-------------+\n|          2|            1|\n|          4|            3|\n|          1|            1|\n|          3|            3|\n+-----------+-------------+\n\n"
     ]
    }
   ],
   "source": [
    "emp.createTempView(\"emp\")\n",
    "spark.sql(\"\"\"select employee_id,department_id from emp where primary_flag='Y' \n",
    "            union \n",
    "            select employee_id,department_id from emp where employee_id not in (select employee_id from emp where primary_flag='Y')\"\"\").show()"
   ]
  },
  {
   "cell_type": "code",
   "execution_count": 0,
   "metadata": {
    "application/vnd.databricks.v1+cell": {
     "cellMetadata": {
      "byteLimit": 2048000,
      "rowLimit": 10000
     },
     "inputWidgets": {},
     "nuid": "bdb84338-9a80-422b-93ff-f5902cb07cf7",
     "showTitle": false,
     "title": ""
    }
   },
   "outputs": [
    {
     "output_type": "display_data",
     "data": {
      "text/html": [
       "<style scoped>\n",
       "  .ansiout {\n",
       "    display: block;\n",
       "    unicode-bidi: embed;\n",
       "    white-space: pre-wrap;\n",
       "    word-wrap: break-word;\n",
       "    word-break: break-all;\n",
       "    font-family: \"Menlo\", \"Monaco\", \"Consolas\", \"Ubuntu Mono\", \"Source Code Pro\", monospace;\n",
       "    font-size: 13px;\n",
       "    color: #555;\n",
       "    margin-left: 4px;\n",
       "    line-height: 19px;\n",
       "  }\n",
       "</style>"
      ]
     },
     "metadata": {
      "application/vnd.databricks.v1+output": {
       "arguments": {},
       "data": "",
       "errorSummary": "The spark context has stopped and the driver is restarting. Your notebook will be automatically reattached.",
       "errorTraceType": "html",
       "metadata": {},
       "type": "ipynbError"
      }
     },
     "output_type": "display_data"
    }
   ],
   "source": [
    "spark.stop()"
   ]
  },
  {
   "cell_type": "code",
   "execution_count": 0,
   "metadata": {
    "application/vnd.databricks.v1+cell": {
     "cellMetadata": {},
     "inputWidgets": {},
     "nuid": "1161c57e-e043-49c5-ad17-a0c8cbc066ee",
     "showTitle": false,
     "title": ""
    }
   },
   "outputs": [],
   "source": []
  }
 ],
 "metadata": {
  "application/vnd.databricks.v1+notebook": {
   "dashboards": [],
   "language": "python",
   "notebookMetadata": {
    "pythonIndentUnit": 4
   },
   "notebookName": "1789. Primary Department for Each Employee",
   "widgets": {}
  }
 },
 "nbformat": 4,
 "nbformat_minor": 0
}
