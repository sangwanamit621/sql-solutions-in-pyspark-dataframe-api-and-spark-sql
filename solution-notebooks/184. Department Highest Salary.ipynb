{
 "cells": [
  {
   "cell_type": "code",
   "execution_count": 0,
   "metadata": {
    "application/vnd.databricks.v1+cell": {
     "cellMetadata": {
      "byteLimit": 2048000,
      "rowLimit": 10000
     },
     "inputWidgets": {},
     "nuid": "c5e69224-bb5e-4f3e-9529-6ead74320dc1",
     "showTitle": false,
     "title": ""
    }
   },
   "outputs": [],
   "source": [
    "from pyspark import SparkConf\n",
    "from pyspark.sql.session import SparkSession\n",
    "from pyspark.sql.types import StructField,StructType,StringType,IntegerType\n",
    "from pyspark.sql.functions import col,max\n",
    "from pyspark.sql.window import Window\n",
    "\n",
    "spark = SparkSession.builder.appName(\"app\").master(\"local[2]\").getOrCreate()"
   ]
  },
  {
   "cell_type": "code",
   "execution_count": 0,
   "metadata": {
    "application/vnd.databricks.v1+cell": {
     "cellMetadata": {
      "byteLimit": 2048000,
      "rowLimit": 10000
     },
     "inputWidgets": {},
     "nuid": "390c7619-f73b-45c9-999b-6dbfbf9213a8",
     "showTitle": false,
     "title": ""
    }
   },
   "outputs": [
    {
     "output_type": "stream",
     "name": "stdout",
     "output_type": "stream",
     "text": [
      "+---+-----+------+------------+\n| id| name|salary|departmentId|\n+---+-----+------+------------+\n|  1|  Joe| 70000|           1|\n|  2|  Jim| 90000|           1|\n|  3|Henry| 80000|           2|\n|  4|  Sam| 60000|           2|\n|  5|  Max| 90000|           1|\n+---+-----+------+------------+\n\n"
     ]
    }
   ],
   "source": [
    "schema = StructType([\n",
    "    StructField(\"id\",IntegerType(),False),\n",
    "    StructField(\"name\",StringType(),False),\n",
    "    StructField(\"salary\",IntegerType(),False),\n",
    "    StructField(\"departmentId\",IntegerType(),False)\n",
    "])\n",
    "data = [\n",
    "( 1  , 'Joe'   , 70000  , 1 )           ,\n",
    "( 2  , 'Jim'   , 90000  , 1 )           ,\n",
    "( 3  , 'Henry' , 80000  , 2 )           ,\n",
    "( 4  , 'Sam'   , 60000  , 2 )           ,\n",
    "( 5  , 'Max'   , 90000  , 1 )           \n",
    "]\n",
    "emp = spark.createDataFrame(data,schema)\n",
    "emp.show()"
   ]
  },
  {
   "cell_type": "code",
   "execution_count": 0,
   "metadata": {
    "application/vnd.databricks.v1+cell": {
     "cellMetadata": {
      "byteLimit": 2048000,
      "rowLimit": 10000
     },
     "inputWidgets": {},
     "nuid": "95702a45-bb01-4371-a6ca-ff46af7bb8d6",
     "showTitle": false,
     "title": ""
    }
   },
   "outputs": [
    {
     "output_type": "stream",
     "name": "stdout",
     "output_type": "stream",
     "text": [
      "+---+-----+\n| id| name|\n+---+-----+\n|  1|   IT|\n|  2|Sales|\n+---+-----+\n\n"
     ]
    }
   ],
   "source": [
    "schema = StructType([\n",
    "    StructField(\"id\",IntegerType(),False),\n",
    "    StructField(\"name\",StringType(),False)\n",
    "])\n",
    "data = [\n",
    "    (1,'IT'),\n",
    "    (2,'Sales')\n",
    "]\n",
    "dept = spark.createDataFrame(data,schema)\n",
    "dept.show()"
   ]
  },
  {
   "cell_type": "code",
   "execution_count": 0,
   "metadata": {
    "application/vnd.databricks.v1+cell": {
     "cellMetadata": {
      "byteLimit": 2048000,
      "rowLimit": 10000
     },
     "inputWidgets": {},
     "nuid": "a8fbb112-6779-4da3-b531-3f00fda22822",
     "showTitle": false,
     "title": ""
    }
   },
   "outputs": [
    {
     "output_type": "stream",
     "name": "stdout",
     "output_type": "stream",
     "text": [
      "+----------+--------+------+\n|Department|Employee|salary|\n+----------+--------+------+\n|        IT|     Max| 90000|\n|        IT|     Jim| 90000|\n|     Sales|   Henry| 80000|\n+----------+--------+------+\n\n"
     ]
    }
   ],
   "source": [
    "# Write a solution to find employees who have the highest salary in each of the departments. Return the result table in any order.\n",
    "window_spec = Window.partitionBy(\"departmentId\")\n",
    "emp.select(\"name\",\"salary\",\"departmentId\",max(\"salary\").over(window_spec).alias(\"max_salary\"))\\\n",
    "    .filter(col(\"salary\")==col(\"max_salary\")).join(dept,emp.departmentId==dept.id,\"inner\")\\\n",
    "    .select(dept.name.alias(\"Department\"), emp.name.alias(\"Employee\"),\"salary\").show()"
   ]
  },
  {
   "cell_type": "code",
   "execution_count": 0,
   "metadata": {
    "application/vnd.databricks.v1+cell": {
     "cellMetadata": {
      "byteLimit": 2048000,
      "rowLimit": 10000
     },
     "inputWidgets": {},
     "nuid": "6debf6d2-84d8-460a-99ed-ee45960709ad",
     "showTitle": false,
     "title": ""
    }
   },
   "outputs": [
    {
     "output_type": "stream",
     "name": "stdout",
     "output_type": "stream",
     "text": [
      "+----------+--------+------+\n|Department|Employee|salary|\n+----------+--------+------+\n|        IT|     Jim| 90000|\n|        IT|     Max| 90000|\n|     Sales|   Henry| 80000|\n+----------+--------+------+\n\n"
     ]
    }
   ],
   "source": [
    "emp.createOrReplaceTempView(\"emp\")\n",
    "dept.createOrReplaceTempView(\"dept\")\n",
    "spark.sql(\"\"\"\n",
    "          select d.name Department, e.name Employee, salary from emp e join dept d on e.departmentId=d.id where (d.id,e.salary) in (select departmentId, max(salary) from emp group by 1)\n",
    "          \"\"\").show()"
   ]
  },
  {
   "cell_type": "code",
   "execution_count": 0,
   "metadata": {
    "application/vnd.databricks.v1+cell": {
     "cellMetadata": {
      "byteLimit": 2048000,
      "rowLimit": 10000
     },
     "inputWidgets": {},
     "nuid": "56986299-1dae-43fc-b872-a2f65c57fcca",
     "showTitle": false,
     "title": ""
    }
   },
   "outputs": [
    {
     "output_type": "display_data",
     "data": {
      "text/html": [
       "<style scoped>\n",
       "  .ansiout {\n",
       "    display: block;\n",
       "    unicode-bidi: embed;\n",
       "    white-space: pre-wrap;\n",
       "    word-wrap: break-word;\n",
       "    word-break: break-all;\n",
       "    font-family: \"Menlo\", \"Monaco\", \"Consolas\", \"Ubuntu Mono\", \"Source Code Pro\", monospace;\n",
       "    font-size: 13px;\n",
       "    color: #555;\n",
       "    margin-left: 4px;\n",
       "    line-height: 19px;\n",
       "  }\n",
       "</style>"
      ]
     },
     "metadata": {
      "application/vnd.databricks.v1+output": {
       "arguments": {},
       "data": "",
       "errorSummary": "The spark context has stopped and the driver is restarting. Your notebook will be automatically reattached.",
       "errorTraceType": "html",
       "metadata": {},
       "type": "ipynbError"
      }
     },
     "output_type": "display_data"
    }
   ],
   "source": [
    "spark.stop()"
   ]
  },
  {
   "cell_type": "code",
   "execution_count": 0,
   "metadata": {
    "application/vnd.databricks.v1+cell": {
     "cellMetadata": {},
     "inputWidgets": {},
     "nuid": "3844cebc-d733-45d6-b950-74416c393839",
     "showTitle": false,
     "title": ""
    }
   },
   "outputs": [],
   "source": []
  }
 ],
 "metadata": {
  "application/vnd.databricks.v1+notebook": {
   "dashboards": [],
   "language": "python",
   "notebookMetadata": {
    "pythonIndentUnit": 4
   },
   "notebookName": "184. Department Highest Salary",
   "widgets": {}
  }
 },
 "nbformat": 4,
 "nbformat_minor": 0
}
