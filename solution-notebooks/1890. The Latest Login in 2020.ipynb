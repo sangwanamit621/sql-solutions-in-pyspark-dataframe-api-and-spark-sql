{
 "cells": [
  {
   "cell_type": "code",
   "execution_count": 0,
   "metadata": {
    "application/vnd.databricks.v1+cell": {
     "cellMetadata": {
      "byteLimit": 2048000,
      "rowLimit": 10000
     },
     "inputWidgets": {},
     "nuid": "0eca03b7-5c89-466f-bf1c-7795bcef301f",
     "showTitle": false,
     "title": ""
    }
   },
   "outputs": [],
   "source": [
    "from pyspark import SparkConf\n",
    "from pyspark.sql.session import SparkSession\n",
    "from pyspark.sql.types import StructType,StructField,IntegerType,TimestampType\n",
    "from pyspark.sql.functions import col,year, max\n",
    "from datetime import datetime\n",
    "\n",
    "spark = SparkSession.builder.appName(\"app\").master(\"local[2]\").getOrCreate()"
   ]
  },
  {
   "cell_type": "code",
   "execution_count": 0,
   "metadata": {
    "application/vnd.databricks.v1+cell": {
     "cellMetadata": {
      "byteLimit": 2048000,
      "rowLimit": 10000
     },
     "inputWidgets": {},
     "nuid": "6a03bb07-ce88-49ef-803b-474e5cc2dcb1",
     "showTitle": false,
     "title": ""
    }
   },
   "outputs": [
    {
     "output_type": "stream",
     "name": "stdout",
     "output_type": "stream",
     "text": [
      "+-------+-------------------+\n|user_id|         time_stamp|\n+-------+-------------------+\n|      6|2020-06-30 15:06:07|\n|      6|2021-04-21 14:06:06|\n|      6|2019-03-07 00:18:15|\n|      8|2020-02-01 05:10:53|\n|      8|2020-12-30 00:46:50|\n|      2|2020-01-16 02:49:50|\n|      2|2019-08-25 07:59:08|\n|     14|2019-07-14 09:00:00|\n|     14|2021-01-06 11:59:59|\n+-------+-------------------+\n\n"
     ]
    }
   ],
   "source": [
    "schema = StructType([\n",
    "    StructField(\"user_id\",IntegerType(),False),\n",
    "    StructField(\"time_stamp\",TimestampType(),False)\n",
    "])\n",
    "data = [\n",
    "( 6       , datetime(2020, 6,30,15, 6, 7) ),\n",
    "( 6       , datetime(2021, 4,21,14, 6, 6) ),\n",
    "( 6       , datetime(2019, 3, 7, 0,18,15) ),\n",
    "( 8       , datetime(2020, 2, 1, 5,10,53) ),\n",
    "( 8       , datetime(2020,12,30, 0,46,50) ),\n",
    "( 2       , datetime(2020, 1,16, 2,49,50) ),\n",
    "( 2       , datetime(2019, 8,25, 7,59, 8) ),\n",
    "( 14      , datetime(2019, 7,14, 9, 0, 0) ),\n",
    "( 14      , datetime(2021, 1, 6,11,59,59) )\n",
    "]\n",
    "logins = spark.createDataFrame(data,schema)\n",
    "logins.show()"
   ]
  },
  {
   "cell_type": "code",
   "execution_count": 0,
   "metadata": {
    "application/vnd.databricks.v1+cell": {
     "cellMetadata": {
      "byteLimit": 2048000,
      "rowLimit": 10000
     },
     "inputWidgets": {},
     "nuid": "ee80d671-bcbf-485e-b17b-1ca24d73c44a",
     "showTitle": false,
     "title": ""
    }
   },
   "outputs": [
    {
     "output_type": "stream",
     "name": "stdout",
     "output_type": "stream",
     "text": [
      "+-------+-------------------+\n|user_id|         last_stamp|\n+-------+-------------------+\n|      6|2020-06-30 15:06:07|\n|      8|2020-12-30 00:46:50|\n|      2|2020-01-16 02:49:50|\n+-------+-------------------+\n\n"
     ]
    }
   ],
   "source": [
    "# Write a solution to report the latest login for all users in the year 2020. Do not include the users who did not login in 2020.\n",
    "# Return the result table in any order.\n",
    "logins.filter(year(\"time_stamp\")==2020).groupBy(\"user_id\").agg(max(\"time_stamp\").alias(\"last_stamp\")).show()"
   ]
  },
  {
   "cell_type": "code",
   "execution_count": 0,
   "metadata": {
    "application/vnd.databricks.v1+cell": {
     "cellMetadata": {
      "byteLimit": 2048000,
      "rowLimit": 10000
     },
     "inputWidgets": {},
     "nuid": "f19ac032-30b6-4869-8436-788b4a639416",
     "showTitle": false,
     "title": ""
    }
   },
   "outputs": [
    {
     "output_type": "stream",
     "name": "stdout",
     "output_type": "stream",
     "text": [
      "+-------+-------------------+\n|user_id|         last_stamp|\n+-------+-------------------+\n|      6|2020-06-30 15:06:07|\n|      8|2020-12-30 00:46:50|\n|      2|2020-01-16 02:49:50|\n+-------+-------------------+\n\n"
     ]
    }
   ],
   "source": [
    "logins.createOrReplaceTempView(\"logins\")\n",
    "spark.sql(\"select user_id,max(time_stamp) last_stamp from logins where year(time_stamp)=2020 group by 1\").show()"
   ]
  },
  {
   "cell_type": "code",
   "execution_count": 0,
   "metadata": {
    "application/vnd.databricks.v1+cell": {
     "cellMetadata": {
      "byteLimit": 2048000,
      "rowLimit": 10000
     },
     "inputWidgets": {},
     "nuid": "db5ce20c-a0a4-49b7-9eba-9f1687884669",
     "showTitle": false,
     "title": ""
    }
   },
   "outputs": [
    {
     "output_type": "display_data",
     "data": {
      "text/html": [
       "<style scoped>\n",
       "  .ansiout {\n",
       "    display: block;\n",
       "    unicode-bidi: embed;\n",
       "    white-space: pre-wrap;\n",
       "    word-wrap: break-word;\n",
       "    word-break: break-all;\n",
       "    font-family: \"Menlo\", \"Monaco\", \"Consolas\", \"Ubuntu Mono\", \"Source Code Pro\", monospace;\n",
       "    font-size: 13px;\n",
       "    color: #555;\n",
       "    margin-left: 4px;\n",
       "    line-height: 19px;\n",
       "  }\n",
       "</style>"
      ]
     },
     "metadata": {
      "application/vnd.databricks.v1+output": {
       "arguments": {},
       "data": "",
       "errorSummary": "The spark context has stopped and the driver is restarting. Your notebook will be automatically reattached.",
       "errorTraceType": "html",
       "metadata": {},
       "type": "ipynbError"
      }
     },
     "output_type": "display_data"
    }
   ],
   "source": [
    "spark.stop()"
   ]
  },
  {
   "cell_type": "code",
   "execution_count": 0,
   "metadata": {
    "application/vnd.databricks.v1+cell": {
     "cellMetadata": {},
     "inputWidgets": {},
     "nuid": "5c73ebc1-731e-4e45-9ae9-c467c7892101",
     "showTitle": false,
     "title": ""
    }
   },
   "outputs": [],
   "source": []
  }
 ],
 "metadata": {
  "application/vnd.databricks.v1+notebook": {
   "dashboards": [],
   "language": "python",
   "notebookMetadata": {
    "pythonIndentUnit": 4
   },
   "notebookName": "1890. The Latest Login in 2020",
   "widgets": {}
  }
 },
 "nbformat": 4,
 "nbformat_minor": 0
}
