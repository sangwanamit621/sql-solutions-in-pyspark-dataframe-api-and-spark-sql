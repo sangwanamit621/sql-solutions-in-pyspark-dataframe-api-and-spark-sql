{
 "cells": [
  {
   "cell_type": "code",
   "execution_count": 0,
   "metadata": {
    "application/vnd.databricks.v1+cell": {
     "cellMetadata": {
      "byteLimit": 2048000,
      "rowLimit": 10000
     },
     "inputWidgets": {},
     "nuid": "556df1d3-c6e1-45e5-a22c-88d4e84cd4e0",
     "showTitle": false,
     "title": ""
    }
   },
   "outputs": [],
   "source": [
    "from pyspark import SparkConf\n",
    "from pyspark.sql.session import SparkSession\n",
    "from pyspark.sql.types import StructType,StructField,StringType,IntegerType,DateType\n",
    "from pyspark.sql.functions import col,sum\n",
    "from datetime import datetime\n",
    "\n",
    "spark = SparkSession.builder.appName(\"app\").master(\"local[3]\").getOrCreate()"
   ]
  },
  {
   "cell_type": "code",
   "execution_count": 0,
   "metadata": {
    "application/vnd.databricks.v1+cell": {
     "cellMetadata": {
      "byteLimit": 2048000,
      "rowLimit": 10000
     },
     "inputWidgets": {},
     "nuid": "2c01d368-7b7f-469f-87cf-6be875b3cd3d",
     "showTitle": false,
     "title": ""
    }
   },
   "outputs": [
    {
     "output_type": "stream",
     "name": "stdout",
     "output_type": "stream",
     "text": [
      "+-------+-------+\n|account|   name|\n+-------+-------+\n| 900001|  Alice|\n| 900002|    Bob|\n| 900003|Charlie|\n+-------+-------+\n\n"
     ]
    }
   ],
   "source": [
    "schema = StructType([\n",
    "    StructField(\"account\",IntegerType(),False),\n",
    "    StructField(\"name\",StringType(),False)\n",
    "])\n",
    "data = [\n",
    "( 900001     , \"Alice\"       ) ,\n",
    "( 900002     , \"Bob\"         ) ,\n",
    "( 900003     , \"Charlie\"     ) \n",
    "]\n",
    "users = spark.createDataFrame(data,schema)\n",
    "users.show()"
   ]
  },
  {
   "cell_type": "code",
   "execution_count": 0,
   "metadata": {
    "application/vnd.databricks.v1+cell": {
     "cellMetadata": {
      "byteLimit": 2048000,
      "rowLimit": 10000
     },
     "inputWidgets": {},
     "nuid": "de498b56-6d86-4592-b365-dd6b84f7e473",
     "showTitle": false,
     "title": ""
    }
   },
   "outputs": [
    {
     "output_type": "stream",
     "name": "stdout",
     "output_type": "stream",
     "text": [
      "+--------+-------+------+-------------+\n|trans_id|account|amount|transacted_on|\n+--------+-------+------+-------------+\n|       1| 900001|  7000|   2020-08-01|\n|       2| 900001|  7000|   2020-09-01|\n|       3| 900001| -3000|   2020-09-02|\n|       4| 900002|  1000|   2020-09-02|\n|       5| 900003|  6000|   2020-08-07|\n|       6| 900003|  6000|   2020-09-07|\n|       7| 900003| -4000|   2020-09-11|\n+--------+-------+------+-------------+\n\n"
     ]
    }
   ],
   "source": [
    "schema = StructType([\n",
    "    StructField(\"trans_id\",IntegerType(),False),\n",
    "    StructField(\"account\",IntegerType(),False),\n",
    "    StructField(\"amount\",IntegerType(),False),\n",
    "    StructField(\"transacted_on\",DateType(),False),\n",
    "])\n",
    "data = [\n",
    "    ( 1          , 900001     , 7000       ,  datetime(2020,8,1 ) ) ,\n",
    "    ( 2          , 900001     , 7000       ,  datetime(2020,9,1 ) ) ,\n",
    "    ( 3          , 900001     , -3000      ,  datetime(2020,9,2 ) ) ,\n",
    "    ( 4          , 900002     , 1000       ,  datetime(2020,9,2 ) ) ,\n",
    "    ( 5          , 900003     , 6000       ,  datetime(2020,8,7 ) ) ,\n",
    "    ( 6          , 900003     , 6000       ,  datetime(2020,9,7 ) ) ,\n",
    "    ( 7          , 900003     , -4000      ,  datetime(2020,9,11) ) \n",
    "]\n",
    "trans = spark.createDataFrame(data,schema)\n",
    "trans.show()\n"
   ]
  },
  {
   "cell_type": "code",
   "execution_count": 0,
   "metadata": {
    "application/vnd.databricks.v1+cell": {
     "cellMetadata": {
      "byteLimit": 2048000,
      "rowLimit": 10000
     },
     "inputWidgets": {},
     "nuid": "d6c76ba4-cd22-4a7e-abe3-7ff17318f1a2",
     "showTitle": false,
     "title": ""
    }
   },
   "outputs": [
    {
     "output_type": "stream",
     "name": "stdout",
     "output_type": "stream",
     "text": [
      "+-----+-------+\n| name|balance|\n+-----+-------+\n|Alice|  11000|\n+-----+-------+\n\n"
     ]
    }
   ],
   "source": [
    "# Write a solution to report the name and balance of users with a balance higher than 10000. The balance of an account is equal to the sum of the amounts of all transactions involving that account.\n",
    "# Return the result table in any order.\n",
    "\n",
    "trans.groupBy(\"account\").agg(sum(\"amount\").alias(\"balance\")).where(col(\"balance\")>10000).join(users,trans.account==users.account,\"left\").select(\"name\",\"balance\").show()"
   ]
  },
  {
   "cell_type": "code",
   "execution_count": 0,
   "metadata": {
    "application/vnd.databricks.v1+cell": {
     "cellMetadata": {
      "byteLimit": 2048000,
      "rowLimit": 10000
     },
     "inputWidgets": {},
     "nuid": "d5eadf3f-5b6e-467d-8734-52506106894f",
     "showTitle": false,
     "title": ""
    }
   },
   "outputs": [
    {
     "output_type": "stream",
     "name": "stdout",
     "output_type": "stream",
     "text": [
      "+-----+-------+\n| name|balance|\n+-----+-------+\n|Alice|  11000|\n+-----+-------+\n\n"
     ]
    }
   ],
   "source": [
    "trans.createOrReplaceTempView(\"t\")\n",
    "users.createOrReplaceTempView(\"u\")\n",
    "\n",
    "spark.sql(\"select u.name, sum(t.amount) as balance from u right join t using (account) group by u.account,u.name having sum(t.amount)>10000 \").show()"
   ]
  },
  {
   "cell_type": "code",
   "execution_count": 0,
   "metadata": {
    "application/vnd.databricks.v1+cell": {
     "cellMetadata": {
      "byteLimit": 2048000,
      "rowLimit": 10000
     },
     "inputWidgets": {},
     "nuid": "cf8306ae-80a1-4982-b1ff-5f80d57b7f5d",
     "showTitle": false,
     "title": ""
    }
   },
   "outputs": [
    {
     "output_type": "display_data",
     "data": {
      "text/html": [
       "<style scoped>\n",
       "  .ansiout {\n",
       "    display: block;\n",
       "    unicode-bidi: embed;\n",
       "    white-space: pre-wrap;\n",
       "    word-wrap: break-word;\n",
       "    word-break: break-all;\n",
       "    font-family: \"Menlo\", \"Monaco\", \"Consolas\", \"Ubuntu Mono\", \"Source Code Pro\", monospace;\n",
       "    font-size: 13px;\n",
       "    color: #555;\n",
       "    margin-left: 4px;\n",
       "    line-height: 19px;\n",
       "  }\n",
       "</style>"
      ]
     },
     "metadata": {
      "application/vnd.databricks.v1+output": {
       "arguments": {},
       "data": "",
       "errorSummary": "The spark context has stopped and the driver is restarting. Your notebook will be automatically reattached.",
       "errorTraceType": "html",
       "metadata": {},
       "type": "ipynbError"
      }
     },
     "output_type": "display_data"
    }
   ],
   "source": [
    "spark.stop()"
   ]
  },
  {
   "cell_type": "code",
   "execution_count": 0,
   "metadata": {
    "application/vnd.databricks.v1+cell": {
     "cellMetadata": {},
     "inputWidgets": {},
     "nuid": "826251b4-aef4-4da0-b080-c66b28fc99be",
     "showTitle": false,
     "title": ""
    }
   },
   "outputs": [],
   "source": []
  }
 ],
 "metadata": {
  "application/vnd.databricks.v1+notebook": {
   "dashboards": [],
   "language": "python",
   "notebookMetadata": {
    "pythonIndentUnit": 4
   },
   "notebookName": "1587. Bank Account Summary II",
   "widgets": {}
  }
 },
 "nbformat": 4,
 "nbformat_minor": 0
}
