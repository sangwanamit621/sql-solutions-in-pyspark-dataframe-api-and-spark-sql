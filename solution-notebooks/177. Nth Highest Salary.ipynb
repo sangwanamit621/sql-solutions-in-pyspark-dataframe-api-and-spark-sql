{
 "cells": [
  {
   "cell_type": "code",
   "execution_count": 0,
   "metadata": {
    "application/vnd.databricks.v1+cell": {
     "cellMetadata": {
      "byteLimit": 2048000,
      "rowLimit": 10000
     },
     "inputWidgets": {},
     "nuid": "f85f1332-fb04-4fe2-9ed6-6ae8799178ef",
     "showTitle": false,
     "title": ""
    }
   },
   "outputs": [],
   "source": [
    "from pyspark import SparkConf\n",
    "from pyspark.sql.session import SparkSession\n",
    "from pyspark.sql.types import StructType,StructField,IntegerType\n",
    "from pyspark.sql.functions import col,dense_rank,when,max\n",
    "from pyspark.sql.window import Window\n",
    "\n",
    "spark = SparkSession.builder.appName(\"app\").master(\"local[3]\").getOrCreate()"
   ]
  },
  {
   "cell_type": "code",
   "execution_count": 0,
   "metadata": {
    "application/vnd.databricks.v1+cell": {
     "cellMetadata": {
      "byteLimit": 2048000,
      "rowLimit": 10000
     },
     "inputWidgets": {},
     "nuid": "a71b9b53-0b6e-4c53-8c26-e5c319233d1b",
     "showTitle": false,
     "title": ""
    }
   },
   "outputs": [
    {
     "output_type": "stream",
     "name": "stdout",
     "output_type": "stream",
     "text": [
      "+---+------+\n| id|salary|\n+---+------+\n|  1|   100|\n|  2|   200|\n|  3|   300|\n|  4|   400|\n|  5|   300|\n|  6|   200|\n+---+------+\n\n"
     ]
    }
   ],
   "source": [
    "schema = StructType([\n",
    "    StructField(\"id\",IntegerType(),False),\n",
    "    StructField(\"salary\",IntegerType(),False)\n",
    "])\n",
    "data = [\n",
    "( 1  , 100 )   ,\n",
    "( 2  , 200 )   ,\n",
    "( 3  , 300 )   ,\n",
    "( 4  , 400 )   ,\n",
    "( 5  , 300 )   ,\n",
    "( 6  , 200 )   \n",
    "]\n",
    "emp = spark.createDataFrame(data,schema)\n",
    "emp.show()"
   ]
  },
  {
   "cell_type": "code",
   "execution_count": 0,
   "metadata": {
    "application/vnd.databricks.v1+cell": {
     "cellMetadata": {
      "byteLimit": 2048000,
      "rowLimit": 10000
     },
     "inputWidgets": {},
     "nuid": "f7884b9c-6e33-422b-88ae-d51e14099d79",
     "showTitle": false,
     "title": ""
    }
   },
   "outputs": [
    {
     "output_type": "stream",
     "name": "stdout",
     "output_type": "stream",
     "text": [
      "2 Highest Salary\n+----------------+\n|2_highest_salary|\n+----------------+\n|             300|\n+----------------+\n\n7 Highest Salary\n+----------------+\n|7_highest_salary|\n+----------------+\n|            null|\n+----------------+\n\n"
     ]
    }
   ],
   "source": [
    "# Write a solution to find the nth highest salary from the Employee table. If there is no nth highest salary, return null.\n",
    "\n",
    "# 2nd Highest salary\n",
    "window_spec = Window.orderBy(col(\"salary\").desc())\n",
    "\n",
    "nth_value = 2\n",
    "print(f\"{nth_value} Highest Salary\")\n",
    "emp.withColumn(\"rnk\",dense_rank().over(window_spec)).filter(col(\"rnk\")==nth_value).select(max(col(\"salary\")).alias(f\"{nth_value}_highest_salary\")).distinct().show()\n",
    "\n",
    "nth_value = 7\n",
    "print(f\"{nth_value} Highest Salary\")\n",
    "emp.withColumn(\"rnk\",dense_rank().over(window_spec)).filter(col(\"rnk\")==nth_value).select(max(col(\"salary\")).alias(f\"{nth_value}_highest_salary\")).distinct().show()\n"
   ]
  },
  {
   "cell_type": "code",
   "execution_count": 0,
   "metadata": {
    "application/vnd.databricks.v1+cell": {
     "cellMetadata": {
      "byteLimit": 2048000,
      "rowLimit": 10000
     },
     "inputWidgets": {},
     "nuid": "00e2e4e0-04fd-4de2-bc2a-90ec1d576d01",
     "showTitle": false,
     "title": ""
    }
   },
   "outputs": [
    {
     "output_type": "stream",
     "name": "stdout",
     "output_type": "stream",
     "text": [
      "+------------------+\n|2nd_highest_Salary|\n+------------------+\n|               300|\n+------------------+\n\n+------------------+\n|7th_highest_Salary|\n+------------------+\n|              null|\n+------------------+\n\n"
     ]
    }
   ],
   "source": [
    "emp.createOrReplaceTempView(\"emp\")\n",
    "\n",
    "spark.sql(\"with cte as (select distinct salary,dense_rank() over(order by salary desc) rnk from emp) select max(salary) as 2nd_highest_Salary from cte where rnk=2\").show()\n",
    "\n",
    "spark.sql(\"with cte as (select distinct salary,dense_rank() over(order by salary desc) rnk from emp) select  max(salary) as 7th_highest_Salary from cte where rnk=7\").show()"
   ]
  },
  {
   "cell_type": "code",
   "execution_count": 0,
   "metadata": {
    "application/vnd.databricks.v1+cell": {
     "cellMetadata": {},
     "inputWidgets": {},
     "nuid": "1b382f84-b2fd-4aa8-9379-5e4865a428a1",
     "showTitle": false,
     "title": ""
    }
   },
   "outputs": [],
   "source": [
    "spark.stop()"
   ]
  }
 ],
 "metadata": {
  "application/vnd.databricks.v1+notebook": {
   "dashboards": [],
   "language": "python",
   "notebookMetadata": {
    "pythonIndentUnit": 4
   },
   "notebookName": "177. Nth Highest Salary",
   "widgets": {}
  }
 },
 "nbformat": 4,
 "nbformat_minor": 0
}
