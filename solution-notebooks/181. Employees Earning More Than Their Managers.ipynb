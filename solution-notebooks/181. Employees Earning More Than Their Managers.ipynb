{
 "cells": [
  {
   "cell_type": "code",
   "execution_count": 0,
   "metadata": {
    "application/vnd.databricks.v1+cell": {
     "cellMetadata": {
      "byteLimit": 2048000,
      "rowLimit": 10000
     },
     "inputWidgets": {},
     "nuid": "8a018144-20be-4650-9d36-26e5dde19566",
     "showTitle": false,
     "title": ""
    }
   },
   "outputs": [],
   "source": [
    "from pyspark.sql.session import SparkSession\n",
    "from pyspark import SparkConf\n",
    "from pyspark.sql.types import IntegerType, FloatType, StringType, DateType, TimestampType, BooleanType, StructType,StructField\n",
    "from pyspark.sql.functions import col\n",
    "from pyspark.sql.dataframe import DataFrame\n",
    "\n",
    "spark = SparkSession.builder.appName(\"app\").master(\"localhost[*]\").getOrCreate()"
   ]
  },
  {
   "cell_type": "code",
   "execution_count": 0,
   "metadata": {
    "application/vnd.databricks.v1+cell": {
     "cellMetadata": {
      "byteLimit": 2048000,
      "rowLimit": 10000
     },
     "inputWidgets": {},
     "nuid": "77a18aec-259f-46ed-84b7-a9ea8de07c18",
     "showTitle": false,
     "title": ""
    }
   },
   "outputs": [
    {
     "output_type": "stream",
     "name": "stdout",
     "output_type": "stream",
     "text": [
      "+---+----+------+---------+\n| id|name|salary|managerId|\n+---+----+------+---------+\n|  1| Joe| 70000|        3|\n|  2| Hen| 80000|        4|\n|  3| Sam| 60000|     null|\n|  4| Max| 90000|     null|\n+---+----+------+---------+\n\n"
     ]
    }
   ],
   "source": [
    "schema = StructType([\n",
    "    StructField(\"id\", IntegerType(), False),\n",
    "    StructField(\"name\",StringType(),False),\n",
    "    StructField(\"salary\",IntegerType(), False),\n",
    "    StructField(\"managerId\",IntegerType(),True)]\n",
    ")\n",
    "data = [\n",
    "    (1,\"Joe\",70000,3),\n",
    "    (2,\"Hen\",80000,4),\n",
    "    (3,\"Sam\",60000,None),\n",
    "    (4,\"Max\",90000,None)\n",
    "]\n",
    "\n",
    "employee = spark.createDataFrame(data=data,schema=schema)\n",
    "employee.show()"
   ]
  },
  {
   "cell_type": "code",
   "execution_count": 0,
   "metadata": {
    "application/vnd.databricks.v1+cell": {
     "cellMetadata": {
      "byteLimit": 2048000,
      "rowLimit": 10000
     },
     "inputWidgets": {},
     "nuid": "5a99cc80-7b02-48a2-a518-08950428fafc",
     "showTitle": false,
     "title": ""
    }
   },
   "outputs": [
    {
     "output_type": "stream",
     "name": "stdout",
     "output_type": "stream",
     "text": [
      "+------------+\n|employeeName|\n+------------+\n|         Joe|\n+------------+\n\n"
     ]
    }
   ],
   "source": [
    "# Write a solution to find the employees who earn more than their managers.\n",
    "\n",
    "# Return the result table in any order.\n",
    "\n",
    "employee.alias(\"emp\").join(employee.alias(\"mng\"),col(\"emp.managerId\")==col(\"mng.id\"),how=\"inner\").filter(col(\"emp.salary\")>col(\"mng.salary\")).select(col(\"emp.name\").alias(\"employeeName\")).show()"
   ]
  },
  {
   "cell_type": "code",
   "execution_count": 0,
   "metadata": {
    "application/vnd.databricks.v1+cell": {
     "cellMetadata": {
      "byteLimit": 2048000,
      "rowLimit": 10000
     },
     "inputWidgets": {},
     "nuid": "8b460d9f-6e20-492b-9d3e-98d37351c405",
     "showTitle": false,
     "title": ""
    }
   },
   "outputs": [
    {
     "output_type": "stream",
     "name": "stdout",
     "output_type": "stream",
     "text": [
      "+----+\n|name|\n+----+\n| Joe|\n+----+\n\n"
     ]
    }
   ],
   "source": [
    "sql_v = employee.createOrReplaceTempView(\"emp\")\n",
    "spark.sql(\"select e.name from emp e inner join emp m on e.managerId=m.id where e.salary>m.salary\").show()"
   ]
  },
  {
   "cell_type": "code",
   "execution_count": 0,
   "metadata": {
    "application/vnd.databricks.v1+cell": {
     "cellMetadata": {},
     "inputWidgets": {},
     "nuid": "653bbb1d-df93-4fad-8c02-de54cd59cee6",
     "showTitle": false,
     "title": ""
    }
   },
   "outputs": [],
   "source": []
  }
 ],
 "metadata": {
  "application/vnd.databricks.v1+notebook": {
   "dashboards": [],
   "language": "python",
   "notebookMetadata": {
    "pythonIndentUnit": 4
   },
   "notebookName": "181. Employees Earning More Than Their Managers",
   "widgets": {}
  }
 },
 "nbformat": 4,
 "nbformat_minor": 0
}
