{
 "cells": [
  {
   "cell_type": "code",
   "execution_count": 0,
   "metadata": {
    "application/vnd.databricks.v1+cell": {
     "cellMetadata": {
      "byteLimit": 2048000,
      "rowLimit": 10000
     },
     "inputWidgets": {},
     "nuid": "7e3398cb-cc58-4268-968b-a2ffb1228cc6",
     "showTitle": false,
     "title": ""
    }
   },
   "outputs": [],
   "source": [
    "from pyspark import SparkConf\n",
    "from pyspark.sql.session import SparkSession\n",
    "from pyspark.sql.types import IntegerType,DateType,StructField,StructType\n",
    "from pyspark.sql.functions import col,lag\n",
    "from pyspark.sql.window import Window\n",
    "from datetime import datetime\n",
    "\n",
    "spark = SparkSession.builder.master(\"local[*]\").appName(\"app\").getOrCreate()"
   ]
  },
  {
   "cell_type": "code",
   "execution_count": 0,
   "metadata": {
    "application/vnd.databricks.v1+cell": {
     "cellMetadata": {
      "byteLimit": 2048000,
      "rowLimit": 10000
     },
     "inputWidgets": {},
     "nuid": "1347e227-5f27-4b45-8c19-9d9138e71c70",
     "showTitle": false,
     "title": ""
    }
   },
   "outputs": [
    {
     "output_type": "stream",
     "name": "stdout",
     "output_type": "stream",
     "text": [
      "+---+----------+----+\n| id|recordDate|temp|\n+---+----------+----+\n|  1|2015-01-01|  10|\n|  2|2015-01-02|  25|\n|  3|2015-01-03|  20|\n|  4|2015-01-04|  30|\n+---+----------+----+\n\n"
     ]
    }
   ],
   "source": [
    "schema = StructType([StructField(\"id\", IntegerType(),True),\n",
    "                     StructField(\"recordDate\",DateType(),True),\n",
    "                     StructField(\"temp\",IntegerType(),True)] )\n",
    "\n",
    "data = [\n",
    "    (1  , datetime(2015,1,1) , 10),\n",
    "    (2  , datetime(2015,1,2) , 25),\n",
    "    (3  , datetime(2015,1,3) , 20),\n",
    "    (4  , datetime(2015,1,4) , 30)\n",
    "]\n",
    "\n",
    "weather = spark.createDataFrame(data,schema)\n",
    "weather.show()"
   ]
  },
  {
   "cell_type": "code",
   "execution_count": 0,
   "metadata": {
    "application/vnd.databricks.v1+cell": {
     "cellMetadata": {
      "byteLimit": 2048000,
      "rowLimit": 10000
     },
     "inputWidgets": {},
     "nuid": "57db83d1-891a-4a08-8dca-457d14ef1258",
     "showTitle": false,
     "title": ""
    }
   },
   "outputs": [
    {
     "output_type": "stream",
     "name": "stdout",
     "output_type": "stream",
     "text": [
      "+---+\n| id|\n+---+\n|  2|\n|  4|\n+---+\n\n"
     ]
    }
   ],
   "source": [
    "# Write a solution to find all dates' Id with higher temperatures compared to its previous dates (yesterday). Return the result table in any order.\n",
    "window_spec = Window.orderBy(\"recordDate\")\n",
    "weather.withColumn(\"last_day_temp\",lag(\"temp\").over(window=window_spec)).where(col(\"temp\")>col(\"last_day_temp\")).select(\"id\").show()"
   ]
  },
  {
   "cell_type": "code",
   "execution_count": 0,
   "metadata": {
    "application/vnd.databricks.v1+cell": {
     "cellMetadata": {
      "byteLimit": 2048000,
      "rowLimit": 10000
     },
     "inputWidgets": {},
     "nuid": "8a91b30a-4448-4262-9a72-ba2981ba1233",
     "showTitle": false,
     "title": ""
    }
   },
   "outputs": [
    {
     "output_type": "stream",
     "name": "stdout",
     "output_type": "stream",
     "text": [
      "+---+\n| id|\n+---+\n|  2|\n|  4|\n+---+\n\n"
     ]
    }
   ],
   "source": [
    "weather.createOrReplaceTempView(\"weather\")\n",
    "spark.sql(\"with cte as (select *,lag(temp) over(order by recordDate) as last_day_temp from weather) select id from cte where temp>last_day_temp\").show()"
   ]
  },
  {
   "cell_type": "code",
   "execution_count": 0,
   "metadata": {
    "application/vnd.databricks.v1+cell": {
     "cellMetadata": {
      "byteLimit": 2048000,
      "rowLimit": 10000
     },
     "inputWidgets": {},
     "nuid": "bfae0405-bea8-43df-85b6-04a3b6603dd9",
     "showTitle": false,
     "title": ""
    }
   },
   "outputs": [
    {
     "output_type": "display_data",
     "data": {
      "text/html": [
       "<style scoped>\n",
       "  .ansiout {\n",
       "    display: block;\n",
       "    unicode-bidi: embed;\n",
       "    white-space: pre-wrap;\n",
       "    word-wrap: break-word;\n",
       "    word-break: break-all;\n",
       "    font-family: \"Menlo\", \"Monaco\", \"Consolas\", \"Ubuntu Mono\", \"Source Code Pro\", monospace;\n",
       "    font-size: 13px;\n",
       "    color: #555;\n",
       "    margin-left: 4px;\n",
       "    line-height: 19px;\n",
       "  }\n",
       "</style>"
      ]
     },
     "metadata": {
      "application/vnd.databricks.v1+output": {
       "arguments": {},
       "data": "",
       "errorSummary": "The spark context has stopped and the driver is restarting. Your notebook will be automatically reattached.",
       "errorTraceType": "html",
       "metadata": {},
       "type": "ipynbError"
      }
     },
     "output_type": "display_data"
    }
   ],
   "source": [
    "spark.stop()"
   ]
  },
  {
   "cell_type": "code",
   "execution_count": 0,
   "metadata": {
    "application/vnd.databricks.v1+cell": {
     "cellMetadata": {},
     "inputWidgets": {},
     "nuid": "29a74123-29d3-4285-8ad2-ae7d03e41958",
     "showTitle": false,
     "title": ""
    }
   },
   "outputs": [],
   "source": []
  }
 ],
 "metadata": {
  "application/vnd.databricks.v1+notebook": {
   "dashboards": [],
   "language": "python",
   "notebookMetadata": {
    "pythonIndentUnit": 4
   },
   "notebookName": "197. Rising Temperature",
   "widgets": {}
  }
 },
 "nbformat": 4,
 "nbformat_minor": 0
}
