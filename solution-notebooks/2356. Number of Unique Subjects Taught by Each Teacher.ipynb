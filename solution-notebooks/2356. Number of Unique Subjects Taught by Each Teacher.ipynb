{
 "cells": [
  {
   "cell_type": "code",
   "execution_count": 0,
   "metadata": {
    "application/vnd.databricks.v1+cell": {
     "cellMetadata": {
      "byteLimit": 2048000,
      "rowLimit": 10000
     },
     "inputWidgets": {},
     "nuid": "7a295c9a-7076-4799-8db0-3f59d1a7cd5b",
     "showTitle": false,
     "title": ""
    }
   },
   "outputs": [],
   "source": [
    "from pyspark import SparkConf\n",
    "from pyspark.sql.session import SparkSession\n",
    "from pyspark.sql.types import StructField,StructType,IntegerType\n",
    "from pyspark.sql.functions import col,count_distinct\n",
    "\n",
    "spark = SparkSession.builder.appName(\"app\").master(\"local[2]\").getOrCreate()"
   ]
  },
  {
   "cell_type": "code",
   "execution_count": 0,
   "metadata": {
    "application/vnd.databricks.v1+cell": {
     "cellMetadata": {
      "byteLimit": 2048000,
      "rowLimit": 10000
     },
     "inputWidgets": {},
     "nuid": "9f355aab-c69b-4864-8cf2-7d3c6a80b1de",
     "showTitle": false,
     "title": ""
    }
   },
   "outputs": [
    {
     "output_type": "stream",
     "name": "stdout",
     "output_type": "stream",
     "text": [
      "+----------+----------+-------+\n|teacher_id|subject_id|dept_id|\n+----------+----------+-------+\n|         1|         2|      3|\n|         1|         2|      4|\n|         1|         3|      3|\n|         2|         1|      1|\n|         2|         2|      1|\n|         2|         3|      1|\n|         2|         4|      1|\n+----------+----------+-------+\n\n"
     ]
    }
   ],
   "source": [
    "data = [\n",
    "( 1          , 2          , 3    )   ,\n",
    "( 1          , 2          , 4    )   ,\n",
    "( 1          , 3          , 3    )   ,\n",
    "( 2          , 1          , 1    )   ,\n",
    "( 2          , 2          , 1    )   ,\n",
    "( 2          , 3          , 1    )   ,\n",
    "( 2          , 4          , 1    )   ,\n",
    "]\n",
    "schema = StructType([\n",
    "    StructField(\"teacher_id\",IntegerType(),False),\n",
    "    StructField(\"subject_id\",IntegerType(),False),\n",
    "    StructField(\"dept_id\",IntegerType(),False)\n",
    "])\n",
    "\n",
    "teachers = spark.createDataFrame(data,schema)\n",
    "teachers.show()"
   ]
  },
  {
   "cell_type": "code",
   "execution_count": 0,
   "metadata": {
    "application/vnd.databricks.v1+cell": {
     "cellMetadata": {
      "byteLimit": 2048000,
      "rowLimit": 10000
     },
     "inputWidgets": {},
     "nuid": "5dd1f91e-092e-49ba-83f5-adef59d4abfa",
     "showTitle": false,
     "title": ""
    }
   },
   "outputs": [
    {
     "output_type": "stream",
     "name": "stdout",
     "output_type": "stream",
     "text": [
      "+----------+--------+\n|teacher_id|subjects|\n+----------+--------+\n|         1|       2|\n|         2|       4|\n+----------+--------+\n\n"
     ]
    }
   ],
   "source": [
    "# Write a solution to calculate the number of unique subjects each teacher teaches in the university. Return the result table in any order.\n",
    "\n",
    "teachers.groupBy(\"teacher_id\").agg(count_distinct(\"subject_id\").alias(\"subjects\")).show()"
   ]
  },
  {
   "cell_type": "code",
   "execution_count": 0,
   "metadata": {
    "application/vnd.databricks.v1+cell": {
     "cellMetadata": {
      "byteLimit": 2048000,
      "rowLimit": 10000
     },
     "inputWidgets": {},
     "nuid": "8ce311ec-bc5a-4c23-9586-76660cb3aef9",
     "showTitle": false,
     "title": ""
    }
   },
   "outputs": [
    {
     "output_type": "stream",
     "name": "stdout",
     "output_type": "stream",
     "text": [
      "+----------+--------+\n|teacher_id|subjects|\n+----------+--------+\n|         1|       2|\n|         2|       4|\n+----------+--------+\n\n"
     ]
    }
   ],
   "source": [
    "teachers.createOrReplaceTempView(\"t\")\n",
    "spark.sql(\"select teacher_id,count(distinct subject_id) as subjects from t group by 1\").show()"
   ]
  },
  {
   "cell_type": "code",
   "execution_count": 0,
   "metadata": {
    "application/vnd.databricks.v1+cell": {
     "cellMetadata": {
      "byteLimit": 2048000,
      "rowLimit": 10000
     },
     "inputWidgets": {},
     "nuid": "30ce9787-c0df-4c6e-ad7b-dd4e2e8ccfe8",
     "showTitle": false,
     "title": ""
    }
   },
   "outputs": [
    {
     "output_type": "display_data",
     "data": {
      "text/html": [
       "<style scoped>\n",
       "  .ansiout {\n",
       "    display: block;\n",
       "    unicode-bidi: embed;\n",
       "    white-space: pre-wrap;\n",
       "    word-wrap: break-word;\n",
       "    word-break: break-all;\n",
       "    font-family: \"Menlo\", \"Monaco\", \"Consolas\", \"Ubuntu Mono\", \"Source Code Pro\", monospace;\n",
       "    font-size: 13px;\n",
       "    color: #555;\n",
       "    margin-left: 4px;\n",
       "    line-height: 19px;\n",
       "  }\n",
       "</style>"
      ]
     },
     "metadata": {
      "application/vnd.databricks.v1+output": {
       "arguments": {},
       "data": "",
       "errorSummary": "The spark context has stopped and the driver is restarting. Your notebook will be automatically reattached.",
       "errorTraceType": "html",
       "metadata": {},
       "type": "ipynbError"
      }
     },
     "output_type": "display_data"
    }
   ],
   "source": [
    "spark.stop()"
   ]
  },
  {
   "cell_type": "code",
   "execution_count": 0,
   "metadata": {
    "application/vnd.databricks.v1+cell": {
     "cellMetadata": {},
     "inputWidgets": {},
     "nuid": "f12361be-4e40-4384-8259-1896470d5024",
     "showTitle": false,
     "title": ""
    }
   },
   "outputs": [],
   "source": []
  }
 ],
 "metadata": {
  "application/vnd.databricks.v1+notebook": {
   "dashboards": [],
   "language": "python",
   "notebookMetadata": {
    "pythonIndentUnit": 4
   },
   "notebookName": "2356. Number of Unique Subjects Taught by Each Teacher",
   "widgets": {}
  }
 },
 "nbformat": 4,
 "nbformat_minor": 0
}
