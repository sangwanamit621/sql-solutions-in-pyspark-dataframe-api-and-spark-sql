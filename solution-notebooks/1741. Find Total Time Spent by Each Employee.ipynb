{
 "cells": [
  {
   "cell_type": "code",
   "execution_count": 0,
   "metadata": {
    "application/vnd.databricks.v1+cell": {
     "cellMetadata": {
      "byteLimit": 2048000,
      "rowLimit": 10000
     },
     "inputWidgets": {},
     "nuid": "c5b306f9-244e-494a-9ead-9945e5aa52e5",
     "showTitle": false,
     "title": ""
    }
   },
   "outputs": [],
   "source": [
    "from pyspark import SparkConf\n",
    "from pyspark.sql.session import SparkSession\n",
    "from pyspark.sql.types import StructType,StructField,IntegerType,DateType\n",
    "from pyspark.sql.functions import col,when,sum\n",
    "from datetime import datetime\n",
    "\n",
    "spark = SparkSession.builder.appName(\"app\").master(\"local[2]\").getOrCreate()"
   ]
  },
  {
   "cell_type": "code",
   "execution_count": 0,
   "metadata": {
    "application/vnd.databricks.v1+cell": {
     "cellMetadata": {
      "byteLimit": 2048000,
      "rowLimit": 10000
     },
     "inputWidgets": {},
     "nuid": "cc6160a9-33fb-441d-ac79-8f2f962aaa59",
     "showTitle": false,
     "title": ""
    }
   },
   "outputs": [
    {
     "output_type": "stream",
     "name": "stdout",
     "output_type": "stream",
     "text": [
      "+------+----------+-------+--------+\n|emp_id| event_day|in_time|out_time|\n+------+----------+-------+--------+\n|     1|2020-11-28|      4|      32|\n|     1|2020-11-28|     55|     200|\n|     1|2020-12-03|      1|      42|\n|     2|2020-11-28|      3|      33|\n|     2|2020-12-09|     47|      74|\n+------+----------+-------+--------+\n\n"
     ]
    }
   ],
   "source": [
    " schema = StructType([\n",
    "     StructField(\"emp_id\",IntegerType(),False),\n",
    "     StructField(\"event_day\",DateType(),False),\n",
    "     StructField(\"in_time\",IntegerType(),False),\n",
    "     StructField(\"out_time\",IntegerType(),False)\n",
    " ])\n",
    " \n",
    "data = [\n",
    "( 1      , datetime(2020,11,28) , 4       , 32  )     ,\n",
    "( 1      , datetime(2020,11,28) , 55      , 200 )     ,\n",
    "( 1      , datetime(2020,12,3 ) , 1       , 42  )     ,\n",
    "( 2      , datetime(2020,11,28) , 3       , 33  )     ,\n",
    "( 2      , datetime(2020,12,9 ) , 47      , 74  )     \n",
    "]\n",
    "emp = spark.createDataFrame(data,schema)\n",
    "emp.show()"
   ]
  },
  {
   "cell_type": "code",
   "execution_count": 0,
   "metadata": {
    "application/vnd.databricks.v1+cell": {
     "cellMetadata": {
      "byteLimit": 2048000,
      "rowLimit": 10000
     },
     "inputWidgets": {},
     "nuid": "6cafeb68-9ea6-472d-95c3-1c00fed2cecf",
     "showTitle": false,
     "title": ""
    }
   },
   "outputs": [
    {
     "output_type": "stream",
     "name": "stdout",
     "output_type": "stream",
     "text": [
      "+----------+------+----------+\n| event_day|emp_id|total_time|\n+----------+------+----------+\n|2020-11-28|     1|       173|\n|2020-12-03|     1|        41|\n|2020-11-28|     2|        30|\n|2020-12-09|     2|        27|\n+----------+------+----------+\n\n"
     ]
    }
   ],
   "source": [
    "# Write a solution to calculate the total time in minutes spent by each employee on each day at the office. Note that within one day, an employee can enter and leave more than once. \n",
    "# The time spent in the office for a single entry is out_time - in_time. Return the result table in any order.\n",
    "emp.groupBy(\"event_day\",\"emp_id\").agg(sum(col(\"out_time\")-col(\"in_time\")).alias('total_time')).show()"
   ]
  },
  {
   "cell_type": "code",
   "execution_count": 0,
   "metadata": {
    "application/vnd.databricks.v1+cell": {
     "cellMetadata": {
      "byteLimit": 2048000,
      "rowLimit": 10000
     },
     "inputWidgets": {},
     "nuid": "9566365e-1f92-4fcb-946b-3a8fd6b65b8a",
     "showTitle": false,
     "title": ""
    }
   },
   "outputs": [
    {
     "output_type": "stream",
     "name": "stdout",
     "output_type": "stream",
     "text": [
      "+----------+------+----------+\n| event_day|emp_id|total_time|\n+----------+------+----------+\n|2020-11-28|     1|       173|\n|2020-12-03|     1|        41|\n|2020-11-28|     2|        30|\n|2020-12-09|     2|        27|\n+----------+------+----------+\n\n"
     ]
    }
   ],
   "source": [
    "emp.createOrReplaceTempView(\"emp\")\n",
    "spark.sql(\"select event_day,emp_id,sum(out_time-in_time) total_time from emp group by 1,2\").show()"
   ]
  },
  {
   "cell_type": "code",
   "execution_count": 0,
   "metadata": {
    "application/vnd.databricks.v1+cell": {
     "cellMetadata": {
      "byteLimit": 2048000,
      "rowLimit": 10000
     },
     "inputWidgets": {},
     "nuid": "69d891c9-d675-43f8-84ba-1abd207bbe3d",
     "showTitle": false,
     "title": ""
    }
   },
   "outputs": [
    {
     "output_type": "display_data",
     "data": {
      "text/html": [
       "<style scoped>\n",
       "  .ansiout {\n",
       "    display: block;\n",
       "    unicode-bidi: embed;\n",
       "    white-space: pre-wrap;\n",
       "    word-wrap: break-word;\n",
       "    word-break: break-all;\n",
       "    font-family: \"Menlo\", \"Monaco\", \"Consolas\", \"Ubuntu Mono\", \"Source Code Pro\", monospace;\n",
       "    font-size: 13px;\n",
       "    color: #555;\n",
       "    margin-left: 4px;\n",
       "    line-height: 19px;\n",
       "  }\n",
       "</style>"
      ]
     },
     "metadata": {
      "application/vnd.databricks.v1+output": {
       "arguments": {},
       "data": "",
       "errorSummary": "The spark context has stopped and the driver is restarting. Your notebook will be automatically reattached.",
       "errorTraceType": "html",
       "metadata": {},
       "type": "ipynbError"
      }
     },
     "output_type": "display_data"
    }
   ],
   "source": [
    "spark.stop()"
   ]
  },
  {
   "cell_type": "code",
   "execution_count": 0,
   "metadata": {
    "application/vnd.databricks.v1+cell": {
     "cellMetadata": {},
     "inputWidgets": {},
     "nuid": "95fd32d3-0296-4e9a-90bd-532860ebc739",
     "showTitle": false,
     "title": ""
    }
   },
   "outputs": [],
   "source": []
  }
 ],
 "metadata": {
  "application/vnd.databricks.v1+notebook": {
   "dashboards": [],
   "language": "python",
   "notebookMetadata": {
    "pythonIndentUnit": 4
   },
   "notebookName": "1741. Find Total Time Spent by Each Employee",
   "widgets": {}
  }
 },
 "nbformat": 4,
 "nbformat_minor": 0
}
