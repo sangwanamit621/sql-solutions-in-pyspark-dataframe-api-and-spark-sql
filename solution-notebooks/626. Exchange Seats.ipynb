{
 "cells": [
  {
   "cell_type": "code",
   "execution_count": 0,
   "metadata": {
    "application/vnd.databricks.v1+cell": {
     "cellMetadata": {
      "byteLimit": 2048000,
      "rowLimit": 10000
     },
     "inputWidgets": {},
     "nuid": "047f0a72-e368-4a32-821a-bb750a3423fa",
     "showTitle": false,
     "title": ""
    }
   },
   "outputs": [],
   "source": [
    "from pyspark import SparkConf\n",
    "from pyspark.sql.session import SparkSession\n",
    "from pyspark.sql.types import StructType,StructField,StringType,IntegerType\n",
    "from pyspark.sql.functions import col, lead,lag,when\n",
    "from pyspark.sql.window import Window\n",
    "\n",
    "spark = SparkSession.builder.appName(\"app\").master(\"local[2]\").getOrCreate()"
   ]
  },
  {
   "cell_type": "code",
   "execution_count": 0,
   "metadata": {
    "application/vnd.databricks.v1+cell": {
     "cellMetadata": {
      "byteLimit": 2048000,
      "rowLimit": 10000
     },
     "inputWidgets": {},
     "nuid": "c0d3708d-8a4a-476f-bb41-ec659251c107",
     "showTitle": false,
     "title": ""
    }
   },
   "outputs": [
    {
     "output_type": "stream",
     "name": "stdout",
     "output_type": "stream",
     "text": [
      "+---+-------+\n| id|student|\n+---+-------+\n|  1|  Abbot|\n|  2|  Doris|\n|  3|Emerson|\n|  4|  Green|\n|  5| Jeames|\n+---+-------+\n\n"
     ]
    }
   ],
   "source": [
    "schema = StructType([\n",
    "    StructField(\"id\",IntegerType(),False),\n",
    "    StructField(\"student\",StringType(),False)\n",
    "])\n",
    "data = [\n",
    "( 1  , 'Abbot'  ) ,\n",
    "( 2  , 'Doris'  ) ,\n",
    "( 3  , 'Emerson') ,\n",
    "( 4  , 'Green'  ) ,\n",
    "( 5  , 'Jeames' ) ]\n",
    "students = spark.createDataFrame(data,schema)\n",
    "students.show()"
   ]
  },
  {
   "cell_type": "code",
   "execution_count": 0,
   "metadata": {
    "application/vnd.databricks.v1+cell": {
     "cellMetadata": {
      "byteLimit": 2048000,
      "rowLimit": 10000
     },
     "inputWidgets": {},
     "nuid": "42e20cb3-37dd-4d5c-90e1-c7d178f8ebfb",
     "showTitle": false,
     "title": ""
    }
   },
   "outputs": [
    {
     "output_type": "stream",
     "name": "stdout",
     "output_type": "stream",
     "text": [
      "+---+-----------+\n| id|new_sitting|\n+---+-----------+\n|  1|      Doris|\n|  2|      Abbot|\n|  3|      Green|\n|  4|    Emerson|\n|  5|     Jeames|\n+---+-----------+\n\n"
     ]
    }
   ],
   "source": [
    "# Write a solution to swap the seat id of every two consecutive students. If the number of students is odd, the id of the last student is not swapped.\n",
    "# Return the result table ordered by id in ascending order.\n",
    "window_spec = Window.orderBy(\"id\")\n",
    "students.withColumn(\"new_sitting\",\\\n",
    "    when(col(\"id\")%2==1,lead(\"student\",1).over(window_spec))\\\n",
    "    .otherwise(lag(\"student\",1).over(window_spec)))\\\n",
    ".withColumn(\"new_sitting\",\\\n",
    "    when(col(\"new_sitting\").isNull(),col(\"student\"))\\\n",
    "    .otherwise(col(\"new_sitting\")))\\\n",
    ".select(\"id\",\"new_sitting\").show()"
   ]
  },
  {
   "cell_type": "code",
   "execution_count": 0,
   "metadata": {
    "application/vnd.databricks.v1+cell": {
     "cellMetadata": {
      "byteLimit": 2048000,
      "rowLimit": 10000
     },
     "inputWidgets": {},
     "nuid": "22f303d5-3db4-4e49-ac56-2e9f7a94b688",
     "showTitle": false,
     "title": ""
    }
   },
   "outputs": [
    {
     "output_type": "stream",
     "name": "stdout",
     "output_type": "stream",
     "text": [
      "+---+-----------+\n| id|new_sitting|\n+---+-----------+\n|  1|      Doris|\n|  2|      Abbot|\n|  3|      Green|\n|  4|    Emerson|\n|  5|     Jeames|\n+---+-----------+\n\n"
     ]
    }
   ],
   "source": [
    "window_spec = Window.orderBy(\"id\")\n",
    "students.withColumn(\"new_sitting\", \\\n",
    "    when( col(\"id\")%2==1, \\\n",
    "        when(lead(\"student\",1).over(window_spec).isNull(),col(\"student\"))\\\n",
    "        .otherwise(lead(\"student\",1).over(window_spec)) )\\\n",
    "    .otherwise(lag(\"student\",1).over(window_spec))  )\\\n",
    ".select(\"id\",\"new_sitting\").show()"
   ]
  },
  {
   "cell_type": "code",
   "execution_count": 0,
   "metadata": {
    "application/vnd.databricks.v1+cell": {
     "cellMetadata": {
      "byteLimit": 2048000,
      "rowLimit": 10000
     },
     "inputWidgets": {},
     "nuid": "901fc266-07fd-4a52-8be6-aa5703c280ce",
     "showTitle": false,
     "title": ""
    }
   },
   "outputs": [
    {
     "output_type": "stream",
     "name": "stdout",
     "output_type": "stream",
     "text": [
      "+---+-------+\n| id|student|\n+---+-------+\n|  1|  Doris|\n|  2|  Abbot|\n|  3|  Green|\n|  4|Emerson|\n|  5| Jeames|\n+---+-------+\n\n"
     ]
    }
   ],
   "source": [
    "students.createOrReplaceTempView(\"s\")\n",
    "spark.sql(\"select id, case when id%2=1 and id<>(select max(id) from s) then lead(student,1) over(order by id) when id%2=0 then lag(student,1) over(order by id) else student end as student from s\").show()"
   ]
  },
  {
   "cell_type": "code",
   "execution_count": 0,
   "metadata": {
    "application/vnd.databricks.v1+cell": {
     "cellMetadata": {
      "byteLimit": 2048000,
      "rowLimit": 10000
     },
     "inputWidgets": {},
     "nuid": "5b2ee58a-d6f3-41fa-a04e-33a5e63be9fb",
     "showTitle": false,
     "title": ""
    }
   },
   "outputs": [
    {
     "output_type": "display_data",
     "data": {
      "text/html": [
       "<style scoped>\n",
       "  .ansiout {\n",
       "    display: block;\n",
       "    unicode-bidi: embed;\n",
       "    white-space: pre-wrap;\n",
       "    word-wrap: break-word;\n",
       "    word-break: break-all;\n",
       "    font-family: \"Menlo\", \"Monaco\", \"Consolas\", \"Ubuntu Mono\", \"Source Code Pro\", monospace;\n",
       "    font-size: 13px;\n",
       "    color: #555;\n",
       "    margin-left: 4px;\n",
       "    line-height: 19px;\n",
       "  }\n",
       "</style>"
      ]
     },
     "metadata": {
      "application/vnd.databricks.v1+output": {
       "arguments": {},
       "data": "",
       "errorSummary": "The spark context has stopped and the driver is restarting. Your notebook will be automatically reattached.",
       "errorTraceType": "html",
       "metadata": {},
       "type": "ipynbError"
      }
     },
     "output_type": "display_data"
    }
   ],
   "source": [
    "spark.stop()"
   ]
  },
  {
   "cell_type": "code",
   "execution_count": 0,
   "metadata": {
    "application/vnd.databricks.v1+cell": {
     "cellMetadata": {},
     "inputWidgets": {},
     "nuid": "e41df537-100b-451d-9d17-5ef8065ae31f",
     "showTitle": false,
     "title": ""
    }
   },
   "outputs": [],
   "source": []
  }
 ],
 "metadata": {
  "application/vnd.databricks.v1+notebook": {
   "dashboards": [],
   "language": "python",
   "notebookMetadata": {
    "pythonIndentUnit": 4
   },
   "notebookName": "626. Exchange Seats",
   "widgets": {}
  }
 },
 "nbformat": 4,
 "nbformat_minor": 0
}
