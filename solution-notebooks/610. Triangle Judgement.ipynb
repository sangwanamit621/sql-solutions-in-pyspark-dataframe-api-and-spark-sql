{
 "cells": [
  {
   "cell_type": "code",
   "execution_count": 0,
   "metadata": {
    "application/vnd.databricks.v1+cell": {
     "cellMetadata": {
      "byteLimit": 2048000,
      "rowLimit": 10000
     },
     "inputWidgets": {},
     "nuid": "1dd73a2e-79b3-404a-802b-88038ad11617",
     "showTitle": false,
     "title": ""
    }
   },
   "outputs": [],
   "source": [
    "from pyspark import SparkConf\n",
    "from pyspark.sql.session import SparkSession\n",
    "from pyspark.sql.types import IntegerType,StructField,StructType, BooleanType\n",
    "from pyspark.sql.functions import col,sum,udf,when\n",
    "\n",
    "spark = SparkSession.builder.appName(\"app\").master(\"local[*]\").getOrCreate()"
   ]
  },
  {
   "cell_type": "code",
   "execution_count": 0,
   "metadata": {
    "application/vnd.databricks.v1+cell": {
     "cellMetadata": {
      "byteLimit": 2048000,
      "rowLimit": 10000
     },
     "inputWidgets": {},
     "nuid": "b7e31f9e-ceb1-4412-a62f-7202ae32751e",
     "showTitle": false,
     "title": ""
    }
   },
   "outputs": [
    {
     "output_type": "stream",
     "name": "stdout",
     "output_type": "stream",
     "text": [
      "+---+---+---+\n|  x|  y|  z|\n+---+---+---+\n| 13| 15| 30|\n| 10| 20| 15|\n+---+---+---+\n\n"
     ]
    }
   ],
   "source": [
    "schema = StructType([\n",
    "    StructField(\"x\",IntegerType(),True),\n",
    "    StructField(\"y\",IntegerType(),True),\n",
    "    StructField(\"z\",IntegerType(),True)\n",
    "])\n",
    "\n",
    "data = [\n",
    "    (13,15,30),\n",
    "    (10,20,15)\n",
    "]\n",
    "\n",
    "triangle = spark.createDataFrame(data,schema)\n",
    "triangle.show()"
   ]
  },
  {
   "cell_type": "code",
   "execution_count": 0,
   "metadata": {
    "application/vnd.databricks.v1+cell": {
     "cellMetadata": {},
     "inputWidgets": {},
     "nuid": "b748c465-398e-4d2c-9550-3f5372eedd2c",
     "showTitle": false,
     "title": ""
    }
   },
   "outputs": [],
   "source": [
    "# Report for every three line segments whether they can form a triangle.\n",
    "# Return the result table in any order.\n"
   ]
  },
  {
   "cell_type": "code",
   "execution_count": 0,
   "metadata": {
    "application/vnd.databricks.v1+cell": {
     "cellMetadata": {
      "byteLimit": 2048000,
      "rowLimit": 10000
     },
     "inputWidgets": {},
     "nuid": "b1b91145-c4e4-4c8d-b8cb-4baa2715e850",
     "showTitle": false,
     "title": ""
    }
   },
   "outputs": [
    {
     "output_type": "stream",
     "name": "stdout",
     "output_type": "stream",
     "text": [
      "+---+---+---+----------+\n|  x|  y|  z|isTriangle|\n+---+---+---+----------+\n| 13| 15| 30|     false|\n| 10| 20| 15|      true|\n+---+---+---+----------+\n\n"
     ]
    }
   ],
   "source": [
    "triangle.alias(\"t\").withColumn(\\\n",
    "    \"isTriangle\",when(  ( col(\"t.x\")+col(\"t.y\")<=col(\"t.z\") ) | (col(\"t.y\")+col(\"t.z\")<=col(\"t.x\")) | (col(\"t.z\")+col(\"t.x\")<=col(\"t.y\")) ,False)\\\n",
    "                .otherwise(True)   )\\\n",
    "            .show()"
   ]
  },
  {
   "cell_type": "code",
   "execution_count": 0,
   "metadata": {
    "application/vnd.databricks.v1+cell": {
     "cellMetadata": {
      "byteLimit": 2048000,
      "rowLimit": 10000
     },
     "inputWidgets": {},
     "nuid": "26190897-5a33-48e9-96e7-b04151deb387",
     "showTitle": false,
     "title": ""
    }
   },
   "outputs": [
    {
     "output_type": "stream",
     "name": "stdout",
     "output_type": "stream",
     "text": [
      "+---+---+---+----------+\n|  x|  y|  z|isTriangle|\n+---+---+---+----------+\n| 13| 15| 30|     false|\n| 10| 20| 15|      true|\n+---+---+---+----------+\n\n"
     ]
    }
   ],
   "source": [
    "# Using udf\n",
    "@udf(returnType=BooleanType())\n",
    "def triangleCheck(a,b,c):\n",
    "    if a+b<=c or b+c<=a or c+a<=b:\n",
    "        return False\n",
    "    return True\n",
    "\n",
    "triangle.alias(\"t\").withColumn(\"isTriangle\",triangleCheck(\"t.x\",\"t.y\",\"t.z\")).show()"
   ]
  },
  {
   "cell_type": "code",
   "execution_count": 0,
   "metadata": {
    "application/vnd.databricks.v1+cell": {
     "cellMetadata": {
      "byteLimit": 2048000,
      "rowLimit": 10000
     },
     "inputWidgets": {},
     "nuid": "1f7bfa81-3d15-4fdb-8ab5-9b5de7543ec7",
     "showTitle": false,
     "title": ""
    }
   },
   "outputs": [
    {
     "output_type": "stream",
     "name": "stdout",
     "output_type": "stream",
     "text": [
      "+---+---+---+----------+\n|  x|  y|  z|isTriangle|\n+---+---+---+----------+\n| 13| 15| 30|     false|\n| 10| 20| 15|      true|\n+---+---+---+----------+\n\n"
     ]
    }
   ],
   "source": [
    "triangle.createOrReplaceTempView(\"tri\")\n",
    "spark.sql(\"select x,y,z,case when ( (x+y<=z) or (y+z<=x) or (z+x<=y) ) then false else true end as isTriangle from tri\").show()"
   ]
  },
  {
   "cell_type": "code",
   "execution_count": 0,
   "metadata": {
    "application/vnd.databricks.v1+cell": {
     "cellMetadata": {
      "byteLimit": 2048000,
      "rowLimit": 10000
     },
     "inputWidgets": {},
     "nuid": "3e6221c9-e3a4-408e-9a1c-3834d9ad2d48",
     "showTitle": false,
     "title": ""
    }
   },
   "outputs": [
    {
     "output_type": "display_data",
     "data": {
      "text/html": [
       "<style scoped>\n",
       "  .ansiout {\n",
       "    display: block;\n",
       "    unicode-bidi: embed;\n",
       "    white-space: pre-wrap;\n",
       "    word-wrap: break-word;\n",
       "    word-break: break-all;\n",
       "    font-family: \"Menlo\", \"Monaco\", \"Consolas\", \"Ubuntu Mono\", \"Source Code Pro\", monospace;\n",
       "    font-size: 13px;\n",
       "    color: #555;\n",
       "    margin-left: 4px;\n",
       "    line-height: 19px;\n",
       "  }\n",
       "</style>"
      ]
     },
     "metadata": {
      "application/vnd.databricks.v1+output": {
       "arguments": {},
       "data": "",
       "errorSummary": "The spark context has stopped and the driver is restarting. Your notebook will be automatically reattached.",
       "errorTraceType": "html",
       "metadata": {},
       "type": "ipynbError"
      }
     },
     "output_type": "display_data"
    }
   ],
   "source": [
    "spark.stop()"
   ]
  },
  {
   "cell_type": "code",
   "execution_count": 0,
   "metadata": {
    "application/vnd.databricks.v1+cell": {
     "cellMetadata": {},
     "inputWidgets": {},
     "nuid": "fdb7fd01-f618-4385-bf32-c2852beff495",
     "showTitle": false,
     "title": ""
    }
   },
   "outputs": [],
   "source": []
  }
 ],
 "metadata": {
  "application/vnd.databricks.v1+notebook": {
   "dashboards": [],
   "language": "python",
   "notebookMetadata": {
    "pythonIndentUnit": 4
   },
   "notebookName": "610. Triangle Judgement",
   "widgets": {}
  }
 },
 "nbformat": 4,
 "nbformat_minor": 0
}
