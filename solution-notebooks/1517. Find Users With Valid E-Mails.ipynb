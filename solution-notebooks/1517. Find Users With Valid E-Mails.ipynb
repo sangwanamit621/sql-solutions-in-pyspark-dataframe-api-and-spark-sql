{
 "cells": [
  {
   "cell_type": "code",
   "execution_count": 0,
   "metadata": {
    "application/vnd.databricks.v1+cell": {
     "cellMetadata": {
      "byteLimit": 2048000,
      "rowLimit": 10000
     },
     "inputWidgets": {},
     "nuid": "830338ba-3761-44ba-a497-3fb282cb3e45",
     "showTitle": false,
     "title": ""
    }
   },
   "outputs": [],
   "source": [
    "from pyspark import SparkConf\n",
    "from pyspark.sql.session import SparkSession\n",
    "from pyspark.sql.types import StructType,StructField,StringType,IntegerType\n",
    "from pyspark.sql.functions import col\n",
    "\n",
    "spark = SparkSession.builder.appName('app').master(\"local[2]\").getOrCreate()"
   ]
  },
  {
   "cell_type": "code",
   "execution_count": 0,
   "metadata": {
    "application/vnd.databricks.v1+cell": {
     "cellMetadata": {
      "byteLimit": 2048000,
      "rowLimit": 10000
     },
     "inputWidgets": {},
     "nuid": "eb43738a-adf7-4651-a7a4-fed8b52f46cd",
     "showTitle": false,
     "title": ""
    }
   },
   "outputs": [
    {
     "output_type": "stream",
     "name": "stdout",
     "output_type": "stream",
     "text": [
      "+-------+---------+-----------------------+\n|user_id|name     |mail                   |\n+-------+---------+-----------------------+\n|1      |Winston  |winston@leetcode.com   |\n|2      |Jonathan |jonathanisgreat        |\n|3      |Annabelle|bella-@leetcode.com    |\n|4      |Sally    |sally.come@leetcode.com|\n|5      |Marwan   |quarz#2020@leetcode.com|\n|6      |David    |david69@gmail.com      |\n|7      |Shapiro  |.shapo@leetcode.com    |\n|8      |Shao     |.shao@leetcode?com     |\n+-------+---------+-----------------------+\n\n"
     ]
    }
   ],
   "source": [
    "schema = StructType([\n",
    "    StructField(\"user_id\",IntegerType(),False),\n",
    "    StructField(\"name\",StringType(),False),\n",
    "    StructField(\"mail\",StringType(),False)\n",
    "])\n",
    "data = [\n",
    "    ( 1       , \"Winston\"   , \"winston@leetcode.com\"    ),\n",
    "    ( 2       , \"Jonathan\"  , \"jonathanisgreat\"         ),\n",
    "    ( 3       , \"Annabelle\" , \"bella-@leetcode.com\"     ),\n",
    "    ( 4       , \"Sally\"     , \"sally.come@leetcode.com\" ),\n",
    "    ( 5       , \"Marwan\"    , \"quarz#2020@leetcode.com\" ),\n",
    "    ( 6       , \"David\"     , \"david69@gmail.com\"       ),\n",
    "    ( 7       , \"Shapiro\"   , \".shapo@leetcode.com\"     ),\n",
    "    ( 8       , \"Shao\"   , \".shao@leetcode?com\"         )\n",
    "]\n",
    "\n",
    "users = spark.createDataFrame(data,schema)\n",
    "users.show(truncate=False)"
   ]
  },
  {
   "cell_type": "code",
   "execution_count": 0,
   "metadata": {
    "application/vnd.databricks.v1+cell": {
     "cellMetadata": {
      "byteLimit": 2048000,
      "rowLimit": 10000
     },
     "inputWidgets": {},
     "nuid": "35743160-5f0a-472a-a7e3-6d4008901a38",
     "showTitle": false,
     "title": ""
    }
   },
   "outputs": [
    {
     "output_type": "stream",
     "name": "stdout",
     "output_type": "stream",
     "text": [
      "+-------+---------+-----------------------+\n|user_id|name     |mail                   |\n+-------+---------+-----------------------+\n|1      |Winston  |winston@leetcode.com   |\n|3      |Annabelle|bella-@leetcode.com    |\n|4      |Sally    |sally.come@leetcode.com|\n+-------+---------+-----------------------+\n\n"
     ]
    }
   ],
   "source": [
    "# Write a solution to find the users who have valid emails. Return the result table in any order.\n",
    "# A valid e-mail has a prefix name and a domain where:\n",
    "#     * The prefix name is a string that may contain letters (upper or lower case), digits, underscore '_', period '.', and/or dash '-'. The prefix name must start with a letter.\n",
    "#     * The domain is '@leetcode.com'.\n",
    "\n",
    "users.filter(col(\"mail\").rlike(\"^[A-Za-z][A-Za-z0-9\\-_\\.]*@leetcode[\\.]com$\")).show(truncate=False)"
   ]
  },
  {
   "cell_type": "code",
   "execution_count": 0,
   "metadata": {
    "application/vnd.databricks.v1+cell": {
     "cellMetadata": {
      "byteLimit": 2048000,
      "rowLimit": 10000
     },
     "inputWidgets": {},
     "nuid": "952d6b04-7a6e-44bc-8856-dee4dc521bf5",
     "showTitle": false,
     "title": ""
    }
   },
   "outputs": [
    {
     "output_type": "stream",
     "name": "stdout",
     "output_type": "stream",
     "text": [
      "+-------+---------+-----------------------+\n|user_id|name     |mail                   |\n+-------+---------+-----------------------+\n|1      |Winston  |winston@leetcode.com   |\n|3      |Annabelle|bella-@leetcode.com    |\n|4      |Sally    |sally.come@leetcode.com|\n+-------+---------+-----------------------+\n\n"
     ]
    }
   ],
   "source": [
    "users.createOrReplaceTempView(\"u\")\n",
    "spark.sql(\"select * from u where mail regexp('^[A-Za-z][A-Za-z0-9\\-_\\.]*@leetcode[\\.]com$')\").show(truncate=False)"
   ]
  },
  {
   "cell_type": "code",
   "execution_count": 0,
   "metadata": {
    "application/vnd.databricks.v1+cell": {
     "cellMetadata": {
      "byteLimit": 2048000,
      "rowLimit": 10000
     },
     "inputWidgets": {},
     "nuid": "bbe4e88a-562f-48a1-a575-56890e3a9d62",
     "showTitle": false,
     "title": ""
    }
   },
   "outputs": [
    {
     "output_type": "display_data",
     "data": {
      "text/html": [
       "<style scoped>\n",
       "  .ansiout {\n",
       "    display: block;\n",
       "    unicode-bidi: embed;\n",
       "    white-space: pre-wrap;\n",
       "    word-wrap: break-word;\n",
       "    word-break: break-all;\n",
       "    font-family: \"Menlo\", \"Monaco\", \"Consolas\", \"Ubuntu Mono\", \"Source Code Pro\", monospace;\n",
       "    font-size: 13px;\n",
       "    color: #555;\n",
       "    margin-left: 4px;\n",
       "    line-height: 19px;\n",
       "  }\n",
       "</style>"
      ]
     },
     "metadata": {
      "application/vnd.databricks.v1+output": {
       "arguments": {},
       "data": "",
       "errorSummary": "The spark context has stopped and the driver is restarting. Your notebook will be automatically reattached.",
       "errorTraceType": "html",
       "metadata": {},
       "type": "ipynbError"
      }
     },
     "output_type": "display_data"
    }
   ],
   "source": [
    "spark.stop()"
   ]
  },
  {
   "cell_type": "code",
   "execution_count": 0,
   "metadata": {
    "application/vnd.databricks.v1+cell": {
     "cellMetadata": {},
     "inputWidgets": {},
     "nuid": "5ec5bd5f-859f-49db-836f-6ff42923346a",
     "showTitle": false,
     "title": ""
    }
   },
   "outputs": [],
   "source": []
  }
 ],
 "metadata": {
  "application/vnd.databricks.v1+notebook": {
   "dashboards": [],
   "language": "python",
   "notebookMetadata": {
    "pythonIndentUnit": 4
   },
   "notebookName": "1517. Find Users With Valid E-Mails",
   "widgets": {}
  }
 },
 "nbformat": 4,
 "nbformat_minor": 0
}
