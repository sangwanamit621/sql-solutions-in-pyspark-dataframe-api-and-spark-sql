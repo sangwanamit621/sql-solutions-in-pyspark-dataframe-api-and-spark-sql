{
 "cells": [
  {
   "cell_type": "code",
   "execution_count": 0,
   "metadata": {
    "application/vnd.databricks.v1+cell": {
     "cellMetadata": {
      "byteLimit": 2048000,
      "rowLimit": 10000
     },
     "inputWidgets": {},
     "nuid": "04af6030-eb8b-431f-bbc3-8015890632cc",
     "showTitle": false,
     "title": ""
    }
   },
   "outputs": [],
   "source": [
    "from pyspark import SparkConf\n",
    "from pyspark.sql.session import SparkSession\n",
    "from pyspark.sql.types import StructField,StructType,StringType,IntegerType,DateType\n",
    "from pyspark.sql.functions import col,countDistinct\n",
    "from datetime import datetime\n",
    "\n",
    "spark = SparkSession.builder.appName(\"app\").master(\"local[3]\").getOrCreate()"
   ]
  },
  {
   "cell_type": "code",
   "execution_count": 0,
   "metadata": {
    "application/vnd.databricks.v1+cell": {
     "cellMetadata": {
      "byteLimit": 2048000,
      "rowLimit": 10000
     },
     "inputWidgets": {},
     "nuid": "d949b206-59f4-4e78-9ac5-67cae913e5e5",
     "showTitle": false,
     "title": ""
    }
   },
   "outputs": [
    {
     "output_type": "stream",
     "name": "stdout",
     "output_type": "stream",
     "text": [
      "+----------+---------+-------+----------+\n|   date_id|make_name|lead_id|partner_id|\n+----------+---------+-------+----------+\n|2020-12-08|   toyota|      0|         1|\n|2020-12-08|   toyota|      1|         0|\n|2020-12-08|   toyota|      1|         2|\n|2020-12-07|   toyota|      0|         2|\n|2020-12-07|   toyota|      0|         1|\n|2020-12-08|    honda|      1|         2|\n|2020-12-08|    honda|      2|         1|\n|2020-12-07|    honda|      0|         1|\n|2020-12-07|    honda|      1|         2|\n|2020-12-07|    honda|      2|         1|\n+----------+---------+-------+----------+\n\n"
     ]
    }
   ],
   "source": [
    "schema = StructType([\n",
    "    StructField(\"date_id\",DateType(),False),\n",
    "    StructField(\"make_name\",StringType(),False),\n",
    "    StructField(\"lead_id\",IntegerType(),False),\n",
    "    StructField(\"partner_id\",IntegerType(),False)\n",
    "])\n",
    "data = [\n",
    "( datetime(2020,12,8) , \"toyota\"    , 0       , 1      )    ,\n",
    "( datetime(2020,12,8) , \"toyota\"    , 1       , 0      )    ,\n",
    "( datetime(2020,12,8) , \"toyota\"    , 1       , 2      )    ,\n",
    "( datetime(2020,12,7) , \"toyota\"    , 0       , 2      )    ,\n",
    "( datetime(2020,12,7) , \"toyota\"    , 0       , 1      )    ,\n",
    "( datetime(2020,12,8) , \"honda\"     , 1       , 2      )    ,\n",
    "( datetime(2020,12,8) , \"honda\"     , 2       , 1      )    ,\n",
    "( datetime(2020,12,7) , \"honda\"     , 0       , 1      )    ,\n",
    "( datetime(2020,12,7) , \"honda\"     , 1       , 2      )    ,\n",
    "( datetime(2020,12,7) , \"honda\"     , 2       , 1      )    \n",
    "]\n",
    "sales = spark.createDataFrame(data,schema)\n",
    "sales.show()\n"
   ]
  },
  {
   "cell_type": "code",
   "execution_count": 0,
   "metadata": {
    "application/vnd.databricks.v1+cell": {
     "cellMetadata": {
      "byteLimit": 2048000,
      "rowLimit": 10000
     },
     "inputWidgets": {},
     "nuid": "5b1d040a-9e39-4963-b4f4-8afd71f9298f",
     "showTitle": false,
     "title": ""
    }
   },
   "outputs": [
    {
     "output_type": "stream",
     "name": "stdout",
     "output_type": "stream",
     "text": [
      "+----------+---------+------------+---------------+\n|   date_id|make_name|unique_leads|unique_partners|\n+----------+---------+------------+---------------+\n|2020-12-07|    honda|           3|              2|\n|2020-12-08|   toyota|           2|              3|\n|2020-12-08|    honda|           2|              2|\n|2020-12-07|   toyota|           1|              2|\n+----------+---------+------------+---------------+\n\n"
     ]
    }
   ],
   "source": [
    "# For each date_id and make_name, find the number of distinct lead_id's and distinct partner_id's.\n",
    "# Return the result table in any order.\n",
    "\n",
    "sales.groupBy(\"date_id\",\"make_name\").agg(countDistinct(\"lead_id\").alias(\"unique_leads\"),countDistinct(\"partner_id\").alias(\"unique_partners\")).show()"
   ]
  },
  {
   "cell_type": "code",
   "execution_count": 0,
   "metadata": {
    "application/vnd.databricks.v1+cell": {
     "cellMetadata": {
      "byteLimit": 2048000,
      "rowLimit": 10000
     },
     "inputWidgets": {},
     "nuid": "106f635e-c2df-491e-95d3-7a046bcbe025",
     "showTitle": false,
     "title": ""
    }
   },
   "outputs": [
    {
     "output_type": "stream",
     "name": "stdout",
     "output_type": "stream",
     "text": [
      "+----------+---------+------------+---------------+\n|   date_id|make_name|unique_leads|unique_partners|\n+----------+---------+------------+---------------+\n|2020-12-07|    honda|           3|              2|\n|2020-12-08|   toyota|           2|              3|\n|2020-12-08|    honda|           2|              2|\n|2020-12-07|   toyota|           1|              2|\n+----------+---------+------------+---------------+\n\n"
     ]
    }
   ],
   "source": [
    "sales.createOrReplaceTempView(\"s\")\n",
    "spark.sql(\"select date_id,make_name,count(distinct lead_id) unique_leads, count(distinct partner_id) unique_partners from s group by 1,2\").show()"
   ]
  },
  {
   "cell_type": "code",
   "execution_count": 0,
   "metadata": {
    "application/vnd.databricks.v1+cell": {
     "cellMetadata": {
      "byteLimit": 2048000,
      "rowLimit": 10000
     },
     "inputWidgets": {},
     "nuid": "e44b39c8-d53b-4553-bcdc-810e938b35b9",
     "showTitle": false,
     "title": ""
    }
   },
   "outputs": [
    {
     "output_type": "display_data",
     "data": {
      "text/html": [
       "<style scoped>\n",
       "  .ansiout {\n",
       "    display: block;\n",
       "    unicode-bidi: embed;\n",
       "    white-space: pre-wrap;\n",
       "    word-wrap: break-word;\n",
       "    word-break: break-all;\n",
       "    font-family: \"Menlo\", \"Monaco\", \"Consolas\", \"Ubuntu Mono\", \"Source Code Pro\", monospace;\n",
       "    font-size: 13px;\n",
       "    color: #555;\n",
       "    margin-left: 4px;\n",
       "    line-height: 19px;\n",
       "  }\n",
       "</style>"
      ]
     },
     "metadata": {
      "application/vnd.databricks.v1+output": {
       "arguments": {},
       "data": "",
       "errorSummary": "The spark context has stopped and the driver is restarting. Your notebook will be automatically reattached.",
       "errorTraceType": "html",
       "metadata": {},
       "type": "ipynbError"
      }
     },
     "output_type": "display_data"
    }
   ],
   "source": [
    "spark.stop()"
   ]
  },
  {
   "cell_type": "code",
   "execution_count": 0,
   "metadata": {
    "application/vnd.databricks.v1+cell": {
     "cellMetadata": {},
     "inputWidgets": {},
     "nuid": "33c18425-8376-4215-98b2-6f2bc0c74afd",
     "showTitle": false,
     "title": ""
    }
   },
   "outputs": [],
   "source": []
  }
 ],
 "metadata": {
  "application/vnd.databricks.v1+notebook": {
   "dashboards": [],
   "language": "python",
   "notebookMetadata": {
    "pythonIndentUnit": 4
   },
   "notebookName": "1693. Daily Leads and Partners",
   "widgets": {}
  }
 },
 "nbformat": 4,
 "nbformat_minor": 0
}
