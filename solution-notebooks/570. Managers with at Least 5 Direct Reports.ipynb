{
 "cells": [
  {
   "cell_type": "code",
   "execution_count": 0,
   "metadata": {
    "application/vnd.databricks.v1+cell": {
     "cellMetadata": {
      "byteLimit": 2048000,
      "rowLimit": 10000
     },
     "inputWidgets": {},
     "nuid": "7c25ec96-eee8-4bd3-b30a-699e157a7c87",
     "showTitle": false,
     "title": ""
    }
   },
   "outputs": [],
   "source": [
    "from pyspark import SparkConf\n",
    "from pyspark.sql.session import SparkSession\n",
    "from pyspark.sql.types import StructType,StructField,StringType,IntegerType\n",
    "from pyspark.sql.functions import col\n",
    "\n",
    "spark = SparkSession.builder.appName(\"app\").master(\"local[3]\").getOrCreate()"
   ]
  },
  {
   "cell_type": "code",
   "execution_count": 0,
   "metadata": {
    "application/vnd.databricks.v1+cell": {
     "cellMetadata": {
      "byteLimit": 2048000,
      "rowLimit": 10000
     },
     "inputWidgets": {},
     "nuid": "67bff9ed-1f40-4201-bb87-74e28a5847b7",
     "showTitle": false,
     "title": ""
    }
   },
   "outputs": [
    {
     "output_type": "stream",
     "name": "stdout",
     "output_type": "stream",
     "text": [
      "+---+----+----------+---------+\n| id|name|department|managerId|\n+---+----+----------+---------+\n|101|John|         A|     null|\n|102| Dan|         A|      101|\n|103|Jame|         A|      101|\n|104| Amy|         A|      101|\n|105|Anne|         A|      101|\n|106| Ron|         B|      101|\n|107|Tony|         A|      102|\n|108|John|         A|      102|\n|109|Arun|         A|      102|\n+---+----+----------+---------+\n\n"
     ]
    }
   ],
   "source": [
    "schema = StructType([\n",
    "    StructField(\"id\",IntegerType(),False),\n",
    "    StructField(\"name\",StringType(),False),\n",
    "    StructField(\"department\",StringType(),False),\n",
    "    StructField(\"managerId\",IntegerType(),True)\n",
    "])\n",
    "\n",
    "data = [\n",
    "( 101 , 'John' , 'A'          , None )     ,\n",
    "( 102 , 'Dan'  , 'A'          , 101  )     ,\n",
    "( 103 , 'Jame' , 'A'          , 101  )     ,\n",
    "( 104 , 'Amy'  , 'A'          , 101  )     ,\n",
    "( 105 , 'Anne' , 'A'          , 101  )     ,\n",
    "( 106 , 'Ron'  , 'B'          , 101  )     ,\n",
    "( 107 , 'Tony' , 'A'          , 102  )     ,\n",
    "( 108 , 'John' , 'A'          , 102  )     ,\n",
    "( 109 , 'Arun' , 'A'          , 102  )     ,\n",
    "]\n",
    "emp = spark.createDataFrame(data,schema)\n",
    "emp.show()"
   ]
  },
  {
   "cell_type": "code",
   "execution_count": 0,
   "metadata": {
    "application/vnd.databricks.v1+cell": {
     "cellMetadata": {
      "byteLimit": 2048000,
      "rowLimit": 10000
     },
     "inputWidgets": {},
     "nuid": "bbe6ce3c-af45-4a25-ac24-c4c8451f032c",
     "showTitle": false,
     "title": ""
    }
   },
   "outputs": [
    {
     "output_type": "stream",
     "name": "stdout",
     "output_type": "stream",
     "text": [
      "+----+\n|name|\n+----+\n|John|\n+----+\n\n"
     ]
    }
   ],
   "source": [
    "# Write a solution to find managers with at least five direct reports. Return the result table in any order.\n",
    "emp.alias(\"mng\").join(emp.alias(\"em\"),col(\"mng.managerId\")==col(\"em.id\"),\"inner\")\\\n",
    "    .select(col(\"em.name\"),col(\"mng.managerId\"))\\\n",
    "    .groupBy(col(\"mng.managerId\"),col(\"em.name\")).count()\\\n",
    "    .filter(col(\"count\")>=5).select(\"em.name\").show()"
   ]
  },
  {
   "cell_type": "code",
   "execution_count": 0,
   "metadata": {
    "application/vnd.databricks.v1+cell": {
     "cellMetadata": {
      "byteLimit": 2048000,
      "rowLimit": 10000
     },
     "inputWidgets": {},
     "nuid": "bf332f4d-f19c-4cab-bd1a-994cc9c22a10",
     "showTitle": false,
     "title": ""
    }
   },
   "outputs": [
    {
     "output_type": "stream",
     "name": "stdout",
     "output_type": "stream",
     "text": [
      "+----+\n|name|\n+----+\n|John|\n+----+\n\n"
     ]
    }
   ],
   "source": [
    "emp.createOrReplaceTempView(\"emp\")\n",
    "spark.sql(\"select em.name from emp mng join emp em on mng.managerId=em.id group by mng.managerId,em.name having count(*)>=5\").show()"
   ]
  },
  {
   "cell_type": "code",
   "execution_count": 0,
   "metadata": {
    "application/vnd.databricks.v1+cell": {
     "cellMetadata": {
      "byteLimit": 2048000,
      "rowLimit": 10000
     },
     "inputWidgets": {},
     "nuid": "655df05e-adf7-4677-90a7-7c55d1ecd57f",
     "showTitle": false,
     "title": ""
    }
   },
   "outputs": [
    {
     "output_type": "display_data",
     "data": {
      "text/html": [
       "<style scoped>\n",
       "  .ansiout {\n",
       "    display: block;\n",
       "    unicode-bidi: embed;\n",
       "    white-space: pre-wrap;\n",
       "    word-wrap: break-word;\n",
       "    word-break: break-all;\n",
       "    font-family: \"Menlo\", \"Monaco\", \"Consolas\", \"Ubuntu Mono\", \"Source Code Pro\", monospace;\n",
       "    font-size: 13px;\n",
       "    color: #555;\n",
       "    margin-left: 4px;\n",
       "    line-height: 19px;\n",
       "  }\n",
       "</style>"
      ]
     },
     "metadata": {
      "application/vnd.databricks.v1+output": {
       "arguments": {},
       "data": "",
       "errorSummary": "The spark context has stopped and the driver is restarting. Your notebook will be automatically reattached.",
       "errorTraceType": "html",
       "metadata": {},
       "type": "ipynbError"
      }
     },
     "output_type": "display_data"
    }
   ],
   "source": [
    "spark.stop()"
   ]
  },
  {
   "cell_type": "code",
   "execution_count": 0,
   "metadata": {
    "application/vnd.databricks.v1+cell": {
     "cellMetadata": {},
     "inputWidgets": {},
     "nuid": "81095cb8-14ea-4c0f-83d0-0d9e6ad4520e",
     "showTitle": false,
     "title": ""
    }
   },
   "outputs": [],
   "source": []
  }
 ],
 "metadata": {
  "application/vnd.databricks.v1+notebook": {
   "dashboards": [],
   "language": "python",
   "notebookMetadata": {
    "pythonIndentUnit": 4
   },
   "notebookName": "570. Managers with at Least 5 Direct Reports",
   "widgets": {}
  }
 },
 "nbformat": 4,
 "nbformat_minor": 0
}
