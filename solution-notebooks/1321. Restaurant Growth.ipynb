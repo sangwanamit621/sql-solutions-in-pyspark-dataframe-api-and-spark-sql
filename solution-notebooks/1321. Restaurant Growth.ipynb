{
 "cells": [
  {
   "cell_type": "code",
   "execution_count": 0,
   "metadata": {
    "application/vnd.databricks.v1+cell": {
     "cellMetadata": {
      "byteLimit": 2048000,
      "rowLimit": 10000
     },
     "inputWidgets": {},
     "nuid": "ea15b082-df16-4b22-9d82-50226b0e1a4a",
     "showTitle": false,
     "title": ""
    }
   },
   "outputs": [],
   "source": [
    "from pyspark import SparkConf\n",
    "from pyspark.sql.session import SparkSession\n",
    "from pyspark.sql.types import StructField,StructType,StringType,IntegerType,DateType\n",
    "from pyspark.sql.functions import col,sum,cast,round,min,datediff,lit\n",
    "from pyspark.sql.window import Window\n",
    "from datetime import datetime\n",
    "\n",
    "spark = SparkSession.builder.appName(\"app\").master(\"local[3]\").getOrCreate()"
   ]
  },
  {
   "cell_type": "code",
   "execution_count": 0,
   "metadata": {
    "application/vnd.databricks.v1+cell": {
     "cellMetadata": {
      "byteLimit": 2048000,
      "rowLimit": 10000
     },
     "inputWidgets": {},
     "nuid": "3303fa54-a6c9-4328-be08-810bdf320f47",
     "showTitle": false,
     "title": ""
    }
   },
   "outputs": [
    {
     "output_type": "stream",
     "name": "stdout",
     "output_type": "stream",
     "text": [
      "+-----------+-------+----------+------+\n|customer_id|   name|visited_on|amount|\n+-----------+-------+----------+------+\n|          1|   Jhon|2019-01-01|   100|\n|          2| Daniel|2019-01-02|   110|\n|          3|   Jade|2019-01-03|   120|\n|          4| Khaled|2019-01-04|   130|\n|          5|Winston|2019-01-05|   110|\n|          6|  Elvis|2019-01-06|   140|\n|          7|   Anna|2019-01-07|   150|\n|          8|  Maria|2019-01-08|    80|\n|          9|   Jaze|2019-01-09|   110|\n|          1|   Jhon|2019-01-10|   130|\n|          3|   Jade|2019-01-10|   150|\n+-----------+-------+----------+------+\n\n"
     ]
    }
   ],
   "source": [
    "\n",
    "schema = StructType([\n",
    "    StructField('customer_id',IntegerType(),False) , \n",
    "    StructField('name' ,StringType(),False) , \n",
    "    StructField('visited_on',DateType(),False)   , \n",
    "    StructField('amount' ,IntegerType(),False)\n",
    "     ])\n",
    "data = [\n",
    "( 1           , 'Jhon'         , datetime(2019,1,1)   , 100  )       ,\n",
    "( 2           , 'Daniel'       , datetime(2019,1,2)   , 110  )       ,\n",
    "( 3           , 'Jade'         , datetime(2019,1,3)   , 120  )       ,\n",
    "( 4           , 'Khaled'       , datetime(2019,1,4)   , 130  )       ,\n",
    "( 5           , 'Winston'      , datetime(2019,1,5)   , 110  )       , \n",
    "( 6           , 'Elvis'        , datetime(2019,1,6)   , 140  )       , \n",
    "( 7           , 'Anna'         , datetime(2019,1,7)   , 150  )       ,\n",
    "( 8           , 'Maria'        , datetime(2019,1,8)   , 80   )       ,\n",
    "( 9           , 'Jaze'         , datetime(2019,1,9)   , 110  )       , \n",
    "( 1           , 'Jhon'         , datetime(2019,1,10)  , 130  )       , \n",
    "( 3           , 'Jade'         , datetime(2019,1,10)  , 150  )       \n",
    "]\n",
    "sales = spark.createDataFrame(data,schema)\n",
    "sales.show()"
   ]
  },
  {
   "cell_type": "code",
   "execution_count": 0,
   "metadata": {
    "application/vnd.databricks.v1+cell": {
     "cellMetadata": {
      "byteLimit": 2048000,
      "rowLimit": 10000
     },
     "inputWidgets": {},
     "nuid": "17042f23-282d-4f4e-be7f-07042b86de6c",
     "showTitle": false,
     "title": ""
    }
   },
   "outputs": [
    {
     "output_type": "stream",
     "name": "stdout",
     "output_type": "stream",
     "text": [
      "+----------+------+--------------+\n|visited_on|amount|average_amount|\n+----------+------+--------------+\n|2019-01-07|   860|        122.86|\n|2019-01-08|   840|         120.0|\n|2019-01-09|   840|         120.0|\n|2019-01-10|  1000|        142.86|\n+----------+------+--------------+\n\n"
     ]
    }
   ],
   "source": [
    "# You are the restaurant owner and you want to analyze a possible expansion (there will be at least one customer every day).\n",
    "# Compute the moving average of how much the customer paid in a seven days window (i.e., current day + 6 days before). average_amount should be rounded to two decimal places.\n",
    "# Return the result table ordered by visited_on in ascending order.\n",
    "days = lambda i: i * 86400 \n",
    "window_spec = Window.orderBy(col(\"visited_on\").cast(\"timestamp\").cast(\"long\")).rangeBetween(-days(6),0)\n",
    "min_date = sales.select(\"visited_on\").agg(min(\"visited_on\")).collect()\n",
    "sales.withColumn(\"amount\",sum(\"amount\").over(window_spec))\\\n",
    "    .dropDuplicates(['visited_on'])\\\n",
    "    .filter(datediff(col(\"visited_on\"),lit(min_date[0][0]))>=6)\\\n",
    "    .select(\"visited_on\",\"amount\",round(col('amount')/7,2).alias(\"average_amount\")).show()"
   ]
  },
  {
   "cell_type": "code",
   "execution_count": 0,
   "metadata": {
    "application/vnd.databricks.v1+cell": {
     "cellMetadata": {},
     "inputWidgets": {},
     "nuid": "3b6183b7-c77d-463b-b1ef-5946b6499b0c",
     "showTitle": false,
     "title": ""
    }
   },
   "outputs": [],
   "source": []
  },
  {
   "cell_type": "code",
   "execution_count": 0,
   "metadata": {
    "application/vnd.databricks.v1+cell": {
     "cellMetadata": {
      "byteLimit": 2048000,
      "rowLimit": 10000
     },
     "inputWidgets": {},
     "nuid": "3ff31a4f-f956-4774-80e9-4f7c364c672c",
     "showTitle": false,
     "title": ""
    }
   },
   "outputs": [
    {
     "output_type": "stream",
     "name": "stdout",
     "output_type": "stream",
     "text": [
      "+----------+------+--------------+\n|visited_on|amount|average_amount|\n+----------+------+--------------+\n|2019-01-07|   860|        122.86|\n|2019-01-08|   840|         120.0|\n|2019-01-09|   840|         120.0|\n|2019-01-10|  1000|        142.86|\n+----------+------+--------------+\n\n"
     ]
    }
   ],
   "source": [
    "sales.createOrReplaceTempView(\"sales\")\n",
    "spark.sql(\"\"\"\n",
    "          with cte as \n",
    "          (select distinct visited_on, sum(amount) over(order by cast(visited_on as timestamp) range between interval 6 days preceding and current row) amount from sales)  \n",
    "          select visited_on, amount, round(amount/7,2) average_amount from cte where date_diff(cast(visited_on as timestamp),(select cast(min(visited_on) as timestamp) from sales))>=6\n",
    "          \"\"\").show()"
   ]
  },
  {
   "cell_type": "code",
   "execution_count": 0,
   "metadata": {
    "application/vnd.databricks.v1+cell": {
     "cellMetadata": {
      "byteLimit": 2048000,
      "rowLimit": 10000
     },
     "inputWidgets": {},
     "nuid": "72705b82-ec32-4c75-b61c-462a687f489f",
     "showTitle": false,
     "title": ""
    }
   },
   "outputs": [
    {
     "output_type": "display_data",
     "data": {
      "text/html": [
       "<style scoped>\n",
       "  .ansiout {\n",
       "    display: block;\n",
       "    unicode-bidi: embed;\n",
       "    white-space: pre-wrap;\n",
       "    word-wrap: break-word;\n",
       "    word-break: break-all;\n",
       "    font-family: \"Menlo\", \"Monaco\", \"Consolas\", \"Ubuntu Mono\", \"Source Code Pro\", monospace;\n",
       "    font-size: 13px;\n",
       "    color: #555;\n",
       "    margin-left: 4px;\n",
       "    line-height: 19px;\n",
       "  }\n",
       "</style>"
      ]
     },
     "metadata": {
      "application/vnd.databricks.v1+output": {
       "arguments": {},
       "data": "",
       "errorSummary": "The spark context has stopped and the driver is restarting. Your notebook will be automatically reattached.",
       "errorTraceType": "html",
       "metadata": {},
       "type": "ipynbError"
      }
     },
     "output_type": "display_data"
    }
   ],
   "source": [
    "spark.stop()"
   ]
  },
  {
   "cell_type": "code",
   "execution_count": 0,
   "metadata": {
    "application/vnd.databricks.v1+cell": {
     "cellMetadata": {},
     "inputWidgets": {},
     "nuid": "d93fd7ea-f7da-4758-a2cd-7193803b8b22",
     "showTitle": false,
     "title": ""
    }
   },
   "outputs": [],
   "source": []
  }
 ],
 "metadata": {
  "application/vnd.databricks.v1+notebook": {
   "dashboards": [],
   "language": "python",
   "notebookMetadata": {
    "pythonIndentUnit": 4
   },
   "notebookName": "1321. Restaurant Growth",
   "widgets": {}
  }
 },
 "nbformat": 4,
 "nbformat_minor": 0
}
