{
 "cells": [
  {
   "cell_type": "code",
   "execution_count": 0,
   "metadata": {
    "application/vnd.databricks.v1+cell": {
     "cellMetadata": {
      "byteLimit": 2048000,
      "rowLimit": 10000
     },
     "inputWidgets": {},
     "nuid": "af273bff-078c-4196-9e0a-5548b03da15e",
     "showTitle": false,
     "title": ""
    }
   },
   "outputs": [],
   "source": [
    "from pyspark import SparkConf\n",
    "from pyspark.sql.session import SparkSession\n",
    "from pyspark.sql.types import StructType,StructField,StringType,IntegerType\n",
    "from pyspark.sql.functions import col, when\n",
    "\n",
    "spark = SparkSession.builder.appName(\"app\").master(\"local[2]\").getOrCreate()"
   ]
  },
  {
   "cell_type": "code",
   "execution_count": 0,
   "metadata": {
    "application/vnd.databricks.v1+cell": {
     "cellMetadata": {
      "byteLimit": 2048000,
      "rowLimit": 10000
     },
     "inputWidgets": {},
     "nuid": "22ce416a-07e0-482c-a929-e7d343e3f431",
     "showTitle": false,
     "title": ""
    }
   },
   "outputs": [
    {
     "output_type": "stream",
     "name": "stdout",
     "output_type": "stream",
     "text": [
      "+-----------+-------+------+\n|employee_id|   name|salary|\n+-----------+-------+------+\n|          2|   Meir|  3000|\n|          3|Michael|  3800|\n|          7|Addilyn|  7400|\n|          8|   Juan|  6100|\n|          9| Kannon|  7700|\n+-----------+-------+------+\n\n"
     ]
    }
   ],
   "source": [
    "schema = StructType([\n",
    "    StructField(\"employee_id\",IntegerType(),False),\n",
    "    StructField(\"name\",StringType(),False),\n",
    "    StructField(\"salary\",IntegerType(),False)\n",
    "])\n",
    "data = [\n",
    "( 2           , 'Meir'    , 3000)   ,\n",
    "( 3           , 'Michael' , 3800)   ,\n",
    "( 7           , 'Addilyn' , 7400)   ,\n",
    "( 8           , 'Juan'    , 6100)   ,\n",
    "( 9           , 'Kannon'  , 7700)   \n",
    "]\n",
    "emp = spark.createDataFrame(data,schema)\n",
    "emp.show()"
   ]
  },
  {
   "cell_type": "code",
   "execution_count": 0,
   "metadata": {
    "application/vnd.databricks.v1+cell": {
     "cellMetadata": {
      "byteLimit": 2048000,
      "rowLimit": 10000
     },
     "inputWidgets": {},
     "nuid": "3c4af389-ed04-4adc-b78b-e1bd2d686604",
     "showTitle": false,
     "title": ""
    }
   },
   "outputs": [
    {
     "output_type": "stream",
     "name": "stdout",
     "output_type": "stream",
     "text": [
      "+-----------+-----+\n|employee_id|bonus|\n+-----------+-----+\n|          2|    0|\n|          3|    0|\n|          7| 7400|\n|          8|    0|\n|          9| 7700|\n+-----------+-----+\n\n"
     ]
    }
   ],
   "source": [
    "# Write a solution to calculate the bonus of each employee. The bonus of an employee is 100% of their salary if the ID of the employee is an odd number and \n",
    "# the employee's name does not start with the character 'M'. The bonus of an employee is 0 otherwise.\n",
    "# Return the result table ordered by employee_id.\n",
    "\n",
    "emp.withColumn(\"bonus\",when(((col(\"employee_id\")%2==1) & (~col(\"name\").ilike(\"m%\"))),col(\"salary\")).otherwise(0)).select(\"employee_id\",\"bonus\").orderBy(\"employee_id\").show()\n"
   ]
  },
  {
   "cell_type": "code",
   "execution_count": 0,
   "metadata": {
    "application/vnd.databricks.v1+cell": {
     "cellMetadata": {
      "byteLimit": 2048000,
      "rowLimit": 10000
     },
     "inputWidgets": {},
     "nuid": "723c4260-4849-4433-aee6-ad7c35a8bed5",
     "showTitle": false,
     "title": ""
    }
   },
   "outputs": [
    {
     "output_type": "stream",
     "name": "stdout",
     "output_type": "stream",
     "text": [
      "+-----------+-----+\n|employee_id|bonus|\n+-----------+-----+\n|          2|    0|\n|          3|    0|\n|          7| 7400|\n|          8|    0|\n|          9| 7700|\n+-----------+-----+\n\n+-----------+-----+\n|employee_id|bonus|\n+-----------+-----+\n|          2|    0|\n|          3|    0|\n|          7| 7400|\n|          8|    0|\n|          9| 7700|\n+-----------+-----+\n\n"
     ]
    }
   ],
   "source": [
    "emp.createOrReplaceTempView(\"emp\")\n",
    "spark.sql(\"select employee_id, case when employee_id%2=1 and name not ilike 'm%' then salary else 0 end as bonus from emp order by 1\").show()\n",
    "\n",
    "spark.sql(\"select employee_id, if(employee_id%2=1 and name not ilike 'm%',salary,0) as bonus from emp order by 1\").show()"
   ]
  },
  {
   "cell_type": "code",
   "execution_count": 0,
   "metadata": {
    "application/vnd.databricks.v1+cell": {
     "cellMetadata": {
      "byteLimit": 2048000,
      "rowLimit": 10000
     },
     "inputWidgets": {},
     "nuid": "a147af11-4a73-4725-823a-70e97de9e638",
     "showTitle": false,
     "title": ""
    }
   },
   "outputs": [
    {
     "output_type": "display_data",
     "data": {
      "text/html": [
       "<style scoped>\n",
       "  .ansiout {\n",
       "    display: block;\n",
       "    unicode-bidi: embed;\n",
       "    white-space: pre-wrap;\n",
       "    word-wrap: break-word;\n",
       "    word-break: break-all;\n",
       "    font-family: \"Menlo\", \"Monaco\", \"Consolas\", \"Ubuntu Mono\", \"Source Code Pro\", monospace;\n",
       "    font-size: 13px;\n",
       "    color: #555;\n",
       "    margin-left: 4px;\n",
       "    line-height: 19px;\n",
       "  }\n",
       "</style>"
      ]
     },
     "metadata": {
      "application/vnd.databricks.v1+output": {
       "arguments": {},
       "data": "",
       "errorSummary": "The spark context has stopped and the driver is restarting. Your notebook will be automatically reattached.",
       "errorTraceType": "html",
       "metadata": {},
       "type": "ipynbError"
      }
     },
     "output_type": "display_data"
    }
   ],
   "source": [
    "spark.stop()"
   ]
  },
  {
   "cell_type": "code",
   "execution_count": 0,
   "metadata": {
    "application/vnd.databricks.v1+cell": {
     "cellMetadata": {},
     "inputWidgets": {},
     "nuid": "e948054e-acee-46bf-835a-55e682595903",
     "showTitle": false,
     "title": ""
    }
   },
   "outputs": [],
   "source": []
  }
 ],
 "metadata": {
  "application/vnd.databricks.v1+notebook": {
   "dashboards": [],
   "language": "python",
   "notebookMetadata": {
    "pythonIndentUnit": 4
   },
   "notebookName": "1873. Calculate Special Bonus",
   "widgets": {}
  }
 },
 "nbformat": 4,
 "nbformat_minor": 0
}
