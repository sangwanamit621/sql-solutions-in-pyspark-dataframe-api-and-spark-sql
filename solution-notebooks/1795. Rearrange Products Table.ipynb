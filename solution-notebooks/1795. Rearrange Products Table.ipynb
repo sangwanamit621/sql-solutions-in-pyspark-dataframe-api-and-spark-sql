{
 "cells": [
  {
   "cell_type": "code",
   "execution_count": 0,
   "metadata": {
    "application/vnd.databricks.v1+cell": {
     "cellMetadata": {
      "byteLimit": 2048000,
      "rowLimit": 10000
     },
     "inputWidgets": {},
     "nuid": "17c9b500-3c8a-415e-a217-88bd0f861610",
     "showTitle": false,
     "title": ""
    }
   },
   "outputs": [],
   "source": [
    "from pyspark import SparkConf\n",
    "from pyspark.sql.session import SparkSession\n",
    "from pyspark.sql.types import StructType,StructField,IntegerType\n",
    "from pyspark.sql.functions import col\n",
    "\n",
    "spark = SparkSession.builder.appName(\"app\").master(\"local[2]\").getOrCreate()"
   ]
  },
  {
   "cell_type": "code",
   "execution_count": 0,
   "metadata": {
    "application/vnd.databricks.v1+cell": {
     "cellMetadata": {
      "byteLimit": 2048000,
      "rowLimit": 10000
     },
     "inputWidgets": {},
     "nuid": "0f9e9fcc-655a-427e-be9d-b976b4677bb6",
     "showTitle": false,
     "title": ""
    }
   },
   "outputs": [
    {
     "output_type": "stream",
     "name": "stdout",
     "output_type": "stream",
     "text": [
      "+----------+------+------+------+\n|product_id|store1|store2|store3|\n+----------+------+------+------+\n|         0|    95|   100|   105|\n|         1|    70|  null|    80|\n+----------+------+------+------+\n\n"
     ]
    }
   ],
   "source": [
    "schema = StructType([\n",
    "    StructField(\"product_id\",IntegerType(),False),\n",
    "    StructField(\"store1\",IntegerType(),True),\n",
    "    StructField(\"store2\",IntegerType(),True),\n",
    "    StructField(\"store3\",IntegerType(),True)\n",
    "])\n",
    "data = [\n",
    "( 0          , 95     , 100    , 105  )  ,\n",
    "( 1          , 70     , None   , 80   )\n",
    "]\n",
    "products = spark.createDataFrame(data,schema)\n",
    "products.show()"
   ]
  },
  {
   "cell_type": "code",
   "execution_count": 0,
   "metadata": {
    "application/vnd.databricks.v1+cell": {
     "cellMetadata": {
      "byteLimit": 2048000,
      "rowLimit": 10000
     },
     "inputWidgets": {},
     "nuid": "9b63e86e-b82c-4b9f-bcf0-676098a948dc",
     "showTitle": false,
     "title": ""
    }
   },
   "outputs": [
    {
     "output_type": "stream",
     "name": "stdout",
     "output_type": "stream",
     "text": [
      "+----------+------+-----+\n|product_id| store|price|\n+----------+------+-----+\n|         0|store1|   95|\n|         0|store2|  100|\n|         0|store3|  105|\n|         1|store1|   70|\n|         1|store3|   80|\n+----------+------+-----+\n\n"
     ]
    }
   ],
   "source": [
    "# Write a solution to rearrange the Products table so that each row has (product_id, store, price). \n",
    "# If a product is not available in a store, do not include a row with that product_id and store combination in the result table.\n",
    "# Return the result table in any order.\n",
    "\n",
    "products.unpivot(\"product_id\",[\"store1\",\"store2\",\"store3\"],\"store\",\"price\").filter(col(\"price\").isNotNull()).show()"
   ]
  },
  {
   "cell_type": "code",
   "execution_count": 0,
   "metadata": {
    "application/vnd.databricks.v1+cell": {
     "cellMetadata": {
      "byteLimit": 2048000,
      "rowLimit": 10000
     },
     "inputWidgets": {},
     "nuid": "deb691a6-2a9e-4e19-81e5-6782e5d402f1",
     "showTitle": false,
     "title": ""
    }
   },
   "outputs": [
    {
     "output_type": "stream",
     "name": "stdout",
     "output_type": "stream",
     "text": [
      "+----------+------+-----+\n|product_id| store|price|\n+----------+------+-----+\n|         0|store1|   95|\n|         1|store1|   70|\n|         0|store2|  100|\n|         0|store3|  105|\n|         1|store3|   80|\n+----------+------+-----+\n\n"
     ]
    }
   ],
   "source": [
    "products.createOrReplaceTempView(\"p\")\n",
    "spark.sql(\"\"\"select product_id,'store1' as store, store1 as price from p where store1 is not null \n",
    "            union  \n",
    "            select product_id,'store2' as store, store2 as price from p where store2 is not null\n",
    "            union\n",
    "            select product_id,'store3' as store, store3 as price from p where store3 is not null\n",
    "            \"\"\").show()\n"
   ]
  },
  {
   "cell_type": "code",
   "execution_count": 0,
   "metadata": {
    "application/vnd.databricks.v1+cell": {
     "cellMetadata": {
      "byteLimit": 2048000,
      "rowLimit": 10000
     },
     "inputWidgets": {},
     "nuid": "983ac810-837b-4d34-a837-05f78c022119",
     "showTitle": false,
     "title": ""
    }
   },
   "outputs": [
    {
     "output_type": "display_data",
     "data": {
      "text/html": [
       "<style scoped>\n",
       "  .ansiout {\n",
       "    display: block;\n",
       "    unicode-bidi: embed;\n",
       "    white-space: pre-wrap;\n",
       "    word-wrap: break-word;\n",
       "    word-break: break-all;\n",
       "    font-family: \"Menlo\", \"Monaco\", \"Consolas\", \"Ubuntu Mono\", \"Source Code Pro\", monospace;\n",
       "    font-size: 13px;\n",
       "    color: #555;\n",
       "    margin-left: 4px;\n",
       "    line-height: 19px;\n",
       "  }\n",
       "</style>"
      ]
     },
     "metadata": {
      "application/vnd.databricks.v1+output": {
       "arguments": {},
       "data": "",
       "errorSummary": "The spark context has stopped and the driver is restarting. Your notebook will be automatically reattached.",
       "errorTraceType": "html",
       "metadata": {},
       "type": "ipynbError"
      }
     },
     "output_type": "display_data"
    }
   ],
   "source": [
    "spark.stop()"
   ]
  },
  {
   "cell_type": "code",
   "execution_count": 0,
   "metadata": {
    "application/vnd.databricks.v1+cell": {
     "cellMetadata": {},
     "inputWidgets": {},
     "nuid": "eba80d36-5d44-47b1-ba79-1c0244945e53",
     "showTitle": false,
     "title": ""
    }
   },
   "outputs": [],
   "source": []
  }
 ],
 "metadata": {
  "application/vnd.databricks.v1+notebook": {
   "dashboards": [],
   "language": "python",
   "notebookMetadata": {
    "pythonIndentUnit": 4
   },
   "notebookName": "1795. Rearrange Products Table",
   "widgets": {}
  }
 },
 "nbformat": 4,
 "nbformat_minor": 0
}
