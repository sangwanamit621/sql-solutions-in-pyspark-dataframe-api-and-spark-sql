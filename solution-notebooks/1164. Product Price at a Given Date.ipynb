{
 "cells": [
  {
   "cell_type": "code",
   "execution_count": 0,
   "metadata": {
    "application/vnd.databricks.v1+cell": {
     "cellMetadata": {
      "byteLimit": 2048000,
      "rowLimit": 10000
     },
     "inputWidgets": {},
     "nuid": "07788c85-c1fc-415c-8266-74b1689133db",
     "showTitle": false,
     "title": ""
    }
   },
   "outputs": [],
   "source": [
    "from pyspark import SparkConf\n",
    "from pyspark.sql.session import SparkSession\n",
    "from pyspark.sql.types import StructType,StructField,IntegerType,DateType\n",
    "from pyspark.sql.functions import col,rank\n",
    "from pyspark.sql.window import Window\n",
    "from datetime import datetime\n",
    "\n",
    "spark = SparkSession.builder.appName(\"app\").master(\"local[3]\").getOrCreate()"
   ]
  },
  {
   "cell_type": "code",
   "execution_count": 0,
   "metadata": {
    "application/vnd.databricks.v1+cell": {
     "cellMetadata": {
      "byteLimit": 2048000,
      "rowLimit": 10000
     },
     "inputWidgets": {},
     "nuid": "fe5c4176-0ef9-47f1-8b7a-8cc452498bb2",
     "showTitle": false,
     "title": ""
    }
   },
   "outputs": [
    {
     "output_type": "stream",
     "name": "stdout",
     "output_type": "stream",
     "text": [
      "+----------+---------+-----------+\n|product_id|new_price|change_date|\n+----------+---------+-----------+\n|         1|       20| 2019-08-14|\n|         2|       50| 2019-08-14|\n|         1|       30| 2019-08-15|\n|         1|       35| 2019-08-16|\n|         2|       65| 2019-08-17|\n|         3|       20| 2019-08-18|\n+----------+---------+-----------+\n\n"
     ]
    }
   ],
   "source": [
    "schema = StructType([\n",
    "    StructField(\"product_id\",IntegerType(),False),\n",
    "    StructField(\"new_price\",IntegerType(),False),\n",
    "    StructField(\"change_date\",DateType(),False)\n",
    "])\n",
    "data = [\n",
    "( 1          , 20        , datetime(2019,8,14 )) ,\n",
    "( 2          , 50        , datetime(2019,8,14 )) ,\n",
    "( 1          , 30        , datetime(2019,8,15 )) ,\n",
    "( 1          , 35        , datetime(2019,8,16 )) ,\n",
    "( 2          , 65        , datetime(2019,8,17 )) ,\n",
    "( 3          , 20        , datetime(2019,8,18 )) \n",
    "]\n",
    "products = spark.createDataFrame(data,schema)\n",
    "products.show()"
   ]
  },
  {
   "cell_type": "code",
   "execution_count": 0,
   "metadata": {
    "application/vnd.databricks.v1+cell": {
     "cellMetadata": {
      "byteLimit": 2048000,
      "rowLimit": 10000
     },
     "inputWidgets": {},
     "nuid": "68062206-86dd-45d2-aff5-8894dc88d2c1",
     "showTitle": false,
     "title": ""
    }
   },
   "outputs": [
    {
     "output_type": "stream",
     "name": "stdout",
     "output_type": "stream",
     "text": [
      "+----------+-----+\n|product_id|price|\n+----------+-----+\n|         1|   35|\n|         2|   50|\n|         3|   10|\n+----------+-----+\n\n"
     ]
    }
   ],
   "source": [
    "unique_products = products.alias(\"p1\").select(\"product_id\").distinct()\n",
    "window_spec = Window.partitionBy(\"product_id\").orderBy(col(\"change_date\").desc())\n",
    "price_on_16 = products.alias(\"p1\").filter(col('change_date')<='2019-08-16').select(\"product_id\",col(\"new_price\").alias(\"price\"),rank().over(window_spec).alias('rnk')).filter(col(\"rnk\")==1)\n",
    "unique_products.alias(\"up\").join(price_on_16.alias(\"p16\"),col(\"up.product_id\")==col(\"p16.product_id\"),'left').select(col(\"up.product_id\"),col(\"p16.price\")).fillna(10,['p16.price']).show()"
   ]
  },
  {
   "cell_type": "code",
   "execution_count": 0,
   "metadata": {
    "application/vnd.databricks.v1+cell": {
     "cellMetadata": {
      "byteLimit": 2048000,
      "rowLimit": 10000
     },
     "inputWidgets": {},
     "nuid": "f376bccf-3277-4319-a55d-830293a57941",
     "showTitle": false,
     "title": ""
    }
   },
   "outputs": [
    {
     "output_type": "stream",
     "name": "stdout",
     "output_type": "stream",
     "text": [
      "+----------+-----+\n|product_id|price|\n+----------+-----+\n|         1|   35|\n|         2|   50|\n|         3|   10|\n+----------+-----+\n\n"
     ]
    }
   ],
   "source": [
    "products.createOrReplaceTempView(\"products\")\n",
    "spark.sql(\"\"\"\n",
    "            with p2 as(\n",
    "                select distinct product_id,new_price as price, rank() over(partition by product_id order by change_date desc) as rnk from Products where change_date <= '2019-08-16'\n",
    "            )\n",
    "            select distinct p1.product_id, ifnull(p2.price,10) as price from Products p1 \n",
    "            left join  \n",
    "            p2  \n",
    "            on p1.product_id=p2.product_id and p2.rnk=1\"\"\").show()"
   ]
  },
  {
   "cell_type": "code",
   "execution_count": 0,
   "metadata": {
    "application/vnd.databricks.v1+cell": {
     "cellMetadata": {
      "byteLimit": 2048000,
      "rowLimit": 10000
     },
     "inputWidgets": {},
     "nuid": "af0ba3b3-8904-4ea3-b9a3-d65b2dde7972",
     "showTitle": false,
     "title": ""
    }
   },
   "outputs": [
    {
     "output_type": "display_data",
     "data": {
      "text/html": [
       "<style scoped>\n",
       "  .ansiout {\n",
       "    display: block;\n",
       "    unicode-bidi: embed;\n",
       "    white-space: pre-wrap;\n",
       "    word-wrap: break-word;\n",
       "    word-break: break-all;\n",
       "    font-family: \"Menlo\", \"Monaco\", \"Consolas\", \"Ubuntu Mono\", \"Source Code Pro\", monospace;\n",
       "    font-size: 13px;\n",
       "    color: #555;\n",
       "    margin-left: 4px;\n",
       "    line-height: 19px;\n",
       "  }\n",
       "</style>"
      ]
     },
     "metadata": {
      "application/vnd.databricks.v1+output": {
       "arguments": {},
       "data": "",
       "errorSummary": "The spark context has stopped and the driver is restarting. Your notebook will be automatically reattached.",
       "errorTraceType": "html",
       "metadata": {},
       "type": "ipynbError"
      }
     },
     "output_type": "display_data"
    }
   ],
   "source": [
    "spark.stop()"
   ]
  },
  {
   "cell_type": "code",
   "execution_count": 0,
   "metadata": {
    "application/vnd.databricks.v1+cell": {
     "cellMetadata": {},
     "inputWidgets": {},
     "nuid": "fd7d57b6-fe82-40be-83f8-83ff4456d353",
     "showTitle": false,
     "title": ""
    }
   },
   "outputs": [],
   "source": []
  }
 ],
 "metadata": {
  "application/vnd.databricks.v1+notebook": {
   "dashboards": [],
   "language": "python",
   "notebookMetadata": {
    "pythonIndentUnit": 4
   },
   "notebookName": "1164. Product Price at a Given Date",
   "widgets": {}
  }
 },
 "nbformat": 4,
 "nbformat_minor": 0
}
