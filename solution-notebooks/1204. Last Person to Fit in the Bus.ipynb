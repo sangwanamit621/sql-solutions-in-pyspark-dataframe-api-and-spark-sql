{
 "cells": [
  {
   "cell_type": "code",
   "execution_count": 0,
   "metadata": {
    "application/vnd.databricks.v1+cell": {
     "cellMetadata": {
      "byteLimit": 2048000,
      "rowLimit": 10000
     },
     "inputWidgets": {},
     "nuid": "909f992f-4994-48a6-ab58-687dbe94f1f1",
     "showTitle": false,
     "title": ""
    }
   },
   "outputs": [],
   "source": [
    "from pyspark import SparkConf\n",
    "from pyspark.sql.session import SparkSession\n",
    "from pyspark.sql.types import StructType,StructField,StringType,IntegerType\n",
    "from pyspark.sql.functions import col, sum\n",
    "from pyspark.sql.window import Window\n",
    "\n",
    "spark = SparkSession.builder.appName(\"app\").master(\"local[3]\").getOrCreate()"
   ]
  },
  {
   "cell_type": "code",
   "execution_count": 0,
   "metadata": {
    "application/vnd.databricks.v1+cell": {
     "cellMetadata": {
      "byteLimit": 2048000,
      "rowLimit": 10000
     },
     "inputWidgets": {},
     "nuid": "abb7d1a9-1064-4270-8e7f-b8a50cd91751",
     "showTitle": false,
     "title": ""
    }
   },
   "outputs": [
    {
     "output_type": "stream",
     "name": "stdout",
     "output_type": "stream",
     "text": [
      "+---------+-----------+------+----+\n|person_id|person_name|weight|turn|\n+---------+-----------+------+----+\n|        5|      Alice|   250|   1|\n|        4|        Bob|   175|   5|\n|        3|       Alex|   350|   2|\n|        6|  John Cena|   400|   3|\n|        1|    Winston|   500|   6|\n|        2|      Marie|   200|   4|\n+---------+-----------+------+----+\n\n"
     ]
    }
   ],
   "source": [
    "schema = [ 'person_id' , 'person_name' , 'weight' , 'turn' ]\n",
    "data = [\n",
    "( 5         , 'Alice'       , 250    , 1 )   ,\n",
    "( 4         , 'Bob'         , 175    , 5 )   ,\n",
    "( 3         , 'Alex'        , 350    , 2 )   ,\n",
    "( 6         , 'John Cena'   , 400    , 3 )   ,\n",
    "( 1         , 'Winston'     , 500    , 6 )   ,\n",
    "( 2         , 'Marie'       , 200    , 4 )   \n",
    "]\n",
    "queue = spark.createDataFrame(data,schema)\n",
    "queue.show()"
   ]
  },
  {
   "cell_type": "code",
   "execution_count": 0,
   "metadata": {
    "application/vnd.databricks.v1+cell": {
     "cellMetadata": {
      "byteLimit": 2048000,
      "rowLimit": 10000
     },
     "inputWidgets": {},
     "nuid": "ec2153b3-c219-468a-b980-fa2aaff6c3b4",
     "showTitle": false,
     "title": ""
    }
   },
   "outputs": [
    {
     "output_type": "stream",
     "name": "stdout",
     "output_type": "stream",
     "text": [
      "+-----------+\n|person_name|\n+-----------+\n|  John Cena|\n+-----------+\n\n"
     ]
    }
   ],
   "source": [
    "# There is a queue of people waiting to board a bus. However, the bus has a weight limit of 1000 kilograms, so there may be some people who cannot board.\n",
    "# Write a solution to find the person_name of the last person that can fit on the bus without exceeding the weight limit. The test cases are generated such that the first person does not exceed the weight limit.\n",
    "\n",
    "window_spec = Window.orderBy(\"turn\")\n",
    "queue.withColumn(\"total_weight\",sum(\"weight\").over(window_spec)).filter(col(\"total_weight\")<=1000).orderBy(col(\"total_weight\").desc()).select(\"person_name\").limit(1).show()"
   ]
  },
  {
   "cell_type": "code",
   "execution_count": 0,
   "metadata": {
    "application/vnd.databricks.v1+cell": {
     "cellMetadata": {
      "byteLimit": 2048000,
      "rowLimit": 10000
     },
     "inputWidgets": {},
     "nuid": "a4598407-84ff-498a-8081-c115c99509ef",
     "showTitle": false,
     "title": ""
    }
   },
   "outputs": [
    {
     "output_type": "stream",
     "name": "stdout",
     "output_type": "stream",
     "text": [
      "+-----------+\n|person_name|\n+-----------+\n|  John Cena|\n+-----------+\n\n"
     ]
    }
   ],
   "source": [
    "queue.createOrReplaceTempView(\"queue\")\n",
    "spark.sql(\"\"\"\n",
    "          with cte as (\n",
    "              select person_name, sum(weight) over(order by turn) total_weight from queue order by turn\n",
    "          )\n",
    "          select person_name from cte where total_weight<=1000 order by total_weight desc limit 1 \n",
    "          \"\"\").show()"
   ]
  },
  {
   "cell_type": "code",
   "execution_count": 0,
   "metadata": {
    "application/vnd.databricks.v1+cell": {
     "cellMetadata": {
      "byteLimit": 2048000,
      "rowLimit": 10000
     },
     "inputWidgets": {},
     "nuid": "8fd7bca3-016a-4b1f-a9a5-9061f3132b02",
     "showTitle": false,
     "title": ""
    }
   },
   "outputs": [
    {
     "output_type": "display_data",
     "data": {
      "text/html": [
       "<style scoped>\n",
       "  .ansiout {\n",
       "    display: block;\n",
       "    unicode-bidi: embed;\n",
       "    white-space: pre-wrap;\n",
       "    word-wrap: break-word;\n",
       "    word-break: break-all;\n",
       "    font-family: \"Menlo\", \"Monaco\", \"Consolas\", \"Ubuntu Mono\", \"Source Code Pro\", monospace;\n",
       "    font-size: 13px;\n",
       "    color: #555;\n",
       "    margin-left: 4px;\n",
       "    line-height: 19px;\n",
       "  }\n",
       "</style>"
      ]
     },
     "metadata": {
      "application/vnd.databricks.v1+output": {
       "arguments": {},
       "data": "",
       "errorSummary": "The spark context has stopped and the driver is restarting. Your notebook will be automatically reattached.",
       "errorTraceType": "html",
       "metadata": {},
       "type": "ipynbError"
      }
     },
     "output_type": "display_data"
    }
   ],
   "source": [
    "spark.stop()"
   ]
  },
  {
   "cell_type": "code",
   "execution_count": 0,
   "metadata": {
    "application/vnd.databricks.v1+cell": {
     "cellMetadata": {},
     "inputWidgets": {},
     "nuid": "138caad3-13fb-4ca0-886e-26d328f76c2b",
     "showTitle": false,
     "title": ""
    }
   },
   "outputs": [],
   "source": []
  }
 ],
 "metadata": {
  "application/vnd.databricks.v1+notebook": {
   "dashboards": [],
   "language": "python",
   "notebookMetadata": {
    "pythonIndentUnit": 4
   },
   "notebookName": "1204. Last Person to Fit in the Bus",
   "widgets": {}
  }
 },
 "nbformat": 4,
 "nbformat_minor": 0
}
